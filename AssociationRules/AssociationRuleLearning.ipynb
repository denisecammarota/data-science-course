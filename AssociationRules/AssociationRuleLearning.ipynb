{
  "nbformat": 4,
  "nbformat_minor": 0,
  "metadata": {
    "colab": {
      "name": "AssociationRuleLearning.ipynb",
      "provenance": [],
      "authorship_tag": "ABX9TyM9lt+0M3PTYHdkn+ASzpuI",
      "include_colab_link": true
    },
    "kernelspec": {
      "name": "ir",
      "display_name": "R"
    },
    "language_info": {
      "name": "R"
    }
  },
  "cells": [
    {
      "cell_type": "markdown",
      "metadata": {
        "id": "view-in-github",
        "colab_type": "text"
      },
      "source": [
        "<a href=\"https://colab.research.google.com/github/denisecammarota/data-science-course/blob/main/AssociationRules/AssociationRuleLearning.ipynb\" target=\"_parent\"><img src=\"https://colab.research.google.com/assets/colab-badge.svg\" alt=\"Open In Colab\"/></a>"
      ]
    },
    {
      "cell_type": "markdown",
      "source": [
        "# Association Rule Learning Practical Class\n",
        "\n",
        "This is the practical class on association rule learning in R. In this case, we will select telemarketers based on personality criteria and demographic data to answer the question of what makes a good telemarketer. Meaning, which one we can hire without fear of regretting it later. \n",
        "\n",
        "First, we load the data and the library $arules$ which we will use for creating association rules. "
      ],
      "metadata": {
        "id": "a-_IKtUatVCX"
      }
    },
    {
      "cell_type": "code",
      "source": [
        "install.packages(\"arules\")"
      ],
      "metadata": {
        "colab": {
          "base_uri": "https://localhost:8080/"
        },
        "id": "OZjzJgHdx6RJ",
        "outputId": "fc371d72-1dff-4cd2-ab02-2c97fa49ebb0"
      },
      "execution_count": 14,
      "outputs": [
        {
          "output_type": "stream",
          "name": "stderr",
          "text": [
            "Installing package into ‘/usr/local/lib/R/site-library’\n",
            "(as ‘lib’ is unspecified)\n",
            "\n"
          ]
        }
      ]
    },
    {
      "cell_type": "code",
      "execution_count": 15,
      "metadata": {
        "id": "6ycVC8R6tGds"
      },
      "outputs": [],
      "source": [
        "library(arules)"
      ]
    },
    {
      "cell_type": "code",
      "source": [
        "h <- read.csv('candidatos.csv',sep=',')"
      ],
      "metadata": {
        "id": "7HbS8USix14d"
      },
      "execution_count": 22,
      "outputs": []
    },
    {
      "cell_type": "code",
      "source": [
        "head(h)"
      ],
      "metadata": {
        "colab": {
          "base_uri": "https://localhost:8080/",
          "height": 306
        },
        "id": "9W4JUyIQyrK6",
        "outputId": "d4413273-0459-486b-9fb0-afecd264aa66"
      },
      "execution_count": 23,
      "outputs": [
        {
          "output_type": "display_data",
          "data": {
            "text/html": [
              "<table class=\"dataframe\">\n",
              "<caption>A data.frame: 6 × 31</caption>\n",
              "<thead>\n",
              "\t<tr><th></th><th scope=col>X</th><th scope=col>Id</th><th scope=col>Apellido</th><th scope=col>Nombre</th><th scope=col>Propio</th><th scope=col>Padre</th><th scope=col>Madre</th><th scope=col>PIngFam</th><th scope=col>IngFam</th><th scope=col>Hijos</th><th scope=col>⋯</th><th scope=col>Conciente</th><th scope=col>Espiritual</th><th scope=col>Impulsivo</th><th scope=col>Desordenado</th><th scope=col>Temeroso</th><th scope=col>Vago</th><th scope=col>Apego</th><th scope=col>Empatia</th><th scope=col>Compasivo</th><th scope=col>VxH</th></tr>\n",
              "\t<tr><th></th><th scope=col>&lt;int&gt;</th><th scope=col>&lt;int&gt;</th><th scope=col>&lt;chr&gt;</th><th scope=col>&lt;chr&gt;</th><th scope=col>&lt;chr&gt;</th><th scope=col>&lt;chr&gt;</th><th scope=col>&lt;chr&gt;</th><th scope=col>&lt;dbl&gt;</th><th scope=col>&lt;dbl&gt;</th><th scope=col>&lt;int&gt;</th><th scope=col>⋯</th><th scope=col>&lt;dbl&gt;</th><th scope=col>&lt;dbl&gt;</th><th scope=col>&lt;dbl&gt;</th><th scope=col>&lt;dbl&gt;</th><th scope=col>&lt;dbl&gt;</th><th scope=col>&lt;dbl&gt;</th><th scope=col>&lt;dbl&gt;</th><th scope=col>&lt;dbl&gt;</th><th scope=col>&lt;dbl&gt;</th><th scope=col>&lt;dbl&gt;</th></tr>\n",
              "</thead>\n",
              "<tbody>\n",
              "\t<tr><th scope=row>1</th><td>2001</td><td>2001</td><td>IEEDT</td><td>HXNNE</td><td>P</td><td>S</td><td>U</td><td>0.63543626</td><td>24067.7992</td><td>3</td><td>⋯</td><td>0.66820965</td><td>0.0712635</td><td>0.4320820</td><td>0.6290097</td><td>0.6371866</td><td>0.4142663</td><td>0.9931040</td><td>0.6354392</td><td>0.3917132</td><td>0.6680559</td></tr>\n",
              "\t<tr><th scope=row>2</th><td>2002</td><td>2002</td><td>QBGGM</td><td>EFSDQ</td><td>S</td><td>S</td><td>S</td><td>0.04048093</td><td>  888.6913</td><td>0</td><td>⋯</td><td>0.01280303</td><td>0.8834866</td><td>0.6356267</td><td>0.5468446</td><td>0.1612755</td><td>0.9786670</td><td>0.7558528</td><td>0.7264911</td><td>0.4026891</td><td>0.5772992</td></tr>\n",
              "\t<tr><th scope=row>3</th><td>2003</td><td>2003</td><td>HYTBY</td><td>OXHIO</td><td>P</td><td>P</td><td>P</td><td>0.83330052</td><td> 9538.7510</td><td>3</td><td>⋯</td><td>0.68629221</td><td>0.7884684</td><td>0.7590972</td><td>0.3675028</td><td>0.9329197</td><td>0.7309785</td><td>0.7376015</td><td>0.6763783</td><td>0.5326494</td><td>0.6649263</td></tr>\n",
              "\t<tr><th scope=row>4</th><td>2004</td><td>2004</td><td>YGBVR</td><td>NROUL</td><td>P</td><td>P</td><td>S</td><td>0.05665509</td><td>36689.7745</td><td>0</td><td>⋯</td><td>0.38174567</td><td>0.4943618</td><td>0.5358783</td><td>0.8752060</td><td>0.4391167</td><td>0.0367856</td><td>0.4507340</td><td>0.7834669</td><td>0.3943883</td><td>0.4975534</td></tr>\n",
              "\t<tr><th scope=row>5</th><td>2005</td><td>2005</td><td>GBKJI</td><td>XBTPE</td><td>U</td><td>U</td><td>S</td><td>0.87843791</td><td>15619.1058</td><td>0</td><td>⋯</td><td>0.17559079</td><td>0.4795508</td><td>0.5323704</td><td>0.2934754</td><td>0.3472154</td><td>0.6083721</td><td>0.5479184</td><td>0.7309708</td><td>0.6152700</td><td>0.6783669</td></tr>\n",
              "\t<tr><th scope=row>6</th><td>2006</td><td>2006</td><td>TTYAA</td><td>LVRFW</td><td>S</td><td>P</td><td>P</td><td>0.38670005</td><td>18460.1819</td><td>4</td><td>⋯</td><td>0.24953534</td><td>0.3831869</td><td>0.9662643</td><td>0.6909347</td><td>0.8445829</td><td>0.4935160</td><td>0.1555895</td><td>0.3283420</td><td>0.3285059</td><td>0.9715845</td></tr>\n",
              "</tbody>\n",
              "</table>\n"
            ],
            "text/markdown": "\nA data.frame: 6 × 31\n\n| <!--/--> | X &lt;int&gt; | Id &lt;int&gt; | Apellido &lt;chr&gt; | Nombre &lt;chr&gt; | Propio &lt;chr&gt; | Padre &lt;chr&gt; | Madre &lt;chr&gt; | PIngFam &lt;dbl&gt; | IngFam &lt;dbl&gt; | Hijos &lt;int&gt; | ⋯ ⋯ | Conciente &lt;dbl&gt; | Espiritual &lt;dbl&gt; | Impulsivo &lt;dbl&gt; | Desordenado &lt;dbl&gt; | Temeroso &lt;dbl&gt; | Vago &lt;dbl&gt; | Apego &lt;dbl&gt; | Empatia &lt;dbl&gt; | Compasivo &lt;dbl&gt; | VxH &lt;dbl&gt; |\n|---|---|---|---|---|---|---|---|---|---|---|---|---|---|---|---|---|---|---|---|---|---|\n| 1 | 2001 | 2001 | IEEDT | HXNNE | P | S | U | 0.63543626 | 24067.7992 | 3 | ⋯ | 0.66820965 | 0.0712635 | 0.4320820 | 0.6290097 | 0.6371866 | 0.4142663 | 0.9931040 | 0.6354392 | 0.3917132 | 0.6680559 |\n| 2 | 2002 | 2002 | QBGGM | EFSDQ | S | S | S | 0.04048093 |   888.6913 | 0 | ⋯ | 0.01280303 | 0.8834866 | 0.6356267 | 0.5468446 | 0.1612755 | 0.9786670 | 0.7558528 | 0.7264911 | 0.4026891 | 0.5772992 |\n| 3 | 2003 | 2003 | HYTBY | OXHIO | P | P | P | 0.83330052 |  9538.7510 | 3 | ⋯ | 0.68629221 | 0.7884684 | 0.7590972 | 0.3675028 | 0.9329197 | 0.7309785 | 0.7376015 | 0.6763783 | 0.5326494 | 0.6649263 |\n| 4 | 2004 | 2004 | YGBVR | NROUL | P | P | S | 0.05665509 | 36689.7745 | 0 | ⋯ | 0.38174567 | 0.4943618 | 0.5358783 | 0.8752060 | 0.4391167 | 0.0367856 | 0.4507340 | 0.7834669 | 0.3943883 | 0.4975534 |\n| 5 | 2005 | 2005 | GBKJI | XBTPE | U | U | S | 0.87843791 | 15619.1058 | 0 | ⋯ | 0.17559079 | 0.4795508 | 0.5323704 | 0.2934754 | 0.3472154 | 0.6083721 | 0.5479184 | 0.7309708 | 0.6152700 | 0.6783669 |\n| 6 | 2006 | 2006 | TTYAA | LVRFW | S | P | P | 0.38670005 | 18460.1819 | 4 | ⋯ | 0.24953534 | 0.3831869 | 0.9662643 | 0.6909347 | 0.8445829 | 0.4935160 | 0.1555895 | 0.3283420 | 0.3285059 | 0.9715845 |\n\n",
            "text/latex": "A data.frame: 6 × 31\n\\begin{tabular}{r|lllllllllllllllllllll}\n  & X & Id & Apellido & Nombre & Propio & Padre & Madre & PIngFam & IngFam & Hijos & ⋯ & Conciente & Espiritual & Impulsivo & Desordenado & Temeroso & Vago & Apego & Empatia & Compasivo & VxH\\\\\n  & <int> & <int> & <chr> & <chr> & <chr> & <chr> & <chr> & <dbl> & <dbl> & <int> & ⋯ & <dbl> & <dbl> & <dbl> & <dbl> & <dbl> & <dbl> & <dbl> & <dbl> & <dbl> & <dbl>\\\\\n\\hline\n\t1 & 2001 & 2001 & IEEDT & HXNNE & P & S & U & 0.63543626 & 24067.7992 & 3 & ⋯ & 0.66820965 & 0.0712635 & 0.4320820 & 0.6290097 & 0.6371866 & 0.4142663 & 0.9931040 & 0.6354392 & 0.3917132 & 0.6680559\\\\\n\t2 & 2002 & 2002 & QBGGM & EFSDQ & S & S & S & 0.04048093 &   888.6913 & 0 & ⋯ & 0.01280303 & 0.8834866 & 0.6356267 & 0.5468446 & 0.1612755 & 0.9786670 & 0.7558528 & 0.7264911 & 0.4026891 & 0.5772992\\\\\n\t3 & 2003 & 2003 & HYTBY & OXHIO & P & P & P & 0.83330052 &  9538.7510 & 3 & ⋯ & 0.68629221 & 0.7884684 & 0.7590972 & 0.3675028 & 0.9329197 & 0.7309785 & 0.7376015 & 0.6763783 & 0.5326494 & 0.6649263\\\\\n\t4 & 2004 & 2004 & YGBVR & NROUL & P & P & S & 0.05665509 & 36689.7745 & 0 & ⋯ & 0.38174567 & 0.4943618 & 0.5358783 & 0.8752060 & 0.4391167 & 0.0367856 & 0.4507340 & 0.7834669 & 0.3943883 & 0.4975534\\\\\n\t5 & 2005 & 2005 & GBKJI & XBTPE & U & U & S & 0.87843791 & 15619.1058 & 0 & ⋯ & 0.17559079 & 0.4795508 & 0.5323704 & 0.2934754 & 0.3472154 & 0.6083721 & 0.5479184 & 0.7309708 & 0.6152700 & 0.6783669\\\\\n\t6 & 2006 & 2006 & TTYAA & LVRFW & S & P & P & 0.38670005 & 18460.1819 & 4 & ⋯ & 0.24953534 & 0.3831869 & 0.9662643 & 0.6909347 & 0.8445829 & 0.4935160 & 0.1555895 & 0.3283420 & 0.3285059 & 0.9715845\\\\\n\\end{tabular}\n",
            "text/plain": [
              "  X    Id   Apellido Nombre Propio Padre Madre PIngFam    IngFam     Hijos ⋯\n",
              "1 2001 2001 IEEDT    HXNNE  P      S     U     0.63543626 24067.7992 3     ⋯\n",
              "2 2002 2002 QBGGM    EFSDQ  S      S     S     0.04048093   888.6913 0     ⋯\n",
              "3 2003 2003 HYTBY    OXHIO  P      P     P     0.83330052  9538.7510 3     ⋯\n",
              "4 2004 2004 YGBVR    NROUL  P      P     S     0.05665509 36689.7745 0     ⋯\n",
              "5 2005 2005 GBKJI    XBTPE  U      U     S     0.87843791 15619.1058 0     ⋯\n",
              "6 2006 2006 TTYAA    LVRFW  S      P     P     0.38670005 18460.1819 4     ⋯\n",
              "  Conciente  Espiritual Impulsivo Desordenado Temeroso  Vago      Apego    \n",
              "1 0.66820965 0.0712635  0.4320820 0.6290097   0.6371866 0.4142663 0.9931040\n",
              "2 0.01280303 0.8834866  0.6356267 0.5468446   0.1612755 0.9786670 0.7558528\n",
              "3 0.68629221 0.7884684  0.7590972 0.3675028   0.9329197 0.7309785 0.7376015\n",
              "4 0.38174567 0.4943618  0.5358783 0.8752060   0.4391167 0.0367856 0.4507340\n",
              "5 0.17559079 0.4795508  0.5323704 0.2934754   0.3472154 0.6083721 0.5479184\n",
              "6 0.24953534 0.3831869  0.9662643 0.6909347   0.8445829 0.4935160 0.1555895\n",
              "  Empatia   Compasivo VxH      \n",
              "1 0.6354392 0.3917132 0.6680559\n",
              "2 0.7264911 0.4026891 0.5772992\n",
              "3 0.6763783 0.5326494 0.6649263\n",
              "4 0.7834669 0.3943883 0.4975534\n",
              "5 0.7309708 0.6152700 0.6783669\n",
              "6 0.3283420 0.3285059 0.9715845"
            ]
          },
          "metadata": {}
        }
      ]
    },
    {
      "cell_type": "code",
      "source": [
        "str(h)"
      ],
      "metadata": {
        "colab": {
          "base_uri": "https://localhost:8080/"
        },
        "id": "e2_YJM-6zEZr",
        "outputId": "9e1ee812-5bcd-4783-ba3a-cea99bb47560"
      },
      "execution_count": 24,
      "outputs": [
        {
          "output_type": "stream",
          "name": "stdout",
          "text": [
            "'data.frame':\t8001 obs. of  31 variables:\n",
            " $ X           : int  2001 2002 2003 2004 2005 2006 2007 2008 2009 2010 ...\n",
            " $ Id          : int  2001 2002 2003 2004 2005 2006 2007 2008 2009 2010 ...\n",
            " $ Apellido    : chr  \"IEEDT\" \"QBGGM\" \"HYTBY\" \"YGBVR\" ...\n",
            " $ Nombre      : chr  \"HXNNE\" \"EFSDQ\" \"OXHIO\" \"NROUL\" ...\n",
            " $ Propio      : chr  \"P\" \"S\" \"P\" \"P\" ...\n",
            " $ Padre       : chr  \"S\" \"S\" \"P\" \"P\" ...\n",
            " $ Madre       : chr  \"U\" \"S\" \"P\" \"S\" ...\n",
            " $ PIngFam     : num  0.6354 0.0405 0.8333 0.0567 0.8784 ...\n",
            " $ IngFam      : num  24068 889 9539 36690 15619 ...\n",
            " $ Hijos       : int  3 0 3 0 0 4 0 0 3 0 ...\n",
            " $ Exitable    : num  0.77 0.19 0.717 0.924 0.166 ...\n",
            " $ Extravagante: num  0.6502 0.3506 0.3672 0.0615 0.8331 ...\n",
            " $ Pesimista   : num  0.2289 0.8741 0.0403 0.726 0.6591 ...\n",
            " $ Timido      : num  0.839029 0.815702 0.000757 0.969466 0.711536 ...\n",
            " $ Sentimental : num  0.773 0.86 0.577 0.412 0.952 ...\n",
            " $ Dependiente : num  0.771 0.00442 0.14761 0.50521 0.08016 ...\n",
            " $ Responsable : num  0.309 0.956 0.748 0.456 0.228 ...\n",
            " $ Capaz       : num  0.311 0.64 0.195 0.419 0.597 ...\n",
            " $ Sociable    : num  0.2352 0.62 0.9921 0.0826 0.7445 ...\n",
            " $ Servicial   : num  0.938 0.315 0.283 0.969 0.684 ...\n",
            " $ Etico       : num  0.943 0.34 0.881 0.821 0.286 ...\n",
            " $ Conciente   : num  0.6682 0.0128 0.6863 0.3817 0.1756 ...\n",
            " $ Espiritual  : num  0.0713 0.8835 0.7885 0.4944 0.4796 ...\n",
            " $ Impulsivo   : num  0.432 0.636 0.759 0.536 0.532 ...\n",
            " $ Desordenado : num  0.629 0.547 0.368 0.875 0.293 ...\n",
            " $ Temeroso    : num  0.637 0.161 0.933 0.439 0.347 ...\n",
            " $ Vago        : num  0.4143 0.9787 0.731 0.0368 0.6084 ...\n",
            " $ Apego       : num  0.993 0.756 0.738 0.451 0.548 ...\n",
            " $ Empatia     : num  0.635 0.726 0.676 0.783 0.731 ...\n",
            " $ Compasivo   : num  0.392 0.403 0.533 0.394 0.615 ...\n",
            " $ VxH         : num  0.668 0.577 0.665 0.498 0.678 ...\n"
          ]
        }
      ]
    },
    {
      "cell_type": "markdown",
      "source": [
        "First, we have to discretize some of the variables, since we will use a method that goes from categorical data to categorical data. This is the discretize method in R which allows us to go from numeric to categorical data. A few errors arise because of the outdated use of the function in class. "
      ],
      "metadata": {
        "id": "-ldM8vgKyNCY"
      }
    },
    {
      "cell_type": "code",
      "source": [
        "h$PIngFam <- discretize(h$PIngFam,categories=c(0,.2,.4,.6,.8,1.0),method='fixed')\n",
        "h$Exitable <- discretize(h$Exitable,categories=c(0,.2,.4,.6,.8,1.0),method='fixed')\n",
        "h$Extravagante <- discretize(h$Extravagante,categories=c(0,.2,.4,.6,.8,1.0),method='fixed')\n",
        "h$Pesimista <- discretize(h$Pesimista,categories=c(0,.2,.4,.6,.8,1.0),method='fixed')\n",
        "h$Timido <- discretize(h$Timido,categories=c(0,.2,.4,.6,.8,1.0),method='fixed')\n",
        "h$Sentimental <- discretize(h$Sentimental,categories=c(0,.2,.4,.6,.8,1.0),method='fixed')\n",
        "h$Dependiente <- discretize(h$Dependiente,categories=c(0,.2,.4,.6,.8,1.0),method='fixed')\n",
        "h$Responsable <- discretize(h$Responsable,categories=c(0,.2,.4,.6,.8,1.0),method='fixed')\n",
        "h$Capaz <- discretize(h$Capaz,categories=c(0,.2,.4,.6,.8,1.0),method='fixed')\n",
        "h$Sociable <- discretize(h$Sociable,categories=c(0,.2,.4,.6,.8,1.0),method='fixed')\n",
        "h$Servicial <- discretize(h$Servicial,categories=c(0,.2,.4,.6,.8,1.0),method='fixed')\n",
        "h$Etico <- discretize(h$Etico,categories=c(0,.2,.4,.6,.8,1.0),method='fixed')\n",
        "h$Conciente <- discretize(h$Conciente,categories=c(0,.2,.4,.6,.8,1.0),method='fixed')\n",
        "h$Espiritual <- discretize(h$Espiritual,categories=c(0,.2,.4,.6,.8,1.0),method='fixed')\n",
        "h$Impulsivo <- discretize(h$Impulsivo,categories=c(0,.2,.4,.6,.8,1.0),method='fixed')\n",
        "h$Desordenado <- discretize(h$Desordenado,categories=c(0,.2,.4,.6,.8,1.0),method='fixed')\n",
        "h$Temeroso <- discretize(h$Temeroso,categories=c(0,.2,.4,.6,.8,1.0),method='fixed')\n",
        "h$Vago <- discretize(h$Vago,categories=c(0,.2,.4,.6,.8,1.0),method='fixed')\n",
        "h$Apego <- discretize(h$Apego,categories=c(0,.2,.4,.6,.8,1.0),method='fixed')\n",
        "h$Empatia <- discretize(h$Empatia,categories=c(0,.2,.4,.6,.8,1.0),method='fixed')\n",
        "h$Compasivo <- discretize(h$Compasivo,categories=c(0,.2,.4,.6,.8,1.0),method='fixed')"
      ],
      "metadata": {
        "colab": {
          "base_uri": "https://localhost:8080/"
        },
        "id": "-79uK7gZyUJ9",
        "outputId": "99f6a456-ce8f-43c3-b008-ecfebbdb0460"
      },
      "execution_count": 25,
      "outputs": [
        {
          "output_type": "stream",
          "name": "stderr",
          "text": [
            "Warning message in discretize(h$PIngFam, categories = c(0, 0.2, 0.4, 0.6, 0.8, 1), :\n",
            "“Parameter categories is deprecated. Use breaks instead! Also, the default method is now frequency!”\n",
            "Warning message in discretize(h$Exitable, categories = c(0, 0.2, 0.4, 0.6, 0.8, :\n",
            "“Parameter categories is deprecated. Use breaks instead! Also, the default method is now frequency!”\n",
            "Warning message in discretize(h$Extravagante, categories = c(0, 0.2, 0.4, 0.6, 0.8, :\n",
            "“Parameter categories is deprecated. Use breaks instead! Also, the default method is now frequency!”\n",
            "Warning message in discretize(h$Pesimista, categories = c(0, 0.2, 0.4, 0.6, 0.8, :\n",
            "“Parameter categories is deprecated. Use breaks instead! Also, the default method is now frequency!”\n",
            "Warning message in discretize(h$Timido, categories = c(0, 0.2, 0.4, 0.6, 0.8, 1), :\n",
            "“Parameter categories is deprecated. Use breaks instead! Also, the default method is now frequency!”\n",
            "Warning message in discretize(h$Sentimental, categories = c(0, 0.2, 0.4, 0.6, 0.8, :\n",
            "“Parameter categories is deprecated. Use breaks instead! Also, the default method is now frequency!”\n",
            "Warning message in discretize(h$Dependiente, categories = c(0, 0.2, 0.4, 0.6, 0.8, :\n",
            "“Parameter categories is deprecated. Use breaks instead! Also, the default method is now frequency!”\n",
            "Warning message in discretize(h$Responsable, categories = c(0, 0.2, 0.4, 0.6, 0.8, :\n",
            "“Parameter categories is deprecated. Use breaks instead! Also, the default method is now frequency!”\n",
            "Warning message in discretize(h$Capaz, categories = c(0, 0.2, 0.4, 0.6, 0.8, 1), :\n",
            "“Parameter categories is deprecated. Use breaks instead! Also, the default method is now frequency!”\n",
            "Warning message in discretize(h$Sociable, categories = c(0, 0.2, 0.4, 0.6, 0.8, :\n",
            "“Parameter categories is deprecated. Use breaks instead! Also, the default method is now frequency!”\n",
            "Warning message in discretize(h$Servicial, categories = c(0, 0.2, 0.4, 0.6, 0.8, :\n",
            "“Parameter categories is deprecated. Use breaks instead! Also, the default method is now frequency!”\n",
            "Warning message in discretize(h$Etico, categories = c(0, 0.2, 0.4, 0.6, 0.8, 1), :\n",
            "“Parameter categories is deprecated. Use breaks instead! Also, the default method is now frequency!”\n",
            "Warning message in discretize(h$Conciente, categories = c(0, 0.2, 0.4, 0.6, 0.8, :\n",
            "“Parameter categories is deprecated. Use breaks instead! Also, the default method is now frequency!”\n",
            "Warning message in discretize(h$Espiritual, categories = c(0, 0.2, 0.4, 0.6, 0.8, :\n",
            "“Parameter categories is deprecated. Use breaks instead! Also, the default method is now frequency!”\n",
            "Warning message in discretize(h$Impulsivo, categories = c(0, 0.2, 0.4, 0.6, 0.8, :\n",
            "“Parameter categories is deprecated. Use breaks instead! Also, the default method is now frequency!”\n",
            "Warning message in discretize(h$Desordenado, categories = c(0, 0.2, 0.4, 0.6, 0.8, :\n",
            "“Parameter categories is deprecated. Use breaks instead! Also, the default method is now frequency!”\n",
            "Warning message in discretize(h$Temeroso, categories = c(0, 0.2, 0.4, 0.6, 0.8, :\n",
            "“Parameter categories is deprecated. Use breaks instead! Also, the default method is now frequency!”\n",
            "Warning message in discretize(h$Vago, categories = c(0, 0.2, 0.4, 0.6, 0.8, 1), :\n",
            "“Parameter categories is deprecated. Use breaks instead! Also, the default method is now frequency!”\n",
            "Warning message in discretize(h$Apego, categories = c(0, 0.2, 0.4, 0.6, 0.8, 1), :\n",
            "“Parameter categories is deprecated. Use breaks instead! Also, the default method is now frequency!”\n",
            "Warning message in discretize(h$Empatia, categories = c(0, 0.2, 0.4, 0.6, 0.8, 1), :\n",
            "“Parameter categories is deprecated. Use breaks instead! Also, the default method is now frequency!”\n",
            "Warning message in discretize(h$Compasivo, categories = c(0, 0.2, 0.4, 0.6, 0.8, :\n",
            "“Parameter categories is deprecated. Use breaks instead! Also, the default method is now frequency!”\n"
          ]
        }
      ]
    },
    {
      "cell_type": "code",
      "source": [
        "h$Hijos <- discretize(h$Hijos,categories=c(0,1,2,3,4,5,6),method='fixed')"
      ],
      "metadata": {
        "colab": {
          "base_uri": "https://localhost:8080/"
        },
        "id": "4IwWXebr4ETL",
        "outputId": "1f4740df-0f56-4b2b-8c5b-f2dd5db87f91"
      },
      "execution_count": 26,
      "outputs": [
        {
          "output_type": "stream",
          "name": "stderr",
          "text": [
            "Warning message in discretize(h$Hijos, categories = c(0, 1, 2, 3, 4, 5, 6), method = \"fixed\"):\n",
            "“Parameter categories is deprecated. Use breaks instead! Also, the default method is now frequency!”\n"
          ]
        }
      ]
    },
    {
      "cell_type": "code",
      "source": [
        "h$IngFam <- discretize(h$IngFam,breaks=5)"
      ],
      "metadata": {
        "id": "8GRM3LZZ7WV1"
      },
      "execution_count": 27,
      "outputs": []
    },
    {
      "cell_type": "markdown",
      "source": [
        "Now we organize the output with the VxH attribute, which indicates how much a person sells per call. "
      ],
      "metadata": {
        "id": "H64XrxKl1gnR"
      }
    },
    {
      "cell_type": "code",
      "source": [
        "aceptable <- ifelse(h$VxH >= 0.75,1,0)\n",
        "h <- cbind(h,aceptable)\n",
        "h$aceptable <- as.factor(h$aceptable)"
      ],
      "metadata": {
        "id": "jn3PHsDH0h_c"
      },
      "execution_count": 29,
      "outputs": []
    },
    {
      "cell_type": "markdown",
      "source": [
        "Now we will eliminate everything we will not use. "
      ],
      "metadata": {
        "id": "DGqgr5Ft19FF"
      }
    },
    {
      "cell_type": "code",
      "source": [
        "h$VxH <- NULL\n",
        "h$X <- NULL\n",
        "h$Id <- NULL\n",
        "h$Nombre <- NULL\n",
        "h$Apellido <- NULL"
      ],
      "metadata": {
        "id": "OquzX8FG0h7K"
      },
      "execution_count": 30,
      "outputs": []
    },
    {
      "cell_type": "markdown",
      "source": [
        "And now we divide into train and test datasets."
      ],
      "metadata": {
        "id": "tQqQ-ozM2MKD"
      }
    },
    {
      "cell_type": "code",
      "source": [
        "x <- runif(nrow(h))\n",
        "htrain <- h[which(x<0.7),]\n",
        "htest <- h[which(x >= 0.7),]"
      ],
      "metadata": {
        "id": "JFznZWus2CcL"
      },
      "execution_count": 31,
      "outputs": []
    },
    {
      "cell_type": "markdown",
      "source": [
        "Now we will finally train the association rules using the apriori algorithm. We will select rules that are more than 4% of cases and with a confidence of 75% for the aceptable attribute. "
      ],
      "metadata": {
        "id": "sORx1IIR2nWt"
      }
    },
    {
      "cell_type": "code",
      "source": [
        "reglas <- apriori(htrain,parameter=list(support=0.04,confidence=0.75),appearance = list(rhs=c(\"aceptable=1\",\"aceptable=0\")))"
      ],
      "metadata": {
        "colab": {
          "base_uri": "https://localhost:8080/"
        },
        "id": "yYOVYFSa2nIh",
        "outputId": "4a12d473-1399-459e-b118-af9f86b4dc89"
      },
      "execution_count": 32,
      "outputs": [
        {
          "output_type": "stream",
          "name": "stderr",
          "text": [
            "Warning message:\n",
            "“Column(s) 1, 2, 3 not logical or factor. Applying default discretization (see '? discretizeDF').”\n"
          ]
        },
        {
          "output_type": "stream",
          "name": "stdout",
          "text": [
            "Apriori\n",
            "\n",
            "Parameter specification:\n",
            " confidence minval smax arem  aval originalSupport maxtime support minlen\n",
            "       0.75    0.1    1 none FALSE            TRUE       5    0.04      1\n",
            " maxlen target  ext\n",
            "     10  rules TRUE\n",
            "\n",
            "Algorithmic control:\n",
            " filter tree heap memopt load sort verbose\n",
            "    0.1 TRUE TRUE  FALSE TRUE    2    TRUE\n",
            "\n",
            "Absolute minimum support count: 223 \n",
            "\n",
            "set item appearances ...[2 item(s)] done [0.00s].\n",
            "set transactions ...[126 item(s), 5592 transaction(s)] done [0.01s].\n",
            "sorting and recoding items ... [126 item(s)] done [0.00s].\n",
            "creating transaction tree ... done [0.00s].\n",
            "checking subsets of size 1 2 3 4 5 done [0.07s].\n",
            "writing ... [1882 rule(s)] done [0.00s].\n",
            "creating S4 object  ... done [0.00s].\n"
          ]
        }
      ]
    },
    {
      "cell_type": "markdown",
      "source": [
        "Now after doing that, we will order by confidence level, and visualize the association rules. We encounter a huge problem, which is that we haven't produced any rules with aceptable = 1. That means, we have not found rules to actually employ people. This is because there are very few people who are good at their job. Before, we have been employing mostly people who aren't nice for the task at hand. "
      ],
      "metadata": {
        "id": "VwssYU4Y72uX"
      }
    },
    {
      "cell_type": "code",
      "source": [
        "reglas <- sort(reglas,by='confidence',decreasing = TRUE)"
      ],
      "metadata": {
        "id": "fli3wF8o70gZ"
      },
      "execution_count": 33,
      "outputs": []
    },
    {
      "cell_type": "code",
      "source": [
        "r <- DATAFRAME(reglas)"
      ],
      "metadata": {
        "id": "qsyswxjk8Dyy"
      },
      "execution_count": 35,
      "outputs": []
    },
    {
      "cell_type": "code",
      "source": [
        "r"
      ],
      "metadata": {
        "colab": {
          "base_uri": "https://localhost:8080/",
          "height": 1000
        },
        "id": "M9K1UYi58JQo",
        "outputId": "a3461da9-06c7-4bdd-ae53-2188ec9f63c0"
      },
      "execution_count": 37,
      "outputs": [
        {
          "output_type": "display_data",
          "data": {
            "text/html": [
              "<table class=\"dataframe\">\n",
              "<caption>A data.frame: 1882 × 7</caption>\n",
              "<thead>\n",
              "\t<tr><th></th><th scope=col>LHS</th><th scope=col>RHS</th><th scope=col>support</th><th scope=col>confidence</th><th scope=col>coverage</th><th scope=col>lift</th><th scope=col>count</th></tr>\n",
              "\t<tr><th></th><th scope=col>&lt;fct&gt;</th><th scope=col>&lt;fct&gt;</th><th scope=col>&lt;dbl&gt;</th><th scope=col>&lt;dbl&gt;</th><th scope=col>&lt;dbl&gt;</th><th scope=col>&lt;dbl&gt;</th><th scope=col>&lt;int&gt;</th></tr>\n",
              "</thead>\n",
              "<tbody>\n",
              "\t<tr><th scope=row>1439</th><td>{Propio=P,Hijos=[0,1),Timido=[0.8,1]}       </td><td>{aceptable=0}</td><td>0.06419886</td><td>0.9917127</td><td>0.06473534</td><td>1.199320</td><td>359</td></tr>\n",
              "\t<tr><th scope=row>1436</th><td>{Padre=P,Hijos=[0,1),Timido=[0.8,1]}        </td><td>{aceptable=0}</td><td>0.06402003</td><td>0.9916898</td><td>0.06455651</td><td>1.199293</td><td>358</td></tr>\n",
              "\t<tr><th scope=row>1433</th><td>{Padre=S,Hijos=[0,1),Timido=[0.8,1]}        </td><td>{aceptable=0}</td><td>0.05078684</td><td>0.9861111</td><td>0.05150215</td><td>1.192546</td><td>284</td></tr>\n",
              "\t<tr><th scope=row>1034</th><td>{Propio=P,Hijos=[0,1),Espiritual=[0.6,0.8)} </td><td>{aceptable=0}</td><td>0.05919170</td><td>0.9851190</td><td>0.06008584</td><td>1.191346</td><td>331</td></tr>\n",
              "\t<tr><th scope=row>970</th><td>{Propio=P,Hijos=[0,1),Espiritual=[0.8,1]}   </td><td>{aceptable=0}</td><td>0.06706009</td><td>0.9842520</td><td>0.06813305</td><td>1.190298</td><td>375</td></tr>\n",
              "\t<tr><th scope=row>1554</th><td>{Propio=P,Hijos=[0,1),Temeroso=[0.8,1]}     </td><td>{aceptable=0}</td><td>0.06652361</td><td>0.9815303</td><td>0.06777539</td><td>1.187006</td><td>372</td></tr>\n",
              "\t<tr><th scope=row>964</th><td>{Padre=S,Hijos=[0,1),Espiritual=[0.8,1]}    </td><td>{aceptable=0}</td><td>0.04524320</td><td>0.9806202</td><td>0.04613734</td><td>1.185906</td><td>253</td></tr>\n",
              "\t<tr><th scope=row>1844</th><td>{Padre=P,Hijos=[0,1),Etico=[0.8,1]}         </td><td>{aceptable=0}</td><td>0.06902718</td><td>0.9796954</td><td>0.07045780</td><td>1.184787</td><td>386</td></tr>\n",
              "\t<tr><th scope=row>1847</th><td>{Propio=P,Hijos=[0,1),Etico=[0.8,1]}        </td><td>{aceptable=0}</td><td>0.07349785</td><td>0.9785714</td><td>0.07510730</td><td>1.183428</td><td>411</td></tr>\n",
              "\t<tr><th scope=row>1438</th><td>{Madre=P,Hijos=[0,1),Timido=[0.8,1]}        </td><td>{aceptable=0}</td><td>0.06491416</td><td>0.9784367</td><td>0.06634478</td><td>1.183265</td><td>363</td></tr>\n",
              "\t<tr><th scope=row>1756</th><td>{Propio=P,Hijos=[0,1),Impulsivo=[0,0.2)}    </td><td>{aceptable=0}</td><td>0.06616595</td><td>0.9762533</td><td>0.06777539</td><td>1.180625</td><td>370</td></tr>\n",
              "\t<tr><th scope=row>1287</th><td>{Padre=S,Hijos=[0,1),Vago=[0.8,1]}          </td><td>{aceptable=0}</td><td>0.04971388</td><td>0.9754386</td><td>0.05096567</td><td>1.179639</td><td>278</td></tr>\n",
              "\t<tr><th scope=row>571</th><td>{Hijos=[0,1),Timido=[0.8,1]}                </td><td>{aceptable=0}</td><td>0.12714592</td><td>0.9753086</td><td>0.13036481</td><td>1.179482</td><td>711</td></tr>\n",
              "\t<tr><th scope=row>1879</th><td>{Propio=P,Padre=S,Madre=S,Hijos=[0,1)}      </td><td>{aceptable=0}</td><td>0.04774678</td><td>0.9744526</td><td>0.04899857</td><td>1.178447</td><td>267</td></tr>\n",
              "\t<tr><th scope=row>556</th><td>{Timido=[0.8,1],Temeroso=[0.8,1]}           </td><td>{aceptable=0}</td><td>0.04041488</td><td>0.9741379</td><td>0.04148784</td><td>1.178066</td><td>226</td></tr>\n",
              "\t<tr><th scope=row>1435</th><td>{Propio=P,Padre=P,Timido=[0.8,1]}           </td><td>{aceptable=0}</td><td>0.05185980</td><td>0.9731544</td><td>0.05329041</td><td>1.176877</td><td>290</td></tr>\n",
              "\t<tr><th scope=row>1840</th><td>{Madre=S,Hijos=[0,1),Etico=[0.8,1]}         </td><td>{aceptable=0}</td><td>0.05096567</td><td>0.9726962</td><td>0.05239628</td><td>1.176323</td><td>285</td></tr>\n",
              "\t<tr><th scope=row>1841</th><td>{Padre=S,Hijos=[0,1),Etico=[0.8,1]}         </td><td>{aceptable=0}</td><td>0.05096567</td><td>0.9726962</td><td>0.05239628</td><td>1.176323</td><td>285</td></tr>\n",
              "\t<tr><th scope=row>564</th><td>{Timido=[0.8,1],Etico=[0.8,1]}              </td><td>{aceptable=0}</td><td>0.04452790</td><td>0.9726562</td><td>0.04577969</td><td>1.176275</td><td>249</td></tr>\n",
              "\t<tr><th scope=row>1881</th><td>{Propio=P,Padre=S,Madre=P,Hijos=[0,1)}      </td><td>{aceptable=0}</td><td>0.06258941</td><td>0.9722222</td><td>0.06437768</td><td>1.175750</td><td>350</td></tr>\n",
              "\t<tr><th scope=row>1882</th><td>{Propio=P,Padre=P,Madre=P,Hijos=[0,1)}      </td><td>{aceptable=0}</td><td>0.07957797</td><td>0.9716157</td><td>0.08190272</td><td>1.175016</td><td>445</td></tr>\n",
              "\t<tr><th scope=row>1588</th><td>{Propio=P,Hijos=[0,1),Timido=[0.6,0.8)}     </td><td>{aceptable=0}</td><td>0.06706009</td><td>0.9715026</td><td>0.06902718</td><td>1.174879</td><td>375</td></tr>\n",
              "\t<tr><th scope=row>967</th><td>{Padre=P,Hijos=[0,1),Espiritual=[0.8,1]}    </td><td>{aceptable=0}</td><td>0.06062232</td><td>0.9713467</td><td>0.06241059</td><td>1.174691</td><td>339</td></tr>\n",
              "\t<tr><th scope=row>941</th><td>{Propio=U,Padre=P,Hijos=[0,1)}              </td><td>{aceptable=0}</td><td>0.04238197</td><td>0.9713115</td><td>0.04363376</td><td>1.174648</td><td>237</td></tr>\n",
              "\t<tr><th scope=row>1553</th><td>{Madre=P,Hijos=[0,1),Temeroso=[0.8,1]}      </td><td>{aceptable=0}</td><td>0.06634478</td><td>0.9712042</td><td>0.06831187</td><td>1.174519</td><td>371</td></tr>\n",
              "\t<tr><th scope=row>1293</th><td>{Propio=P,Hijos=[0,1),Vago=[0.8,1]}         </td><td>{aceptable=0}</td><td>0.06580830</td><td>0.9709763</td><td>0.06777539</td><td>1.174243</td><td>368</td></tr>\n",
              "\t<tr><th scope=row>1548</th><td>{Padre=S,Hijos=[0,1),Temeroso=[0.8,1]}      </td><td>{aceptable=0}</td><td>0.04756795</td><td>0.9708029</td><td>0.04899857</td><td>1.174033</td><td>266</td></tr>\n",
              "\t<tr><th scope=row>1403</th><td>{Propio=P,Hijos=[0,1),Desordenado=[0.6,0.8)}</td><td>{aceptable=0}</td><td>0.06527182</td><td>0.9707447</td><td>0.06723891</td><td>1.173963</td><td>365</td></tr>\n",
              "\t<tr><th scope=row>1432</th><td>{Madre=S,Hijos=[0,1),Timido=[0.8,1]}        </td><td>{aceptable=0}</td><td>0.04667382</td><td>0.9702602</td><td>0.04810443</td><td>1.173377</td><td>261</td></tr>\n",
              "\t<tr><th scope=row>1412</th><td>{Propio=P,Hijos=[0,1),Etico=[0.6,0.8)}      </td><td>{aceptable=0}</td><td>0.06258941</td><td>0.9695291</td><td>0.06455651</td><td>1.172493</td><td>350</td></tr>\n",
              "\t<tr><th scope=row>⋮</th><td>⋮</td><td>⋮</td><td>⋮</td><td>⋮</td><td>⋮</td><td>⋮</td><td>⋮</td></tr>\n",
              "\t<tr><th scope=row>68</th><td>{Temeroso=[0,0.2)}                   </td><td>{aceptable=0}</td><td>0.15486409</td><td>0.7690941</td><td>0.20135908</td><td>0.9300983</td><td>866</td></tr>\n",
              "\t<tr><th scope=row>209</th><td>{Madre=P,Vago=[0,0.2)}               </td><td>{aceptable=0}</td><td>0.07314020</td><td>0.7687970</td><td>0.09513591</td><td>0.9297389</td><td>409</td></tr>\n",
              "\t<tr><th scope=row>822</th><td>{Madre=S,Etico=[0.2,0.4)}            </td><td>{aceptable=0}</td><td>0.06115880</td><td>0.7685393</td><td>0.07957797</td><td>0.9294273</td><td>342</td></tr>\n",
              "\t<tr><th scope=row>478</th><td>{Propio=S,Pesimista=[0.4,0.6)}       </td><td>{aceptable=0}</td><td>0.05740343</td><td>0.7661098</td><td>0.07492847</td><td>0.9264892</td><td>321</td></tr>\n",
              "\t<tr><th scope=row>429</th><td>{Propio=S,Sentimental=[0.2,0.4)}     </td><td>{aceptable=0}</td><td>0.05829757</td><td>0.7652582</td><td>0.07618026</td><td>0.9254593</td><td>326</td></tr>\n",
              "\t<tr><th scope=row>180</th><td>{Propio=S,Responsable=[0,0.2)}       </td><td>{aceptable=0}</td><td>0.05185980</td><td>0.7651715</td><td>0.06777539</td><td>0.9253545</td><td>290</td></tr>\n",
              "\t<tr><th scope=row>270</th><td>{Propio=S,Servicial=[0,0.2)}         </td><td>{aceptable=0}</td><td>0.05346924</td><td>0.7647059</td><td>0.06992132</td><td>0.9247914</td><td>299</td></tr>\n",
              "\t<tr><th scope=row>775</th><td>{Propio=S,Empatia=[0.6,0.8)}         </td><td>{aceptable=0}</td><td>0.05686695</td><td>0.7644231</td><td>0.07439199</td><td>0.9244494</td><td>318</td></tr>\n",
              "\t<tr><th scope=row>596</th><td>{Madre=P,Temeroso=[0,0.2)}           </td><td>{aceptable=0}</td><td>0.07725322</td><td>0.7619048</td><td>0.10139485</td><td>0.9214039</td><td>432</td></tr>\n",
              "\t<tr><th scope=row>866</th><td>{Propio=S,Exitable=[0,0.2)}          </td><td>{aceptable=0}</td><td>0.05883405</td><td>0.7615741</td><td>0.07725322</td><td>0.9210039</td><td>329</td></tr>\n",
              "\t<tr><th scope=row>601</th><td>{Propio=S,Desordenado=[0.8,1]}       </td><td>{aceptable=0}</td><td>0.05865522</td><td>0.7610209</td><td>0.07707439</td><td>0.9203349</td><td>328</td></tr>\n",
              "\t<tr><th scope=row>796</th><td>{Propio=S,Vago=[0.6,0.8)}            </td><td>{aceptable=0}</td><td>0.05865522</td><td>0.7610209</td><td>0.07707439</td><td>0.9203349</td><td>328</td></tr>\n",
              "\t<tr><th scope=row>537</th><td>{Propio=S,Responsable=[0.2,0.4)}     </td><td>{aceptable=0}</td><td>0.05668813</td><td>0.7601918</td><td>0.07457082</td><td>0.9193324</td><td>317</td></tr>\n",
              "\t<tr><th scope=row>1858</th><td>{Propio=S,Padre=P,Madre=S}           </td><td>{aceptable=0}</td><td>0.05203863</td><td>0.7597911</td><td>0.06849070</td><td>0.9188477</td><td>291</td></tr>\n",
              "\t<tr><th scope=row>724</th><td>{Propio=S,PIngFam=[0.6,0.8)}         </td><td>{aceptable=0}</td><td>0.05454220</td><td>0.7568238</td><td>0.07206724</td><td>0.9152593</td><td>305</td></tr>\n",
              "\t<tr><th scope=row>609</th><td>{Propio=S,Extravagante=[0.4,0.6)}    </td><td>{aceptable=0}</td><td>0.05633047</td><td>0.7553957</td><td>0.07457082</td><td>0.9135322</td><td>315</td></tr>\n",
              "\t<tr><th scope=row>521</th><td>{Propio=S,Desordenado=[0.6,0.8)}     </td><td>{aceptable=0}</td><td>0.05239628</td><td>0.7551546</td><td>0.06938484</td><td>0.9132406</td><td>293</td></tr>\n",
              "\t<tr><th scope=row>212</th><td>{Propio=S,IngFam=[2.07e+04,3.02e+04)}</td><td>{aceptable=0}</td><td>0.05329041</td><td>0.7544304</td><td>0.07063662</td><td>0.9123648</td><td>298</td></tr>\n",
              "\t<tr><th scope=row>363</th><td>{Propio=S,IngFam=[4.05e+04,5e+04]}   </td><td>{aceptable=0}</td><td>0.05597282</td><td>0.7542169</td><td>0.07421316</td><td>0.9121066</td><td>313</td></tr>\n",
              "\t<tr><th scope=row>888</th><td>{Propio=S,Espiritual=[0.4,0.6)}      </td><td>{aceptable=0}</td><td>0.05597282</td><td>0.7542169</td><td>0.07421316</td><td>0.9121066</td><td>313</td></tr>\n",
              "\t<tr><th scope=row>764</th><td>{Propio=S,Compasivo=[0.4,0.6)}       </td><td>{aceptable=0}</td><td>0.05579399</td><td>0.7536232</td><td>0.07403433</td><td>0.9113886</td><td>312</td></tr>\n",
              "\t<tr><th scope=row>321</th><td>{Propio=S,Exitable=[0.8,1]}          </td><td>{aceptable=0}</td><td>0.05686695</td><td>0.7535545</td><td>0.07546495</td><td>0.9113055</td><td>318</td></tr>\n",
              "\t<tr><th scope=row>644</th><td>{Propio=S,Compasivo=[0.6,0.8)}       </td><td>{aceptable=0}</td><td>0.05954936</td><td>0.7533937</td><td>0.07904149</td><td>0.9111110</td><td>333</td></tr>\n",
              "\t<tr><th scope=row>387</th><td>{Propio=S,Servicial=[0.4,0.6)}       </td><td>{aceptable=0}</td><td>0.05507868</td><td>0.7530562</td><td>0.07314020</td><td>0.9107030</td><td>308</td></tr>\n",
              "\t<tr><th scope=row>624</th><td>{Propio=S,Sentimental=[0.8,1]}       </td><td>{aceptable=0}</td><td>0.05364807</td><td>0.7518797</td><td>0.07135193</td><td>0.9092801</td><td>300</td></tr>\n",
              "\t<tr><th scope=row>356</th><td>{Propio=S,Capaz=[0.2,0.4)}           </td><td>{aceptable=0}</td><td>0.05525751</td><td>0.7518248</td><td>0.07349785</td><td>0.9092137</td><td>309</td></tr>\n",
              "\t<tr><th scope=row>756</th><td>{Propio=S,Desordenado=[0.2,0.4)}     </td><td>{aceptable=0}</td><td>0.05686695</td><td>0.7517730</td><td>0.07564378</td><td>0.9091511</td><td>318</td></tr>\n",
              "\t<tr><th scope=row>547</th><td>{Propio=S,Dependiente=[0.2,0.4)}     </td><td>{aceptable=0}</td><td>0.05668813</td><td>0.7511848</td><td>0.07546495</td><td>0.9084398</td><td>317</td></tr>\n",
              "\t<tr><th scope=row>394</th><td>{Propio=S,Pesimista=[0.6,0.8)}       </td><td>{aceptable=0}</td><td>0.05436338</td><td>0.7506173</td><td>0.07242489</td><td>0.9077534</td><td>304</td></tr>\n",
              "\t<tr><th scope=row>372</th><td>{Propio=S,Desordenado=[0.4,0.6)}     </td><td>{aceptable=0}</td><td>0.05543634</td><td>0.7506053</td><td>0.07385551</td><td>0.9077390</td><td>310</td></tr>\n",
              "</tbody>\n",
              "</table>\n"
            ],
            "text/markdown": "\nA data.frame: 1882 × 7\n\n| <!--/--> | LHS &lt;fct&gt; | RHS &lt;fct&gt; | support &lt;dbl&gt; | confidence &lt;dbl&gt; | coverage &lt;dbl&gt; | lift &lt;dbl&gt; | count &lt;int&gt; |\n|---|---|---|---|---|---|---|---|\n| 1439 | {Propio=P,Hijos=[0,1),Timido=[0.8,1]}        | {aceptable=0} | 0.06419886 | 0.9917127 | 0.06473534 | 1.199320 | 359 |\n| 1436 | {Padre=P,Hijos=[0,1),Timido=[0.8,1]}         | {aceptable=0} | 0.06402003 | 0.9916898 | 0.06455651 | 1.199293 | 358 |\n| 1433 | {Padre=S,Hijos=[0,1),Timido=[0.8,1]}         | {aceptable=0} | 0.05078684 | 0.9861111 | 0.05150215 | 1.192546 | 284 |\n| 1034 | {Propio=P,Hijos=[0,1),Espiritual=[0.6,0.8)}  | {aceptable=0} | 0.05919170 | 0.9851190 | 0.06008584 | 1.191346 | 331 |\n| 970 | {Propio=P,Hijos=[0,1),Espiritual=[0.8,1]}    | {aceptable=0} | 0.06706009 | 0.9842520 | 0.06813305 | 1.190298 | 375 |\n| 1554 | {Propio=P,Hijos=[0,1),Temeroso=[0.8,1]}      | {aceptable=0} | 0.06652361 | 0.9815303 | 0.06777539 | 1.187006 | 372 |\n| 964 | {Padre=S,Hijos=[0,1),Espiritual=[0.8,1]}     | {aceptable=0} | 0.04524320 | 0.9806202 | 0.04613734 | 1.185906 | 253 |\n| 1844 | {Padre=P,Hijos=[0,1),Etico=[0.8,1]}          | {aceptable=0} | 0.06902718 | 0.9796954 | 0.07045780 | 1.184787 | 386 |\n| 1847 | {Propio=P,Hijos=[0,1),Etico=[0.8,1]}         | {aceptable=0} | 0.07349785 | 0.9785714 | 0.07510730 | 1.183428 | 411 |\n| 1438 | {Madre=P,Hijos=[0,1),Timido=[0.8,1]}         | {aceptable=0} | 0.06491416 | 0.9784367 | 0.06634478 | 1.183265 | 363 |\n| 1756 | {Propio=P,Hijos=[0,1),Impulsivo=[0,0.2)}     | {aceptable=0} | 0.06616595 | 0.9762533 | 0.06777539 | 1.180625 | 370 |\n| 1287 | {Padre=S,Hijos=[0,1),Vago=[0.8,1]}           | {aceptable=0} | 0.04971388 | 0.9754386 | 0.05096567 | 1.179639 | 278 |\n| 571 | {Hijos=[0,1),Timido=[0.8,1]}                 | {aceptable=0} | 0.12714592 | 0.9753086 | 0.13036481 | 1.179482 | 711 |\n| 1879 | {Propio=P,Padre=S,Madre=S,Hijos=[0,1)}       | {aceptable=0} | 0.04774678 | 0.9744526 | 0.04899857 | 1.178447 | 267 |\n| 556 | {Timido=[0.8,1],Temeroso=[0.8,1]}            | {aceptable=0} | 0.04041488 | 0.9741379 | 0.04148784 | 1.178066 | 226 |\n| 1435 | {Propio=P,Padre=P,Timido=[0.8,1]}            | {aceptable=0} | 0.05185980 | 0.9731544 | 0.05329041 | 1.176877 | 290 |\n| 1840 | {Madre=S,Hijos=[0,1),Etico=[0.8,1]}          | {aceptable=0} | 0.05096567 | 0.9726962 | 0.05239628 | 1.176323 | 285 |\n| 1841 | {Padre=S,Hijos=[0,1),Etico=[0.8,1]}          | {aceptable=0} | 0.05096567 | 0.9726962 | 0.05239628 | 1.176323 | 285 |\n| 564 | {Timido=[0.8,1],Etico=[0.8,1]}               | {aceptable=0} | 0.04452790 | 0.9726562 | 0.04577969 | 1.176275 | 249 |\n| 1881 | {Propio=P,Padre=S,Madre=P,Hijos=[0,1)}       | {aceptable=0} | 0.06258941 | 0.9722222 | 0.06437768 | 1.175750 | 350 |\n| 1882 | {Propio=P,Padre=P,Madre=P,Hijos=[0,1)}       | {aceptable=0} | 0.07957797 | 0.9716157 | 0.08190272 | 1.175016 | 445 |\n| 1588 | {Propio=P,Hijos=[0,1),Timido=[0.6,0.8)}      | {aceptable=0} | 0.06706009 | 0.9715026 | 0.06902718 | 1.174879 | 375 |\n| 967 | {Padre=P,Hijos=[0,1),Espiritual=[0.8,1]}     | {aceptable=0} | 0.06062232 | 0.9713467 | 0.06241059 | 1.174691 | 339 |\n| 941 | {Propio=U,Padre=P,Hijos=[0,1)}               | {aceptable=0} | 0.04238197 | 0.9713115 | 0.04363376 | 1.174648 | 237 |\n| 1553 | {Madre=P,Hijos=[0,1),Temeroso=[0.8,1]}       | {aceptable=0} | 0.06634478 | 0.9712042 | 0.06831187 | 1.174519 | 371 |\n| 1293 | {Propio=P,Hijos=[0,1),Vago=[0.8,1]}          | {aceptable=0} | 0.06580830 | 0.9709763 | 0.06777539 | 1.174243 | 368 |\n| 1548 | {Padre=S,Hijos=[0,1),Temeroso=[0.8,1]}       | {aceptable=0} | 0.04756795 | 0.9708029 | 0.04899857 | 1.174033 | 266 |\n| 1403 | {Propio=P,Hijos=[0,1),Desordenado=[0.6,0.8)} | {aceptable=0} | 0.06527182 | 0.9707447 | 0.06723891 | 1.173963 | 365 |\n| 1432 | {Madre=S,Hijos=[0,1),Timido=[0.8,1]}         | {aceptable=0} | 0.04667382 | 0.9702602 | 0.04810443 | 1.173377 | 261 |\n| 1412 | {Propio=P,Hijos=[0,1),Etico=[0.6,0.8)}       | {aceptable=0} | 0.06258941 | 0.9695291 | 0.06455651 | 1.172493 | 350 |\n| ⋮ | ⋮ | ⋮ | ⋮ | ⋮ | ⋮ | ⋮ | ⋮ |\n| 68 | {Temeroso=[0,0.2)}                    | {aceptable=0} | 0.15486409 | 0.7690941 | 0.20135908 | 0.9300983 | 866 |\n| 209 | {Madre=P,Vago=[0,0.2)}                | {aceptable=0} | 0.07314020 | 0.7687970 | 0.09513591 | 0.9297389 | 409 |\n| 822 | {Madre=S,Etico=[0.2,0.4)}             | {aceptable=0} | 0.06115880 | 0.7685393 | 0.07957797 | 0.9294273 | 342 |\n| 478 | {Propio=S,Pesimista=[0.4,0.6)}        | {aceptable=0} | 0.05740343 | 0.7661098 | 0.07492847 | 0.9264892 | 321 |\n| 429 | {Propio=S,Sentimental=[0.2,0.4)}      | {aceptable=0} | 0.05829757 | 0.7652582 | 0.07618026 | 0.9254593 | 326 |\n| 180 | {Propio=S,Responsable=[0,0.2)}        | {aceptable=0} | 0.05185980 | 0.7651715 | 0.06777539 | 0.9253545 | 290 |\n| 270 | {Propio=S,Servicial=[0,0.2)}          | {aceptable=0} | 0.05346924 | 0.7647059 | 0.06992132 | 0.9247914 | 299 |\n| 775 | {Propio=S,Empatia=[0.6,0.8)}          | {aceptable=0} | 0.05686695 | 0.7644231 | 0.07439199 | 0.9244494 | 318 |\n| 596 | {Madre=P,Temeroso=[0,0.2)}            | {aceptable=0} | 0.07725322 | 0.7619048 | 0.10139485 | 0.9214039 | 432 |\n| 866 | {Propio=S,Exitable=[0,0.2)}           | {aceptable=0} | 0.05883405 | 0.7615741 | 0.07725322 | 0.9210039 | 329 |\n| 601 | {Propio=S,Desordenado=[0.8,1]}        | {aceptable=0} | 0.05865522 | 0.7610209 | 0.07707439 | 0.9203349 | 328 |\n| 796 | {Propio=S,Vago=[0.6,0.8)}             | {aceptable=0} | 0.05865522 | 0.7610209 | 0.07707439 | 0.9203349 | 328 |\n| 537 | {Propio=S,Responsable=[0.2,0.4)}      | {aceptable=0} | 0.05668813 | 0.7601918 | 0.07457082 | 0.9193324 | 317 |\n| 1858 | {Propio=S,Padre=P,Madre=S}            | {aceptable=0} | 0.05203863 | 0.7597911 | 0.06849070 | 0.9188477 | 291 |\n| 724 | {Propio=S,PIngFam=[0.6,0.8)}          | {aceptable=0} | 0.05454220 | 0.7568238 | 0.07206724 | 0.9152593 | 305 |\n| 609 | {Propio=S,Extravagante=[0.4,0.6)}     | {aceptable=0} | 0.05633047 | 0.7553957 | 0.07457082 | 0.9135322 | 315 |\n| 521 | {Propio=S,Desordenado=[0.6,0.8)}      | {aceptable=0} | 0.05239628 | 0.7551546 | 0.06938484 | 0.9132406 | 293 |\n| 212 | {Propio=S,IngFam=[2.07e+04,3.02e+04)} | {aceptable=0} | 0.05329041 | 0.7544304 | 0.07063662 | 0.9123648 | 298 |\n| 363 | {Propio=S,IngFam=[4.05e+04,5e+04]}    | {aceptable=0} | 0.05597282 | 0.7542169 | 0.07421316 | 0.9121066 | 313 |\n| 888 | {Propio=S,Espiritual=[0.4,0.6)}       | {aceptable=0} | 0.05597282 | 0.7542169 | 0.07421316 | 0.9121066 | 313 |\n| 764 | {Propio=S,Compasivo=[0.4,0.6)}        | {aceptable=0} | 0.05579399 | 0.7536232 | 0.07403433 | 0.9113886 | 312 |\n| 321 | {Propio=S,Exitable=[0.8,1]}           | {aceptable=0} | 0.05686695 | 0.7535545 | 0.07546495 | 0.9113055 | 318 |\n| 644 | {Propio=S,Compasivo=[0.6,0.8)}        | {aceptable=0} | 0.05954936 | 0.7533937 | 0.07904149 | 0.9111110 | 333 |\n| 387 | {Propio=S,Servicial=[0.4,0.6)}        | {aceptable=0} | 0.05507868 | 0.7530562 | 0.07314020 | 0.9107030 | 308 |\n| 624 | {Propio=S,Sentimental=[0.8,1]}        | {aceptable=0} | 0.05364807 | 0.7518797 | 0.07135193 | 0.9092801 | 300 |\n| 356 | {Propio=S,Capaz=[0.2,0.4)}            | {aceptable=0} | 0.05525751 | 0.7518248 | 0.07349785 | 0.9092137 | 309 |\n| 756 | {Propio=S,Desordenado=[0.2,0.4)}      | {aceptable=0} | 0.05686695 | 0.7517730 | 0.07564378 | 0.9091511 | 318 |\n| 547 | {Propio=S,Dependiente=[0.2,0.4)}      | {aceptable=0} | 0.05668813 | 0.7511848 | 0.07546495 | 0.9084398 | 317 |\n| 394 | {Propio=S,Pesimista=[0.6,0.8)}        | {aceptable=0} | 0.05436338 | 0.7506173 | 0.07242489 | 0.9077534 | 304 |\n| 372 | {Propio=S,Desordenado=[0.4,0.6)}      | {aceptable=0} | 0.05543634 | 0.7506053 | 0.07385551 | 0.9077390 | 310 |\n\n",
            "text/latex": "A data.frame: 1882 × 7\n\\begin{tabular}{r|lllllll}\n  & LHS & RHS & support & confidence & coverage & lift & count\\\\\n  & <fct> & <fct> & <dbl> & <dbl> & <dbl> & <dbl> & <int>\\\\\n\\hline\n\t1439 & \\{Propio=P,Hijos={[}0,1),Timido={[}0.8,1{]}\\}        & \\{aceptable=0\\} & 0.06419886 & 0.9917127 & 0.06473534 & 1.199320 & 359\\\\\n\t1436 & \\{Padre=P,Hijos={[}0,1),Timido={[}0.8,1{]}\\}         & \\{aceptable=0\\} & 0.06402003 & 0.9916898 & 0.06455651 & 1.199293 & 358\\\\\n\t1433 & \\{Padre=S,Hijos={[}0,1),Timido={[}0.8,1{]}\\}         & \\{aceptable=0\\} & 0.05078684 & 0.9861111 & 0.05150215 & 1.192546 & 284\\\\\n\t1034 & \\{Propio=P,Hijos={[}0,1),Espiritual={[}0.6,0.8)\\}  & \\{aceptable=0\\} & 0.05919170 & 0.9851190 & 0.06008584 & 1.191346 & 331\\\\\n\t970 & \\{Propio=P,Hijos={[}0,1),Espiritual={[}0.8,1{]}\\}    & \\{aceptable=0\\} & 0.06706009 & 0.9842520 & 0.06813305 & 1.190298 & 375\\\\\n\t1554 & \\{Propio=P,Hijos={[}0,1),Temeroso={[}0.8,1{]}\\}      & \\{aceptable=0\\} & 0.06652361 & 0.9815303 & 0.06777539 & 1.187006 & 372\\\\\n\t964 & \\{Padre=S,Hijos={[}0,1),Espiritual={[}0.8,1{]}\\}     & \\{aceptable=0\\} & 0.04524320 & 0.9806202 & 0.04613734 & 1.185906 & 253\\\\\n\t1844 & \\{Padre=P,Hijos={[}0,1),Etico={[}0.8,1{]}\\}          & \\{aceptable=0\\} & 0.06902718 & 0.9796954 & 0.07045780 & 1.184787 & 386\\\\\n\t1847 & \\{Propio=P,Hijos={[}0,1),Etico={[}0.8,1{]}\\}         & \\{aceptable=0\\} & 0.07349785 & 0.9785714 & 0.07510730 & 1.183428 & 411\\\\\n\t1438 & \\{Madre=P,Hijos={[}0,1),Timido={[}0.8,1{]}\\}         & \\{aceptable=0\\} & 0.06491416 & 0.9784367 & 0.06634478 & 1.183265 & 363\\\\\n\t1756 & \\{Propio=P,Hijos={[}0,1),Impulsivo={[}0,0.2)\\}     & \\{aceptable=0\\} & 0.06616595 & 0.9762533 & 0.06777539 & 1.180625 & 370\\\\\n\t1287 & \\{Padre=S,Hijos={[}0,1),Vago={[}0.8,1{]}\\}           & \\{aceptable=0\\} & 0.04971388 & 0.9754386 & 0.05096567 & 1.179639 & 278\\\\\n\t571 & \\{Hijos={[}0,1),Timido={[}0.8,1{]}\\}                 & \\{aceptable=0\\} & 0.12714592 & 0.9753086 & 0.13036481 & 1.179482 & 711\\\\\n\t1879 & \\{Propio=P,Padre=S,Madre=S,Hijos={[}0,1)\\}       & \\{aceptable=0\\} & 0.04774678 & 0.9744526 & 0.04899857 & 1.178447 & 267\\\\\n\t556 & \\{Timido={[}0.8,1{]},Temeroso={[}0.8,1{]}\\}            & \\{aceptable=0\\} & 0.04041488 & 0.9741379 & 0.04148784 & 1.178066 & 226\\\\\n\t1435 & \\{Propio=P,Padre=P,Timido={[}0.8,1{]}\\}            & \\{aceptable=0\\} & 0.05185980 & 0.9731544 & 0.05329041 & 1.176877 & 290\\\\\n\t1840 & \\{Madre=S,Hijos={[}0,1),Etico={[}0.8,1{]}\\}          & \\{aceptable=0\\} & 0.05096567 & 0.9726962 & 0.05239628 & 1.176323 & 285\\\\\n\t1841 & \\{Padre=S,Hijos={[}0,1),Etico={[}0.8,1{]}\\}          & \\{aceptable=0\\} & 0.05096567 & 0.9726962 & 0.05239628 & 1.176323 & 285\\\\\n\t564 & \\{Timido={[}0.8,1{]},Etico={[}0.8,1{]}\\}               & \\{aceptable=0\\} & 0.04452790 & 0.9726562 & 0.04577969 & 1.176275 & 249\\\\\n\t1881 & \\{Propio=P,Padre=S,Madre=P,Hijos={[}0,1)\\}       & \\{aceptable=0\\} & 0.06258941 & 0.9722222 & 0.06437768 & 1.175750 & 350\\\\\n\t1882 & \\{Propio=P,Padre=P,Madre=P,Hijos={[}0,1)\\}       & \\{aceptable=0\\} & 0.07957797 & 0.9716157 & 0.08190272 & 1.175016 & 445\\\\\n\t1588 & \\{Propio=P,Hijos={[}0,1),Timido={[}0.6,0.8)\\}      & \\{aceptable=0\\} & 0.06706009 & 0.9715026 & 0.06902718 & 1.174879 & 375\\\\\n\t967 & \\{Padre=P,Hijos={[}0,1),Espiritual={[}0.8,1{]}\\}     & \\{aceptable=0\\} & 0.06062232 & 0.9713467 & 0.06241059 & 1.174691 & 339\\\\\n\t941 & \\{Propio=U,Padre=P,Hijos={[}0,1)\\}               & \\{aceptable=0\\} & 0.04238197 & 0.9713115 & 0.04363376 & 1.174648 & 237\\\\\n\t1553 & \\{Madre=P,Hijos={[}0,1),Temeroso={[}0.8,1{]}\\}       & \\{aceptable=0\\} & 0.06634478 & 0.9712042 & 0.06831187 & 1.174519 & 371\\\\\n\t1293 & \\{Propio=P,Hijos={[}0,1),Vago={[}0.8,1{]}\\}          & \\{aceptable=0\\} & 0.06580830 & 0.9709763 & 0.06777539 & 1.174243 & 368\\\\\n\t1548 & \\{Padre=S,Hijos={[}0,1),Temeroso={[}0.8,1{]}\\}       & \\{aceptable=0\\} & 0.04756795 & 0.9708029 & 0.04899857 & 1.174033 & 266\\\\\n\t1403 & \\{Propio=P,Hijos={[}0,1),Desordenado={[}0.6,0.8)\\} & \\{aceptable=0\\} & 0.06527182 & 0.9707447 & 0.06723891 & 1.173963 & 365\\\\\n\t1432 & \\{Madre=S,Hijos={[}0,1),Timido={[}0.8,1{]}\\}         & \\{aceptable=0\\} & 0.04667382 & 0.9702602 & 0.04810443 & 1.173377 & 261\\\\\n\t1412 & \\{Propio=P,Hijos={[}0,1),Etico={[}0.6,0.8)\\}       & \\{aceptable=0\\} & 0.06258941 & 0.9695291 & 0.06455651 & 1.172493 & 350\\\\\n\t⋮ & ⋮ & ⋮ & ⋮ & ⋮ & ⋮ & ⋮ & ⋮\\\\\n\t68 & \\{Temeroso={[}0,0.2)\\}                    & \\{aceptable=0\\} & 0.15486409 & 0.7690941 & 0.20135908 & 0.9300983 & 866\\\\\n\t209 & \\{Madre=P,Vago={[}0,0.2)\\}                & \\{aceptable=0\\} & 0.07314020 & 0.7687970 & 0.09513591 & 0.9297389 & 409\\\\\n\t822 & \\{Madre=S,Etico={[}0.2,0.4)\\}             & \\{aceptable=0\\} & 0.06115880 & 0.7685393 & 0.07957797 & 0.9294273 & 342\\\\\n\t478 & \\{Propio=S,Pesimista={[}0.4,0.6)\\}        & \\{aceptable=0\\} & 0.05740343 & 0.7661098 & 0.07492847 & 0.9264892 & 321\\\\\n\t429 & \\{Propio=S,Sentimental={[}0.2,0.4)\\}      & \\{aceptable=0\\} & 0.05829757 & 0.7652582 & 0.07618026 & 0.9254593 & 326\\\\\n\t180 & \\{Propio=S,Responsable={[}0,0.2)\\}        & \\{aceptable=0\\} & 0.05185980 & 0.7651715 & 0.06777539 & 0.9253545 & 290\\\\\n\t270 & \\{Propio=S,Servicial={[}0,0.2)\\}          & \\{aceptable=0\\} & 0.05346924 & 0.7647059 & 0.06992132 & 0.9247914 & 299\\\\\n\t775 & \\{Propio=S,Empatia={[}0.6,0.8)\\}          & \\{aceptable=0\\} & 0.05686695 & 0.7644231 & 0.07439199 & 0.9244494 & 318\\\\\n\t596 & \\{Madre=P,Temeroso={[}0,0.2)\\}            & \\{aceptable=0\\} & 0.07725322 & 0.7619048 & 0.10139485 & 0.9214039 & 432\\\\\n\t866 & \\{Propio=S,Exitable={[}0,0.2)\\}           & \\{aceptable=0\\} & 0.05883405 & 0.7615741 & 0.07725322 & 0.9210039 & 329\\\\\n\t601 & \\{Propio=S,Desordenado={[}0.8,1{]}\\}        & \\{aceptable=0\\} & 0.05865522 & 0.7610209 & 0.07707439 & 0.9203349 & 328\\\\\n\t796 & \\{Propio=S,Vago={[}0.6,0.8)\\}             & \\{aceptable=0\\} & 0.05865522 & 0.7610209 & 0.07707439 & 0.9203349 & 328\\\\\n\t537 & \\{Propio=S,Responsable={[}0.2,0.4)\\}      & \\{aceptable=0\\} & 0.05668813 & 0.7601918 & 0.07457082 & 0.9193324 & 317\\\\\n\t1858 & \\{Propio=S,Padre=P,Madre=S\\}            & \\{aceptable=0\\} & 0.05203863 & 0.7597911 & 0.06849070 & 0.9188477 & 291\\\\\n\t724 & \\{Propio=S,PIngFam={[}0.6,0.8)\\}          & \\{aceptable=0\\} & 0.05454220 & 0.7568238 & 0.07206724 & 0.9152593 & 305\\\\\n\t609 & \\{Propio=S,Extravagante={[}0.4,0.6)\\}     & \\{aceptable=0\\} & 0.05633047 & 0.7553957 & 0.07457082 & 0.9135322 & 315\\\\\n\t521 & \\{Propio=S,Desordenado={[}0.6,0.8)\\}      & \\{aceptable=0\\} & 0.05239628 & 0.7551546 & 0.06938484 & 0.9132406 & 293\\\\\n\t212 & \\{Propio=S,IngFam={[}2.07e+04,3.02e+04)\\} & \\{aceptable=0\\} & 0.05329041 & 0.7544304 & 0.07063662 & 0.9123648 & 298\\\\\n\t363 & \\{Propio=S,IngFam={[}4.05e+04,5e+04{]}\\}    & \\{aceptable=0\\} & 0.05597282 & 0.7542169 & 0.07421316 & 0.9121066 & 313\\\\\n\t888 & \\{Propio=S,Espiritual={[}0.4,0.6)\\}       & \\{aceptable=0\\} & 0.05597282 & 0.7542169 & 0.07421316 & 0.9121066 & 313\\\\\n\t764 & \\{Propio=S,Compasivo={[}0.4,0.6)\\}        & \\{aceptable=0\\} & 0.05579399 & 0.7536232 & 0.07403433 & 0.9113886 & 312\\\\\n\t321 & \\{Propio=S,Exitable={[}0.8,1{]}\\}           & \\{aceptable=0\\} & 0.05686695 & 0.7535545 & 0.07546495 & 0.9113055 & 318\\\\\n\t644 & \\{Propio=S,Compasivo={[}0.6,0.8)\\}        & \\{aceptable=0\\} & 0.05954936 & 0.7533937 & 0.07904149 & 0.9111110 & 333\\\\\n\t387 & \\{Propio=S,Servicial={[}0.4,0.6)\\}        & \\{aceptable=0\\} & 0.05507868 & 0.7530562 & 0.07314020 & 0.9107030 & 308\\\\\n\t624 & \\{Propio=S,Sentimental={[}0.8,1{]}\\}        & \\{aceptable=0\\} & 0.05364807 & 0.7518797 & 0.07135193 & 0.9092801 & 300\\\\\n\t356 & \\{Propio=S,Capaz={[}0.2,0.4)\\}            & \\{aceptable=0\\} & 0.05525751 & 0.7518248 & 0.07349785 & 0.9092137 & 309\\\\\n\t756 & \\{Propio=S,Desordenado={[}0.2,0.4)\\}      & \\{aceptable=0\\} & 0.05686695 & 0.7517730 & 0.07564378 & 0.9091511 & 318\\\\\n\t547 & \\{Propio=S,Dependiente={[}0.2,0.4)\\}      & \\{aceptable=0\\} & 0.05668813 & 0.7511848 & 0.07546495 & 0.9084398 & 317\\\\\n\t394 & \\{Propio=S,Pesimista={[}0.6,0.8)\\}        & \\{aceptable=0\\} & 0.05436338 & 0.7506173 & 0.07242489 & 0.9077534 & 304\\\\\n\t372 & \\{Propio=S,Desordenado={[}0.4,0.6)\\}      & \\{aceptable=0\\} & 0.05543634 & 0.7506053 & 0.07385551 & 0.9077390 & 310\\\\\n\\end{tabular}\n",
            "text/plain": [
              "     LHS                                          RHS           support   \n",
              "1439 {Propio=P,Hijos=[0,1),Timido=[0.8,1]}        {aceptable=0} 0.06419886\n",
              "1436 {Padre=P,Hijos=[0,1),Timido=[0.8,1]}         {aceptable=0} 0.06402003\n",
              "1433 {Padre=S,Hijos=[0,1),Timido=[0.8,1]}         {aceptable=0} 0.05078684\n",
              "1034 {Propio=P,Hijos=[0,1),Espiritual=[0.6,0.8)}  {aceptable=0} 0.05919170\n",
              "970  {Propio=P,Hijos=[0,1),Espiritual=[0.8,1]}    {aceptable=0} 0.06706009\n",
              "1554 {Propio=P,Hijos=[0,1),Temeroso=[0.8,1]}      {aceptable=0} 0.06652361\n",
              "964  {Padre=S,Hijos=[0,1),Espiritual=[0.8,1]}     {aceptable=0} 0.04524320\n",
              "1844 {Padre=P,Hijos=[0,1),Etico=[0.8,1]}          {aceptable=0} 0.06902718\n",
              "1847 {Propio=P,Hijos=[0,1),Etico=[0.8,1]}         {aceptable=0} 0.07349785\n",
              "1438 {Madre=P,Hijos=[0,1),Timido=[0.8,1]}         {aceptable=0} 0.06491416\n",
              "1756 {Propio=P,Hijos=[0,1),Impulsivo=[0,0.2)}     {aceptable=0} 0.06616595\n",
              "1287 {Padre=S,Hijos=[0,1),Vago=[0.8,1]}           {aceptable=0} 0.04971388\n",
              "571  {Hijos=[0,1),Timido=[0.8,1]}                 {aceptable=0} 0.12714592\n",
              "1879 {Propio=P,Padre=S,Madre=S,Hijos=[0,1)}       {aceptable=0} 0.04774678\n",
              "556  {Timido=[0.8,1],Temeroso=[0.8,1]}            {aceptable=0} 0.04041488\n",
              "1435 {Propio=P,Padre=P,Timido=[0.8,1]}            {aceptable=0} 0.05185980\n",
              "1840 {Madre=S,Hijos=[0,1),Etico=[0.8,1]}          {aceptable=0} 0.05096567\n",
              "1841 {Padre=S,Hijos=[0,1),Etico=[0.8,1]}          {aceptable=0} 0.05096567\n",
              "564  {Timido=[0.8,1],Etico=[0.8,1]}               {aceptable=0} 0.04452790\n",
              "1881 {Propio=P,Padre=S,Madre=P,Hijos=[0,1)}       {aceptable=0} 0.06258941\n",
              "1882 {Propio=P,Padre=P,Madre=P,Hijos=[0,1)}       {aceptable=0} 0.07957797\n",
              "1588 {Propio=P,Hijos=[0,1),Timido=[0.6,0.8)}      {aceptable=0} 0.06706009\n",
              "967  {Padre=P,Hijos=[0,1),Espiritual=[0.8,1]}     {aceptable=0} 0.06062232\n",
              "941  {Propio=U,Padre=P,Hijos=[0,1)}               {aceptable=0} 0.04238197\n",
              "1553 {Madre=P,Hijos=[0,1),Temeroso=[0.8,1]}       {aceptable=0} 0.06634478\n",
              "1293 {Propio=P,Hijos=[0,1),Vago=[0.8,1]}          {aceptable=0} 0.06580830\n",
              "1548 {Padre=S,Hijos=[0,1),Temeroso=[0.8,1]}       {aceptable=0} 0.04756795\n",
              "1403 {Propio=P,Hijos=[0,1),Desordenado=[0.6,0.8)} {aceptable=0} 0.06527182\n",
              "1432 {Madre=S,Hijos=[0,1),Timido=[0.8,1]}         {aceptable=0} 0.04667382\n",
              "1412 {Propio=P,Hijos=[0,1),Etico=[0.6,0.8)}       {aceptable=0} 0.06258941\n",
              "⋮    ⋮                                            ⋮             ⋮         \n",
              "68   {Temeroso=[0,0.2)}                           {aceptable=0} 0.15486409\n",
              "209  {Madre=P,Vago=[0,0.2)}                       {aceptable=0} 0.07314020\n",
              "822  {Madre=S,Etico=[0.2,0.4)}                    {aceptable=0} 0.06115880\n",
              "478  {Propio=S,Pesimista=[0.4,0.6)}               {aceptable=0} 0.05740343\n",
              "429  {Propio=S,Sentimental=[0.2,0.4)}             {aceptable=0} 0.05829757\n",
              "180  {Propio=S,Responsable=[0,0.2)}               {aceptable=0} 0.05185980\n",
              "270  {Propio=S,Servicial=[0,0.2)}                 {aceptable=0} 0.05346924\n",
              "775  {Propio=S,Empatia=[0.6,0.8)}                 {aceptable=0} 0.05686695\n",
              "596  {Madre=P,Temeroso=[0,0.2)}                   {aceptable=0} 0.07725322\n",
              "866  {Propio=S,Exitable=[0,0.2)}                  {aceptable=0} 0.05883405\n",
              "601  {Propio=S,Desordenado=[0.8,1]}               {aceptable=0} 0.05865522\n",
              "796  {Propio=S,Vago=[0.6,0.8)}                    {aceptable=0} 0.05865522\n",
              "537  {Propio=S,Responsable=[0.2,0.4)}             {aceptable=0} 0.05668813\n",
              "1858 {Propio=S,Padre=P,Madre=S}                   {aceptable=0} 0.05203863\n",
              "724  {Propio=S,PIngFam=[0.6,0.8)}                 {aceptable=0} 0.05454220\n",
              "609  {Propio=S,Extravagante=[0.4,0.6)}            {aceptable=0} 0.05633047\n",
              "521  {Propio=S,Desordenado=[0.6,0.8)}             {aceptable=0} 0.05239628\n",
              "212  {Propio=S,IngFam=[2.07e+04,3.02e+04)}        {aceptable=0} 0.05329041\n",
              "363  {Propio=S,IngFam=[4.05e+04,5e+04]}           {aceptable=0} 0.05597282\n",
              "888  {Propio=S,Espiritual=[0.4,0.6)}              {aceptable=0} 0.05597282\n",
              "764  {Propio=S,Compasivo=[0.4,0.6)}               {aceptable=0} 0.05579399\n",
              "321  {Propio=S,Exitable=[0.8,1]}                  {aceptable=0} 0.05686695\n",
              "644  {Propio=S,Compasivo=[0.6,0.8)}               {aceptable=0} 0.05954936\n",
              "387  {Propio=S,Servicial=[0.4,0.6)}               {aceptable=0} 0.05507868\n",
              "624  {Propio=S,Sentimental=[0.8,1]}               {aceptable=0} 0.05364807\n",
              "356  {Propio=S,Capaz=[0.2,0.4)}                   {aceptable=0} 0.05525751\n",
              "756  {Propio=S,Desordenado=[0.2,0.4)}             {aceptable=0} 0.05686695\n",
              "547  {Propio=S,Dependiente=[0.2,0.4)}             {aceptable=0} 0.05668813\n",
              "394  {Propio=S,Pesimista=[0.6,0.8)}               {aceptable=0} 0.05436338\n",
              "372  {Propio=S,Desordenado=[0.4,0.6)}             {aceptable=0} 0.05543634\n",
              "     confidence coverage   lift      count\n",
              "1439 0.9917127  0.06473534 1.199320  359  \n",
              "1436 0.9916898  0.06455651 1.199293  358  \n",
              "1433 0.9861111  0.05150215 1.192546  284  \n",
              "1034 0.9851190  0.06008584 1.191346  331  \n",
              "970  0.9842520  0.06813305 1.190298  375  \n",
              "1554 0.9815303  0.06777539 1.187006  372  \n",
              "964  0.9806202  0.04613734 1.185906  253  \n",
              "1844 0.9796954  0.07045780 1.184787  386  \n",
              "1847 0.9785714  0.07510730 1.183428  411  \n",
              "1438 0.9784367  0.06634478 1.183265  363  \n",
              "1756 0.9762533  0.06777539 1.180625  370  \n",
              "1287 0.9754386  0.05096567 1.179639  278  \n",
              "571  0.9753086  0.13036481 1.179482  711  \n",
              "1879 0.9744526  0.04899857 1.178447  267  \n",
              "556  0.9741379  0.04148784 1.178066  226  \n",
              "1435 0.9731544  0.05329041 1.176877  290  \n",
              "1840 0.9726962  0.05239628 1.176323  285  \n",
              "1841 0.9726962  0.05239628 1.176323  285  \n",
              "564  0.9726562  0.04577969 1.176275  249  \n",
              "1881 0.9722222  0.06437768 1.175750  350  \n",
              "1882 0.9716157  0.08190272 1.175016  445  \n",
              "1588 0.9715026  0.06902718 1.174879  375  \n",
              "967  0.9713467  0.06241059 1.174691  339  \n",
              "941  0.9713115  0.04363376 1.174648  237  \n",
              "1553 0.9712042  0.06831187 1.174519  371  \n",
              "1293 0.9709763  0.06777539 1.174243  368  \n",
              "1548 0.9708029  0.04899857 1.174033  266  \n",
              "1403 0.9707447  0.06723891 1.173963  365  \n",
              "1432 0.9702602  0.04810443 1.173377  261  \n",
              "1412 0.9695291  0.06455651 1.172493  350  \n",
              "⋮    ⋮          ⋮          ⋮         ⋮    \n",
              "68   0.7690941  0.20135908 0.9300983 866  \n",
              "209  0.7687970  0.09513591 0.9297389 409  \n",
              "822  0.7685393  0.07957797 0.9294273 342  \n",
              "478  0.7661098  0.07492847 0.9264892 321  \n",
              "429  0.7652582  0.07618026 0.9254593 326  \n",
              "180  0.7651715  0.06777539 0.9253545 290  \n",
              "270  0.7647059  0.06992132 0.9247914 299  \n",
              "775  0.7644231  0.07439199 0.9244494 318  \n",
              "596  0.7619048  0.10139485 0.9214039 432  \n",
              "866  0.7615741  0.07725322 0.9210039 329  \n",
              "601  0.7610209  0.07707439 0.9203349 328  \n",
              "796  0.7610209  0.07707439 0.9203349 328  \n",
              "537  0.7601918  0.07457082 0.9193324 317  \n",
              "1858 0.7597911  0.06849070 0.9188477 291  \n",
              "724  0.7568238  0.07206724 0.9152593 305  \n",
              "609  0.7553957  0.07457082 0.9135322 315  \n",
              "521  0.7551546  0.06938484 0.9132406 293  \n",
              "212  0.7544304  0.07063662 0.9123648 298  \n",
              "363  0.7542169  0.07421316 0.9121066 313  \n",
              "888  0.7542169  0.07421316 0.9121066 313  \n",
              "764  0.7536232  0.07403433 0.9113886 312  \n",
              "321  0.7535545  0.07546495 0.9113055 318  \n",
              "644  0.7533937  0.07904149 0.9111110 333  \n",
              "387  0.7530562  0.07314020 0.9107030 308  \n",
              "624  0.7518797  0.07135193 0.9092801 300  \n",
              "356  0.7518248  0.07349785 0.9092137 309  \n",
              "756  0.7517730  0.07564378 0.9091511 318  \n",
              "547  0.7511848  0.07546495 0.9084398 317  \n",
              "394  0.7506173  0.07242489 0.9077534 304  \n",
              "372  0.7506053  0.07385551 0.9077390 310  "
            ]
          },
          "metadata": {}
        }
      ]
    },
    {
      "cell_type": "code",
      "source": [
        "table(r$RHS)"
      ],
      "metadata": {
        "colab": {
          "base_uri": "https://localhost:8080/",
          "height": 69
        },
        "id": "zK8s3qD88exr",
        "outputId": "1c4f38b2-d024-48bb-9bb2-3ba508611401"
      },
      "execution_count": 38,
      "outputs": [
        {
          "output_type": "display_data",
          "data": {
            "text/plain": [
              "\n",
              "{aceptable=0} \n",
              "         1882 "
            ]
          },
          "metadata": {}
        }
      ]
    },
    {
      "cell_type": "markdown",
      "source": [
        "What should we do now, then? The first option is relaxing our parameters, maybe we're asking too much. We are going to ask for a 0.01 support, and we will also just ask for the rules with aceptable = 1. "
      ],
      "metadata": {
        "id": "dCl_NAUT87Fz"
      }
    },
    {
      "cell_type": "code",
      "source": [
        "reglas2 <- apriori(htrain,parameter=list(support=0.01,confidence=0.75),appearance = list(rhs=c(\"aceptable=1\")))"
      ],
      "metadata": {
        "colab": {
          "base_uri": "https://localhost:8080/"
        },
        "id": "MoVlQmtM9CDJ",
        "outputId": "b71d92ce-17c7-4051-8bea-d60c2224a857"
      },
      "execution_count": 40,
      "outputs": [
        {
          "output_type": "stream",
          "name": "stderr",
          "text": [
            "Warning message:\n",
            "“Column(s) 1, 2, 3 not logical or factor. Applying default discretization (see '? discretizeDF').”\n"
          ]
        },
        {
          "output_type": "stream",
          "name": "stdout",
          "text": [
            "Apriori\n",
            "\n",
            "Parameter specification:\n",
            " confidence minval smax arem  aval originalSupport maxtime support minlen\n",
            "       0.75    0.1    1 none FALSE            TRUE       5    0.01      1\n",
            " maxlen target  ext\n",
            "     10  rules TRUE\n",
            "\n",
            "Algorithmic control:\n",
            " filter tree heap memopt load sort verbose\n",
            "    0.1 TRUE TRUE  FALSE TRUE    2    TRUE\n",
            "\n",
            "Absolute minimum support count: 55 \n",
            "\n",
            "set item appearances ...[1 item(s)] done [0.00s].\n",
            "set transactions ...[126 item(s), 5592 transaction(s)] done [0.01s].\n",
            "sorting and recoding items ... [126 item(s)] done [0.00s].\n",
            "creating transaction tree ... done [0.00s].\n",
            "checking subsets of size 1 2 3 4 5 6 done [0.75s].\n",
            "writing ... [1 rule(s)] done [0.01s].\n",
            "creating S4 object  ... done [0.01s].\n"
          ]
        }
      ]
    },
    {
      "cell_type": "code",
      "source": [
        "r2 <- DATAFRAME(reglas2)"
      ],
      "metadata": {
        "id": "irZO_g5h95Z-"
      },
      "execution_count": 41,
      "outputs": []
    },
    {
      "cell_type": "code",
      "source": [
        "r2"
      ],
      "metadata": {
        "colab": {
          "base_uri": "https://localhost:8080/",
          "height": 129
        },
        "outputId": "71c06901-9492-45b3-969e-7881c8405fb5",
        "id": "1Xg1N1jZ95Z-"
      },
      "execution_count": 42,
      "outputs": [
        {
          "output_type": "display_data",
          "data": {
            "text/html": [
              "<table class=\"dataframe\">\n",
              "<caption>A data.frame: 1 × 7</caption>\n",
              "<thead>\n",
              "\t<tr><th></th><th scope=col>LHS</th><th scope=col>RHS</th><th scope=col>support</th><th scope=col>confidence</th><th scope=col>coverage</th><th scope=col>lift</th><th scope=col>count</th></tr>\n",
              "\t<tr><th></th><th scope=col>&lt;fct&gt;</th><th scope=col>&lt;fct&gt;</th><th scope=col>&lt;dbl&gt;</th><th scope=col>&lt;dbl&gt;</th><th scope=col>&lt;dbl&gt;</th><th scope=col>&lt;dbl&gt;</th><th scope=col>&lt;int&gt;</th></tr>\n",
              "</thead>\n",
              "<tbody>\n",
              "\t<tr><th scope=row>1</th><td>{Propio=S,Hijos=[4,5)}</td><td>{aceptable=1}</td><td>0.01251788</td><td>0.7608696</td><td>0.01645207</td><td>4.399982</td><td>70</td></tr>\n",
              "</tbody>\n",
              "</table>\n"
            ],
            "text/markdown": "\nA data.frame: 1 × 7\n\n| <!--/--> | LHS &lt;fct&gt; | RHS &lt;fct&gt; | support &lt;dbl&gt; | confidence &lt;dbl&gt; | coverage &lt;dbl&gt; | lift &lt;dbl&gt; | count &lt;int&gt; |\n|---|---|---|---|---|---|---|---|\n| 1 | {Propio=S,Hijos=[4,5)} | {aceptable=1} | 0.01251788 | 0.7608696 | 0.01645207 | 4.399982 | 70 |\n\n",
            "text/latex": "A data.frame: 1 × 7\n\\begin{tabular}{r|lllllll}\n  & LHS & RHS & support & confidence & coverage & lift & count\\\\\n  & <fct> & <fct> & <dbl> & <dbl> & <dbl> & <dbl> & <int>\\\\\n\\hline\n\t1 & \\{Propio=S,Hijos={[}4,5)\\} & \\{aceptable=1\\} & 0.01251788 & 0.7608696 & 0.01645207 & 4.399982 & 70\\\\\n\\end{tabular}\n",
            "text/plain": [
              "  LHS                    RHS           support    confidence coverage  \n",
              "1 {Propio=S,Hijos=[4,5)} {aceptable=1} 0.01251788 0.7608696  0.01645207\n",
              "  lift     count\n",
              "1 4.399982 70   "
            ]
          },
          "metadata": {}
        }
      ]
    },
    {
      "cell_type": "markdown",
      "source": [
        "That is just want rule. But we want more. What is something else we could do? \n",
        "\n",
        "The same we did with decision trees, we are going to balance the classes. "
      ],
      "metadata": {
        "id": "31hjC6Mk-jiM"
      }
    },
    {
      "cell_type": "code",
      "source": [
        "table(h$aceptable)"
      ],
      "metadata": {
        "colab": {
          "base_uri": "https://localhost:8080/",
          "height": 69
        },
        "id": "tqZHNlrZ_fSx",
        "outputId": "7ebc0671-38f4-4a05-e8fe-681b60e3c039"
      },
      "execution_count": 43,
      "outputs": [
        {
          "output_type": "display_data",
          "data": {
            "text/plain": [
              "\n",
              "   0    1 \n",
              "6582 1418 "
            ]
          },
          "metadata": {}
        }
      ]
    },
    {
      "cell_type": "code",
      "source": [
        "hno <- h[which(h$aceptable == 0),] \n",
        "hyes <- h[which(h$aceptable == 1),]\n",
        "x <- runif(nrow(hno))\n",
        "hnof <- hno[which(x<0.25),]"
      ],
      "metadata": {
        "id": "_2NMdOJ9_fP9"
      },
      "execution_count": 49,
      "outputs": []
    },
    {
      "cell_type": "code",
      "source": [
        "hnew <- rbind(hyes,hnof)"
      ],
      "metadata": {
        "id": "GgmDN6uw_fNb"
      },
      "execution_count": 50,
      "outputs": []
    },
    {
      "cell_type": "code",
      "source": [
        "table(hnew$aceptable)"
      ],
      "metadata": {
        "colab": {
          "base_uri": "https://localhost:8080/",
          "height": 69
        },
        "id": "fc1AQn1JAL2w",
        "outputId": "4248de75-e0e8-4bf7-b160-f1558a3d1275"
      },
      "execution_count": 51,
      "outputs": [
        {
          "output_type": "display_data",
          "data": {
            "text/plain": [
              "\n",
              "   0    1 \n",
              "1663 1418 "
            ]
          },
          "metadata": {}
        }
      ]
    },
    {
      "cell_type": "markdown",
      "source": [
        "Now we split into train and test again. "
      ],
      "metadata": {
        "id": "FLAofGyFAWVg"
      }
    },
    {
      "cell_type": "code",
      "source": [
        "x <- runif(nrow(hnew))\n",
        "hnewtrain <- hnew[which(x<0.7),]\n",
        "hnewtest <- hnew[which(x >= 0.7),]"
      ],
      "metadata": {
        "id": "JuROZCfbAVXa"
      },
      "execution_count": 52,
      "outputs": []
    },
    {
      "cell_type": "markdown",
      "source": [
        "And now we can construct our rules again."
      ],
      "metadata": {
        "id": "kGwZDoJ8Aonn"
      }
    },
    {
      "cell_type": "code",
      "source": [
        "reglas3 <- apriori(hnewtrain,parameter=list(support=0.04,confidence=0.75),appearance = list(rhs=c(\"aceptable=1\",\"aceptable=0\")))"
      ],
      "metadata": {
        "colab": {
          "base_uri": "https://localhost:8080/"
        },
        "outputId": "ef10789e-73e0-41e0-ab6d-d1a9af5433e7",
        "id": "iR2hm0xBA4CY"
      },
      "execution_count": 53,
      "outputs": [
        {
          "output_type": "stream",
          "name": "stderr",
          "text": [
            "Warning message:\n",
            "“Column(s) 1, 2, 3 not logical or factor. Applying default discretization (see '? discretizeDF').”\n"
          ]
        },
        {
          "output_type": "stream",
          "name": "stdout",
          "text": [
            "Apriori\n",
            "\n",
            "Parameter specification:\n",
            " confidence minval smax arem  aval originalSupport maxtime support minlen\n",
            "       0.75    0.1    1 none FALSE            TRUE       5    0.04      1\n",
            " maxlen target  ext\n",
            "     10  rules TRUE\n",
            "\n",
            "Algorithmic control:\n",
            " filter tree heap memopt load sort verbose\n",
            "    0.1 TRUE TRUE  FALSE TRUE    2    TRUE\n",
            "\n",
            "Absolute minimum support count: 87 \n",
            "\n",
            "set item appearances ...[2 item(s)] done [0.00s].\n",
            "set transactions ...[126 item(s), 2182 transaction(s)] done [0.01s].\n",
            "sorting and recoding items ... [126 item(s)] done [0.00s].\n",
            "creating transaction tree ... done [0.00s].\n",
            "checking subsets of size 1 2 3 4 5 done [0.03s].\n",
            "writing ... [122 rule(s)] done [0.00s].\n",
            "creating S4 object  ... done [0.00s].\n"
          ]
        }
      ]
    },
    {
      "cell_type": "code",
      "source": [
        "reglas3 <- sort(reglas3,by='confidence',decreasing = TRUE)"
      ],
      "metadata": {
        "id": "SHbEcQVpAxYA"
      },
      "execution_count": 54,
      "outputs": []
    },
    {
      "cell_type": "code",
      "source": [
        "r3 <- DATAFRAME(reglas3)"
      ],
      "metadata": {
        "id": "3RkG6oVEAxYB"
      },
      "execution_count": 55,
      "outputs": []
    },
    {
      "cell_type": "code",
      "source": [
        "r3"
      ],
      "metadata": {
        "colab": {
          "base_uri": "https://localhost:8080/",
          "height": 1000
        },
        "outputId": "a023c5a1-7aac-4989-d63d-6a61d0a76789",
        "id": "cQqBT8u5AxYB"
      },
      "execution_count": 56,
      "outputs": [
        {
          "output_type": "display_data",
          "data": {
            "text/html": [
              "<table class=\"dataframe\">\n",
              "<caption>A data.frame: 122 × 7</caption>\n",
              "<thead>\n",
              "\t<tr><th></th><th scope=col>LHS</th><th scope=col>RHS</th><th scope=col>support</th><th scope=col>confidence</th><th scope=col>coverage</th><th scope=col>lift</th><th scope=col>count</th></tr>\n",
              "\t<tr><th></th><th scope=col>&lt;fct&gt;</th><th scope=col>&lt;fct&gt;</th><th scope=col>&lt;dbl&gt;</th><th scope=col>&lt;dbl&gt;</th><th scope=col>&lt;dbl&gt;</th><th scope=col>&lt;dbl&gt;</th><th scope=col>&lt;int&gt;</th></tr>\n",
              "</thead>\n",
              "<tbody>\n",
              "\t<tr><th scope=row>40</th><td>{Propio=P,Hijos=[0,1),Espiritual=[0.8,1]}   </td><td>{aceptable=0}</td><td>0.04032997</td><td>0.9462366</td><td>0.04262145</td><td>1.798509</td><td> 88</td></tr>\n",
              "\t<tr><th scope=row>41</th><td>{Propio=P,Hijos=[0,1),Timido=[0.8,1]}       </td><td>{aceptable=0}</td><td>0.04032997</td><td>0.9462366</td><td>0.04262145</td><td>1.798509</td><td> 88</td></tr>\n",
              "\t<tr><th scope=row>42</th><td>{Padre=P,Hijos=[0,1),Timido=[0.8,1]}        </td><td>{aceptable=0}</td><td>0.04307974</td><td>0.9400000</td><td>0.04582951</td><td>1.786655</td><td> 94</td></tr>\n",
              "\t<tr><th scope=row>43</th><td>{Madre=P,Hijos=[0,1),Timido=[0.8,1]}        </td><td>{aceptable=0}</td><td>0.04582951</td><td>0.9345794</td><td>0.04903758</td><td>1.776352</td><td>100</td></tr>\n",
              "\t<tr><th scope=row>45</th><td>{Padre=P,Hijos=[0,1),Etico=[0.8,1]}         </td><td>{aceptable=0}</td><td>0.04124656</td><td>0.9278351</td><td>0.04445463</td><td>1.763533</td><td> 90</td></tr>\n",
              "\t<tr><th scope=row>44</th><td>{Propio=P,Hijos=[0,1),Etico=[0.8,1]}        </td><td>{aceptable=0}</td><td>0.04491292</td><td>0.9158879</td><td>0.04903758</td><td>1.740825</td><td> 98</td></tr>\n",
              "\t<tr><th scope=row>47</th><td>{Propio=P,Hijos=[0,1),Temeroso=[0.8,1]}     </td><td>{aceptable=0}</td><td>0.04537122</td><td>0.9082569</td><td>0.04995417</td><td>1.726321</td><td> 99</td></tr>\n",
              "\t<tr><th scope=row>11</th><td>{Hijos=[0,1),Timido=[0.8,1]}                </td><td>{aceptable=0}</td><td>0.08340972</td><td>0.9054726</td><td>0.09211732</td><td>1.721029</td><td>182</td></tr>\n",
              "\t<tr><th scope=row>63</th><td>{Propio=P,Hijos=[0,1),Servicial=[0,0.2)}    </td><td>{aceptable=0}</td><td>0.04353804</td><td>0.8962264</td><td>0.04857929</td><td>1.703455</td><td> 95</td></tr>\n",
              "\t<tr><th scope=row>60</th><td>{Propio=P,Hijos=[0,1),Impulsivo=[0,0.2)}    </td><td>{aceptable=0}</td><td>0.04307974</td><td>0.8952381</td><td>0.04812099</td><td>1.701576</td><td> 94</td></tr>\n",
              "\t<tr><th scope=row>49</th><td>{Madre=P,Hijos=[0,1),Temeroso=[0.8,1]}      </td><td>{aceptable=0}</td><td>0.04216315</td><td>0.8932039</td><td>0.04720440</td><td>1.697710</td><td> 92</td></tr>\n",
              "\t<tr><th scope=row>97</th><td>{Propio=P,Hijos=[0,1),Desordenado=[0.6,0.8)}</td><td>{aceptable=0}</td><td>0.04537122</td><td>0.8839286</td><td>0.05132906</td><td>1.680080</td><td> 99</td></tr>\n",
              "\t<tr><th scope=row>2</th><td>{Padre=P,Hijos=[4,5)}                       </td><td>{aceptable=1}</td><td>0.04170486</td><td>0.8834951</td><td>0.04720440</td><td>1.864397</td><td> 91</td></tr>\n",
              "\t<tr><th scope=row>77</th><td>{Propio=P,Hijos=[0,1),Apego=[0.2,0.4)}      </td><td>{aceptable=0}</td><td>0.04628781</td><td>0.8782609</td><td>0.05270394</td><td>1.669308</td><td>101</td></tr>\n",
              "\t<tr><th scope=row>48</th><td>{Padre=P,Hijos=[0,1),Temeroso=[0.8,1]}      </td><td>{aceptable=0}</td><td>0.04949588</td><td>0.8780488</td><td>0.05637030</td><td>1.668905</td><td>108</td></tr>\n",
              "\t<tr><th scope=row>1</th><td>{Hijos=[4,5)}                               </td><td>{aceptable=1}</td><td>0.08478460</td><td>0.8767773</td><td>0.09670027</td><td>1.850220</td><td>185</td></tr>\n",
              "\t<tr><th scope=row>72</th><td>{Propio=P,Hijos=[0,1),Pesimista=[0.8,1]}    </td><td>{aceptable=0}</td><td>0.04124656</td><td>0.8737864</td><td>0.04720440</td><td>1.660803</td><td> 90</td></tr>\n",
              "\t<tr><th scope=row>51</th><td>{Padre=P,Hijos=[0,1),Sociable=[0,0.2)}      </td><td>{aceptable=0}</td><td>0.04399633</td><td>0.8727273</td><td>0.05041247</td><td>1.658790</td><td> 96</td></tr>\n",
              "\t<tr><th scope=row>73</th><td>{Propio=P,Hijos=[0,1),Vago=[0.8,1]}         </td><td>{aceptable=0}</td><td>0.04582951</td><td>0.8695652</td><td>0.05270394</td><td>1.652780</td><td>100</td></tr>\n",
              "\t<tr><th scope=row>9</th><td>{Hijos=[0,1),Espiritual=[0.8,1]}            </td><td>{aceptable=0}</td><td>0.07745188</td><td>0.8666667</td><td>0.08936755</td><td>1.647271</td><td>169</td></tr>\n",
              "\t<tr><th scope=row>98</th><td>{Propio=P,Hijos=[0,1),Capaz=[0.4,0.6)}      </td><td>{aceptable=0}</td><td>0.04078827</td><td>0.8640777</td><td>0.04720440</td><td>1.642350</td><td> 89</td></tr>\n",
              "\t<tr><th scope=row>92</th><td>{Padre=P,Hijos=[0,1),Empatia=[0.6,0.8)}     </td><td>{aceptable=0}</td><td>0.05224565</td><td>0.8636364</td><td>0.06049496</td><td>1.641511</td><td>114</td></tr>\n",
              "\t<tr><th scope=row>50</th><td>{Propio=P,Hijos=[0,1),Sociable=[0,0.2)}     </td><td>{aceptable=0}</td><td>0.04032997</td><td>0.8627451</td><td>0.04674610</td><td>1.639817</td><td> 88</td></tr>\n",
              "\t<tr><th scope=row>61</th><td>{Padre=P,Hijos=[0,1),Impulsivo=[0,0.2)}     </td><td>{aceptable=0}</td><td>0.04491292</td><td>0.8596491</td><td>0.05224565</td><td>1.633932</td><td> 98</td></tr>\n",
              "\t<tr><th scope=row>58</th><td>{Propio=P,Hijos=[0,1),Conciente=[0.8,1]}    </td><td>{aceptable=0}</td><td>0.04445463</td><td>0.8584071</td><td>0.05178735</td><td>1.631572</td><td> 97</td></tr>\n",
              "\t<tr><th scope=row>53</th><td>{Padre=P,Hijos=[0,1),Etico=[0.6,0.8)}       </td><td>{aceptable=0}</td><td>0.04124656</td><td>0.8571429</td><td>0.04812099</td><td>1.629169</td><td> 90</td></tr>\n",
              "\t<tr><th scope=row>91</th><td>{Propio=P,Hijos=[0,1),Empatia=[0.6,0.8)}    </td><td>{aceptable=0}</td><td>0.04353804</td><td>0.8558559</td><td>0.05087076</td><td>1.626723</td><td> 95</td></tr>\n",
              "\t<tr><th scope=row>79</th><td>{Propio=P,Hijos=[0,1),Apego=[0,0.2)}        </td><td>{aceptable=0}</td><td>0.04078827</td><td>0.8557692</td><td>0.04766269</td><td>1.626558</td><td> 89</td></tr>\n",
              "\t<tr><th scope=row>16</th><td>{Padre=U,Timido=[0,0.2)}                    </td><td>{aceptable=1}</td><td>0.04032997</td><td>0.8543689</td><td>0.04720440</td><td>1.802933</td><td> 88</td></tr>\n",
              "\t<tr><th scope=row>86</th><td>{Propio=P,Hijos=[0,1),Responsable=[0.2,0.4)}</td><td>{aceptable=0}</td><td>0.04537122</td><td>0.8534483</td><td>0.05316224</td><td>1.622146</td><td> 99</td></tr>\n",
              "\t<tr><th scope=row>⋮</th><td>⋮</td><td>⋮</td><td>⋮</td><td>⋮</td><td>⋮</td><td>⋮</td><td>⋮</td></tr>\n",
              "\t<tr><th scope=row>99</th><td>{Padre=P,Hijos=[0,1),Extravagante=[0.2,0.4)}</td><td>{aceptable=0}</td><td>0.04262145</td><td>0.7685950</td><td>0.05545371</td><td>1.460866</td><td> 93</td></tr>\n",
              "\t<tr><th scope=row>111</th><td>{Padre=P,Hijos=[0,1),Timido=[0.2,0.4)}      </td><td>{aceptable=0}</td><td>0.04537122</td><td>0.7674419</td><td>0.05912007</td><td>1.458674</td><td> 99</td></tr>\n",
              "\t<tr><th scope=row>105</th><td>{Propio=P,Hijos=[0,1),Temeroso=[0.2,0.4)}   </td><td>{aceptable=0}</td><td>0.04078827</td><td>0.7672414</td><td>0.05316224</td><td>1.458293</td><td> 89</td></tr>\n",
              "\t<tr><th scope=row>85</th><td>{Padre=P,Hijos=[0,1),Desordenado=[0.8,1]}   </td><td>{aceptable=0}</td><td>0.04812099</td><td>0.7664234</td><td>0.06278643</td><td>1.456738</td><td>105</td></tr>\n",
              "\t<tr><th scope=row>33</th><td>{Hijos=[0,1),Empatia=[0.6,0.8)}             </td><td>{aceptable=0}</td><td>0.08982585</td><td>0.7656250</td><td>0.11732356</td><td>1.455221</td><td>196</td></tr>\n",
              "\t<tr><th scope=row>30</th><td>{Hijos=[0,1),Servicial=[0.2,0.4)}           </td><td>{aceptable=0}</td><td>0.08524290</td><td>0.7654321</td><td>0.11136572</td><td>1.454854</td><td>186</td></tr>\n",
              "\t<tr><th scope=row>103</th><td>{Padre=P,Hijos=[0,1),Exitable=[0,0.2)}      </td><td>{aceptable=0}</td><td>0.05041247</td><td>0.7638889</td><td>0.06599450</td><td>1.451921</td><td>110</td></tr>\n",
              "\t<tr><th scope=row>36</th><td>{Timido=[0,0.2),Espiritual=[0,0.2)}         </td><td>{aceptable=1}</td><td>0.05453712</td><td>0.7628205</td><td>0.07149404</td><td>1.609743</td><td>119</td></tr>\n",
              "\t<tr><th scope=row>76</th><td>{Madre=P,Hijos=[0,1),Impulsivo=[0.2,0.4)}   </td><td>{aceptable=0}</td><td>0.04124656</td><td>0.7627119</td><td>0.05407883</td><td>1.449684</td><td> 90</td></tr>\n",
              "\t<tr><th scope=row>26</th><td>{Hijos=[0,1),Sociable=[0.2,0.4)}            </td><td>{aceptable=0}</td><td>0.08065995</td><td>0.7619048</td><td>0.10586618</td><td>1.448150</td><td>176</td></tr>\n",
              "\t<tr><th scope=row>12</th><td>{Hijos=[0,1),Compasivo=[0.8,1]}             </td><td>{aceptable=0}</td><td>0.07011916</td><td>0.7611940</td><td>0.09211732</td><td>1.446799</td><td>153</td></tr>\n",
              "\t<tr><th scope=row>4</th><td>{Propio=U,Padre=P}                          </td><td>{aceptable=0}</td><td>0.04078827</td><td>0.7606838</td><td>0.05362053</td><td>1.445829</td><td> 89</td></tr>\n",
              "\t<tr><th scope=row>21</th><td>{Propio=P,Temeroso=[0.8,1]}                 </td><td>{aceptable=0}</td><td>0.06691109</td><td>0.7604167</td><td>0.08799267</td><td>1.445322</td><td>146</td></tr>\n",
              "\t<tr><th scope=row>114</th><td>{Padre=P,Hijos=[0,1),Responsable=[0.8,1]}   </td><td>{aceptable=0}</td><td>0.04491292</td><td>0.7596899</td><td>0.05912007</td><td>1.443940</td><td> 98</td></tr>\n",
              "\t<tr><th scope=row>104</th><td>{Padre=P,Hijos=[0,1),Extravagante=[0.6,0.8)}</td><td>{aceptable=0}</td><td>0.04307974</td><td>0.7580645</td><td>0.05682860</td><td>1.440851</td><td> 94</td></tr>\n",
              "\t<tr><th scope=row>81</th><td>{Madre=P,Hijos=[0,1),Desordenado=[0.4,0.6)} </td><td>{aceptable=0}</td><td>0.04445463</td><td>0.7578125</td><td>0.05866178</td><td>1.440372</td><td> 97</td></tr>\n",
              "\t<tr><th scope=row>37</th><td>{Padre=S,Hijos=[0,1)}                       </td><td>{aceptable=0}</td><td>0.14482126</td><td>0.7577938</td><td>0.19110907</td><td>1.440336</td><td>316</td></tr>\n",
              "\t<tr><th scope=row>19</th><td>{Hijos=[0,1),Temeroso=[0.6,0.8)}            </td><td>{aceptable=0}</td><td>0.07424381</td><td>0.7570093</td><td>0.09807516</td><td>1.438845</td><td>162</td></tr>\n",
              "\t<tr><th scope=row>31</th><td>{Hijos=[0,1),Pesimista=[0.8,1]}             </td><td>{aceptable=0}</td><td>0.07974335</td><td>0.7565217</td><td>0.10540788</td><td>1.437918</td><td>174</td></tr>\n",
              "\t<tr><th scope=row>27</th><td>{Hijos=[0,1),Compasivo=[0.6,0.8)}           </td><td>{aceptable=0}</td><td>0.08524290</td><td>0.7560976</td><td>0.11274060</td><td>1.437112</td><td>186</td></tr>\n",
              "\t<tr><th scope=row>52</th><td>{Madre=P,Hijos=[0,1),Sociable=[0,0.2)}      </td><td>{aceptable=0}</td><td>0.04262145</td><td>0.7560976</td><td>0.05637030</td><td>1.437112</td><td> 93</td></tr>\n",
              "\t<tr><th scope=row>112</th><td>{Padre=P,PIngFam=[0,0.2),Hijos=[0,1)}       </td><td>{aceptable=0}</td><td>0.04812099</td><td>0.7553957</td><td>0.06370302</td><td>1.435778</td><td>105</td></tr>\n",
              "\t<tr><th scope=row>121</th><td>{Padre=P,Madre=P,Hijos=[0,1)}               </td><td>{aceptable=0}</td><td>0.10174152</td><td>0.7551020</td><td>0.13473877</td><td>1.435220</td><td>222</td></tr>\n",
              "\t<tr><th scope=row>24</th><td>{Propio=P,Etico=[0.6,0.8)}                  </td><td>{aceptable=0}</td><td>0.06049496</td><td>0.7542857</td><td>0.08020165</td><td>1.433668</td><td>132</td></tr>\n",
              "\t<tr><th scope=row>6</th><td>{Padre=S,Espiritual=[0.8,1]}                </td><td>{aceptable=0}</td><td>0.04353804</td><td>0.7539683</td><td>0.05774519</td><td>1.433065</td><td> 95</td></tr>\n",
              "\t<tr><th scope=row>35</th><td>{Etico=[0,0.2),Espiritual=[0,0.2)}          </td><td>{aceptable=1}</td><td>0.04491292</td><td>0.7538462</td><td>0.05957837</td><td>1.590805</td><td> 98</td></tr>\n",
              "\t<tr><th scope=row>39</th><td>{Padre=P,Hijos=[0,1)}                       </td><td>{aceptable=0}</td><td>0.19981668</td><td>0.7530225</td><td>0.26535289</td><td>1.431267</td><td>436</td></tr>\n",
              "\t<tr><th scope=row>110</th><td>{Propio=P,Hijos=[0,1),Servicial=[0.6,0.8)}  </td><td>{aceptable=0}</td><td>0.04032997</td><td>0.7521368</td><td>0.05362053</td><td>1.429584</td><td> 88</td></tr>\n",
              "\t<tr><th scope=row>115</th><td>{Padre=S,Madre=S,Hijos=[0,1)}               </td><td>{aceptable=0}</td><td>0.05270394</td><td>0.7516340</td><td>0.07011916</td><td>1.428628</td><td>115</td></tr>\n",
              "\t<tr><th scope=row>106</th><td>{Propio=P,Hijos=[0,1),Empatia=[0,0.2)}      </td><td>{aceptable=0}</td><td>0.04124656</td><td>0.7500000</td><td>0.05499542</td><td>1.425523</td><td> 90</td></tr>\n",
              "</tbody>\n",
              "</table>\n"
            ],
            "text/markdown": "\nA data.frame: 122 × 7\n\n| <!--/--> | LHS &lt;fct&gt; | RHS &lt;fct&gt; | support &lt;dbl&gt; | confidence &lt;dbl&gt; | coverage &lt;dbl&gt; | lift &lt;dbl&gt; | count &lt;int&gt; |\n|---|---|---|---|---|---|---|---|\n| 40 | {Propio=P,Hijos=[0,1),Espiritual=[0.8,1]}    | {aceptable=0} | 0.04032997 | 0.9462366 | 0.04262145 | 1.798509 |  88 |\n| 41 | {Propio=P,Hijos=[0,1),Timido=[0.8,1]}        | {aceptable=0} | 0.04032997 | 0.9462366 | 0.04262145 | 1.798509 |  88 |\n| 42 | {Padre=P,Hijos=[0,1),Timido=[0.8,1]}         | {aceptable=0} | 0.04307974 | 0.9400000 | 0.04582951 | 1.786655 |  94 |\n| 43 | {Madre=P,Hijos=[0,1),Timido=[0.8,1]}         | {aceptable=0} | 0.04582951 | 0.9345794 | 0.04903758 | 1.776352 | 100 |\n| 45 | {Padre=P,Hijos=[0,1),Etico=[0.8,1]}          | {aceptable=0} | 0.04124656 | 0.9278351 | 0.04445463 | 1.763533 |  90 |\n| 44 | {Propio=P,Hijos=[0,1),Etico=[0.8,1]}         | {aceptable=0} | 0.04491292 | 0.9158879 | 0.04903758 | 1.740825 |  98 |\n| 47 | {Propio=P,Hijos=[0,1),Temeroso=[0.8,1]}      | {aceptable=0} | 0.04537122 | 0.9082569 | 0.04995417 | 1.726321 |  99 |\n| 11 | {Hijos=[0,1),Timido=[0.8,1]}                 | {aceptable=0} | 0.08340972 | 0.9054726 | 0.09211732 | 1.721029 | 182 |\n| 63 | {Propio=P,Hijos=[0,1),Servicial=[0,0.2)}     | {aceptable=0} | 0.04353804 | 0.8962264 | 0.04857929 | 1.703455 |  95 |\n| 60 | {Propio=P,Hijos=[0,1),Impulsivo=[0,0.2)}     | {aceptable=0} | 0.04307974 | 0.8952381 | 0.04812099 | 1.701576 |  94 |\n| 49 | {Madre=P,Hijos=[0,1),Temeroso=[0.8,1]}       | {aceptable=0} | 0.04216315 | 0.8932039 | 0.04720440 | 1.697710 |  92 |\n| 97 | {Propio=P,Hijos=[0,1),Desordenado=[0.6,0.8)} | {aceptable=0} | 0.04537122 | 0.8839286 | 0.05132906 | 1.680080 |  99 |\n| 2 | {Padre=P,Hijos=[4,5)}                        | {aceptable=1} | 0.04170486 | 0.8834951 | 0.04720440 | 1.864397 |  91 |\n| 77 | {Propio=P,Hijos=[0,1),Apego=[0.2,0.4)}       | {aceptable=0} | 0.04628781 | 0.8782609 | 0.05270394 | 1.669308 | 101 |\n| 48 | {Padre=P,Hijos=[0,1),Temeroso=[0.8,1]}       | {aceptable=0} | 0.04949588 | 0.8780488 | 0.05637030 | 1.668905 | 108 |\n| 1 | {Hijos=[4,5)}                                | {aceptable=1} | 0.08478460 | 0.8767773 | 0.09670027 | 1.850220 | 185 |\n| 72 | {Propio=P,Hijos=[0,1),Pesimista=[0.8,1]}     | {aceptable=0} | 0.04124656 | 0.8737864 | 0.04720440 | 1.660803 |  90 |\n| 51 | {Padre=P,Hijos=[0,1),Sociable=[0,0.2)}       | {aceptable=0} | 0.04399633 | 0.8727273 | 0.05041247 | 1.658790 |  96 |\n| 73 | {Propio=P,Hijos=[0,1),Vago=[0.8,1]}          | {aceptable=0} | 0.04582951 | 0.8695652 | 0.05270394 | 1.652780 | 100 |\n| 9 | {Hijos=[0,1),Espiritual=[0.8,1]}             | {aceptable=0} | 0.07745188 | 0.8666667 | 0.08936755 | 1.647271 | 169 |\n| 98 | {Propio=P,Hijos=[0,1),Capaz=[0.4,0.6)}       | {aceptable=0} | 0.04078827 | 0.8640777 | 0.04720440 | 1.642350 |  89 |\n| 92 | {Padre=P,Hijos=[0,1),Empatia=[0.6,0.8)}      | {aceptable=0} | 0.05224565 | 0.8636364 | 0.06049496 | 1.641511 | 114 |\n| 50 | {Propio=P,Hijos=[0,1),Sociable=[0,0.2)}      | {aceptable=0} | 0.04032997 | 0.8627451 | 0.04674610 | 1.639817 |  88 |\n| 61 | {Padre=P,Hijos=[0,1),Impulsivo=[0,0.2)}      | {aceptable=0} | 0.04491292 | 0.8596491 | 0.05224565 | 1.633932 |  98 |\n| 58 | {Propio=P,Hijos=[0,1),Conciente=[0.8,1]}     | {aceptable=0} | 0.04445463 | 0.8584071 | 0.05178735 | 1.631572 |  97 |\n| 53 | {Padre=P,Hijos=[0,1),Etico=[0.6,0.8)}        | {aceptable=0} | 0.04124656 | 0.8571429 | 0.04812099 | 1.629169 |  90 |\n| 91 | {Propio=P,Hijos=[0,1),Empatia=[0.6,0.8)}     | {aceptable=0} | 0.04353804 | 0.8558559 | 0.05087076 | 1.626723 |  95 |\n| 79 | {Propio=P,Hijos=[0,1),Apego=[0,0.2)}         | {aceptable=0} | 0.04078827 | 0.8557692 | 0.04766269 | 1.626558 |  89 |\n| 16 | {Padre=U,Timido=[0,0.2)}                     | {aceptable=1} | 0.04032997 | 0.8543689 | 0.04720440 | 1.802933 |  88 |\n| 86 | {Propio=P,Hijos=[0,1),Responsable=[0.2,0.4)} | {aceptable=0} | 0.04537122 | 0.8534483 | 0.05316224 | 1.622146 |  99 |\n| ⋮ | ⋮ | ⋮ | ⋮ | ⋮ | ⋮ | ⋮ | ⋮ |\n| 99 | {Padre=P,Hijos=[0,1),Extravagante=[0.2,0.4)} | {aceptable=0} | 0.04262145 | 0.7685950 | 0.05545371 | 1.460866 |  93 |\n| 111 | {Padre=P,Hijos=[0,1),Timido=[0.2,0.4)}       | {aceptable=0} | 0.04537122 | 0.7674419 | 0.05912007 | 1.458674 |  99 |\n| 105 | {Propio=P,Hijos=[0,1),Temeroso=[0.2,0.4)}    | {aceptable=0} | 0.04078827 | 0.7672414 | 0.05316224 | 1.458293 |  89 |\n| 85 | {Padre=P,Hijos=[0,1),Desordenado=[0.8,1]}    | {aceptable=0} | 0.04812099 | 0.7664234 | 0.06278643 | 1.456738 | 105 |\n| 33 | {Hijos=[0,1),Empatia=[0.6,0.8)}              | {aceptable=0} | 0.08982585 | 0.7656250 | 0.11732356 | 1.455221 | 196 |\n| 30 | {Hijos=[0,1),Servicial=[0.2,0.4)}            | {aceptable=0} | 0.08524290 | 0.7654321 | 0.11136572 | 1.454854 | 186 |\n| 103 | {Padre=P,Hijos=[0,1),Exitable=[0,0.2)}       | {aceptable=0} | 0.05041247 | 0.7638889 | 0.06599450 | 1.451921 | 110 |\n| 36 | {Timido=[0,0.2),Espiritual=[0,0.2)}          | {aceptable=1} | 0.05453712 | 0.7628205 | 0.07149404 | 1.609743 | 119 |\n| 76 | {Madre=P,Hijos=[0,1),Impulsivo=[0.2,0.4)}    | {aceptable=0} | 0.04124656 | 0.7627119 | 0.05407883 | 1.449684 |  90 |\n| 26 | {Hijos=[0,1),Sociable=[0.2,0.4)}             | {aceptable=0} | 0.08065995 | 0.7619048 | 0.10586618 | 1.448150 | 176 |\n| 12 | {Hijos=[0,1),Compasivo=[0.8,1]}              | {aceptable=0} | 0.07011916 | 0.7611940 | 0.09211732 | 1.446799 | 153 |\n| 4 | {Propio=U,Padre=P}                           | {aceptable=0} | 0.04078827 | 0.7606838 | 0.05362053 | 1.445829 |  89 |\n| 21 | {Propio=P,Temeroso=[0.8,1]}                  | {aceptable=0} | 0.06691109 | 0.7604167 | 0.08799267 | 1.445322 | 146 |\n| 114 | {Padre=P,Hijos=[0,1),Responsable=[0.8,1]}    | {aceptable=0} | 0.04491292 | 0.7596899 | 0.05912007 | 1.443940 |  98 |\n| 104 | {Padre=P,Hijos=[0,1),Extravagante=[0.6,0.8)} | {aceptable=0} | 0.04307974 | 0.7580645 | 0.05682860 | 1.440851 |  94 |\n| 81 | {Madre=P,Hijos=[0,1),Desordenado=[0.4,0.6)}  | {aceptable=0} | 0.04445463 | 0.7578125 | 0.05866178 | 1.440372 |  97 |\n| 37 | {Padre=S,Hijos=[0,1)}                        | {aceptable=0} | 0.14482126 | 0.7577938 | 0.19110907 | 1.440336 | 316 |\n| 19 | {Hijos=[0,1),Temeroso=[0.6,0.8)}             | {aceptable=0} | 0.07424381 | 0.7570093 | 0.09807516 | 1.438845 | 162 |\n| 31 | {Hijos=[0,1),Pesimista=[0.8,1]}              | {aceptable=0} | 0.07974335 | 0.7565217 | 0.10540788 | 1.437918 | 174 |\n| 27 | {Hijos=[0,1),Compasivo=[0.6,0.8)}            | {aceptable=0} | 0.08524290 | 0.7560976 | 0.11274060 | 1.437112 | 186 |\n| 52 | {Madre=P,Hijos=[0,1),Sociable=[0,0.2)}       | {aceptable=0} | 0.04262145 | 0.7560976 | 0.05637030 | 1.437112 |  93 |\n| 112 | {Padre=P,PIngFam=[0,0.2),Hijos=[0,1)}        | {aceptable=0} | 0.04812099 | 0.7553957 | 0.06370302 | 1.435778 | 105 |\n| 121 | {Padre=P,Madre=P,Hijos=[0,1)}                | {aceptable=0} | 0.10174152 | 0.7551020 | 0.13473877 | 1.435220 | 222 |\n| 24 | {Propio=P,Etico=[0.6,0.8)}                   | {aceptable=0} | 0.06049496 | 0.7542857 | 0.08020165 | 1.433668 | 132 |\n| 6 | {Padre=S,Espiritual=[0.8,1]}                 | {aceptable=0} | 0.04353804 | 0.7539683 | 0.05774519 | 1.433065 |  95 |\n| 35 | {Etico=[0,0.2),Espiritual=[0,0.2)}           | {aceptable=1} | 0.04491292 | 0.7538462 | 0.05957837 | 1.590805 |  98 |\n| 39 | {Padre=P,Hijos=[0,1)}                        | {aceptable=0} | 0.19981668 | 0.7530225 | 0.26535289 | 1.431267 | 436 |\n| 110 | {Propio=P,Hijos=[0,1),Servicial=[0.6,0.8)}   | {aceptable=0} | 0.04032997 | 0.7521368 | 0.05362053 | 1.429584 |  88 |\n| 115 | {Padre=S,Madre=S,Hijos=[0,1)}                | {aceptable=0} | 0.05270394 | 0.7516340 | 0.07011916 | 1.428628 | 115 |\n| 106 | {Propio=P,Hijos=[0,1),Empatia=[0,0.2)}       | {aceptable=0} | 0.04124656 | 0.7500000 | 0.05499542 | 1.425523 |  90 |\n\n",
            "text/latex": "A data.frame: 122 × 7\n\\begin{tabular}{r|lllllll}\n  & LHS & RHS & support & confidence & coverage & lift & count\\\\\n  & <fct> & <fct> & <dbl> & <dbl> & <dbl> & <dbl> & <int>\\\\\n\\hline\n\t40 & \\{Propio=P,Hijos={[}0,1),Espiritual={[}0.8,1{]}\\}    & \\{aceptable=0\\} & 0.04032997 & 0.9462366 & 0.04262145 & 1.798509 &  88\\\\\n\t41 & \\{Propio=P,Hijos={[}0,1),Timido={[}0.8,1{]}\\}        & \\{aceptable=0\\} & 0.04032997 & 0.9462366 & 0.04262145 & 1.798509 &  88\\\\\n\t42 & \\{Padre=P,Hijos={[}0,1),Timido={[}0.8,1{]}\\}         & \\{aceptable=0\\} & 0.04307974 & 0.9400000 & 0.04582951 & 1.786655 &  94\\\\\n\t43 & \\{Madre=P,Hijos={[}0,1),Timido={[}0.8,1{]}\\}         & \\{aceptable=0\\} & 0.04582951 & 0.9345794 & 0.04903758 & 1.776352 & 100\\\\\n\t45 & \\{Padre=P,Hijos={[}0,1),Etico={[}0.8,1{]}\\}          & \\{aceptable=0\\} & 0.04124656 & 0.9278351 & 0.04445463 & 1.763533 &  90\\\\\n\t44 & \\{Propio=P,Hijos={[}0,1),Etico={[}0.8,1{]}\\}         & \\{aceptable=0\\} & 0.04491292 & 0.9158879 & 0.04903758 & 1.740825 &  98\\\\\n\t47 & \\{Propio=P,Hijos={[}0,1),Temeroso={[}0.8,1{]}\\}      & \\{aceptable=0\\} & 0.04537122 & 0.9082569 & 0.04995417 & 1.726321 &  99\\\\\n\t11 & \\{Hijos={[}0,1),Timido={[}0.8,1{]}\\}                 & \\{aceptable=0\\} & 0.08340972 & 0.9054726 & 0.09211732 & 1.721029 & 182\\\\\n\t63 & \\{Propio=P,Hijos={[}0,1),Servicial={[}0,0.2)\\}     & \\{aceptable=0\\} & 0.04353804 & 0.8962264 & 0.04857929 & 1.703455 &  95\\\\\n\t60 & \\{Propio=P,Hijos={[}0,1),Impulsivo={[}0,0.2)\\}     & \\{aceptable=0\\} & 0.04307974 & 0.8952381 & 0.04812099 & 1.701576 &  94\\\\\n\t49 & \\{Madre=P,Hijos={[}0,1),Temeroso={[}0.8,1{]}\\}       & \\{aceptable=0\\} & 0.04216315 & 0.8932039 & 0.04720440 & 1.697710 &  92\\\\\n\t97 & \\{Propio=P,Hijos={[}0,1),Desordenado={[}0.6,0.8)\\} & \\{aceptable=0\\} & 0.04537122 & 0.8839286 & 0.05132906 & 1.680080 &  99\\\\\n\t2 & \\{Padre=P,Hijos={[}4,5)\\}                        & \\{aceptable=1\\} & 0.04170486 & 0.8834951 & 0.04720440 & 1.864397 &  91\\\\\n\t77 & \\{Propio=P,Hijos={[}0,1),Apego={[}0.2,0.4)\\}       & \\{aceptable=0\\} & 0.04628781 & 0.8782609 & 0.05270394 & 1.669308 & 101\\\\\n\t48 & \\{Padre=P,Hijos={[}0,1),Temeroso={[}0.8,1{]}\\}       & \\{aceptable=0\\} & 0.04949588 & 0.8780488 & 0.05637030 & 1.668905 & 108\\\\\n\t1 & \\{Hijos={[}4,5)\\}                                & \\{aceptable=1\\} & 0.08478460 & 0.8767773 & 0.09670027 & 1.850220 & 185\\\\\n\t72 & \\{Propio=P,Hijos={[}0,1),Pesimista={[}0.8,1{]}\\}     & \\{aceptable=0\\} & 0.04124656 & 0.8737864 & 0.04720440 & 1.660803 &  90\\\\\n\t51 & \\{Padre=P,Hijos={[}0,1),Sociable={[}0,0.2)\\}       & \\{aceptable=0\\} & 0.04399633 & 0.8727273 & 0.05041247 & 1.658790 &  96\\\\\n\t73 & \\{Propio=P,Hijos={[}0,1),Vago={[}0.8,1{]}\\}          & \\{aceptable=0\\} & 0.04582951 & 0.8695652 & 0.05270394 & 1.652780 & 100\\\\\n\t9 & \\{Hijos={[}0,1),Espiritual={[}0.8,1{]}\\}             & \\{aceptable=0\\} & 0.07745188 & 0.8666667 & 0.08936755 & 1.647271 & 169\\\\\n\t98 & \\{Propio=P,Hijos={[}0,1),Capaz={[}0.4,0.6)\\}       & \\{aceptable=0\\} & 0.04078827 & 0.8640777 & 0.04720440 & 1.642350 &  89\\\\\n\t92 & \\{Padre=P,Hijos={[}0,1),Empatia={[}0.6,0.8)\\}      & \\{aceptable=0\\} & 0.05224565 & 0.8636364 & 0.06049496 & 1.641511 & 114\\\\\n\t50 & \\{Propio=P,Hijos={[}0,1),Sociable={[}0,0.2)\\}      & \\{aceptable=0\\} & 0.04032997 & 0.8627451 & 0.04674610 & 1.639817 &  88\\\\\n\t61 & \\{Padre=P,Hijos={[}0,1),Impulsivo={[}0,0.2)\\}      & \\{aceptable=0\\} & 0.04491292 & 0.8596491 & 0.05224565 & 1.633932 &  98\\\\\n\t58 & \\{Propio=P,Hijos={[}0,1),Conciente={[}0.8,1{]}\\}     & \\{aceptable=0\\} & 0.04445463 & 0.8584071 & 0.05178735 & 1.631572 &  97\\\\\n\t53 & \\{Padre=P,Hijos={[}0,1),Etico={[}0.6,0.8)\\}        & \\{aceptable=0\\} & 0.04124656 & 0.8571429 & 0.04812099 & 1.629169 &  90\\\\\n\t91 & \\{Propio=P,Hijos={[}0,1),Empatia={[}0.6,0.8)\\}     & \\{aceptable=0\\} & 0.04353804 & 0.8558559 & 0.05087076 & 1.626723 &  95\\\\\n\t79 & \\{Propio=P,Hijos={[}0,1),Apego={[}0,0.2)\\}         & \\{aceptable=0\\} & 0.04078827 & 0.8557692 & 0.04766269 & 1.626558 &  89\\\\\n\t16 & \\{Padre=U,Timido={[}0,0.2)\\}                     & \\{aceptable=1\\} & 0.04032997 & 0.8543689 & 0.04720440 & 1.802933 &  88\\\\\n\t86 & \\{Propio=P,Hijos={[}0,1),Responsable={[}0.2,0.4)\\} & \\{aceptable=0\\} & 0.04537122 & 0.8534483 & 0.05316224 & 1.622146 &  99\\\\\n\t⋮ & ⋮ & ⋮ & ⋮ & ⋮ & ⋮ & ⋮ & ⋮\\\\\n\t99 & \\{Padre=P,Hijos={[}0,1),Extravagante={[}0.2,0.4)\\} & \\{aceptable=0\\} & 0.04262145 & 0.7685950 & 0.05545371 & 1.460866 &  93\\\\\n\t111 & \\{Padre=P,Hijos={[}0,1),Timido={[}0.2,0.4)\\}       & \\{aceptable=0\\} & 0.04537122 & 0.7674419 & 0.05912007 & 1.458674 &  99\\\\\n\t105 & \\{Propio=P,Hijos={[}0,1),Temeroso={[}0.2,0.4)\\}    & \\{aceptable=0\\} & 0.04078827 & 0.7672414 & 0.05316224 & 1.458293 &  89\\\\\n\t85 & \\{Padre=P,Hijos={[}0,1),Desordenado={[}0.8,1{]}\\}    & \\{aceptable=0\\} & 0.04812099 & 0.7664234 & 0.06278643 & 1.456738 & 105\\\\\n\t33 & \\{Hijos={[}0,1),Empatia={[}0.6,0.8)\\}              & \\{aceptable=0\\} & 0.08982585 & 0.7656250 & 0.11732356 & 1.455221 & 196\\\\\n\t30 & \\{Hijos={[}0,1),Servicial={[}0.2,0.4)\\}            & \\{aceptable=0\\} & 0.08524290 & 0.7654321 & 0.11136572 & 1.454854 & 186\\\\\n\t103 & \\{Padre=P,Hijos={[}0,1),Exitable={[}0,0.2)\\}       & \\{aceptable=0\\} & 0.05041247 & 0.7638889 & 0.06599450 & 1.451921 & 110\\\\\n\t36 & \\{Timido={[}0,0.2),Espiritual={[}0,0.2)\\}          & \\{aceptable=1\\} & 0.05453712 & 0.7628205 & 0.07149404 & 1.609743 & 119\\\\\n\t76 & \\{Madre=P,Hijos={[}0,1),Impulsivo={[}0.2,0.4)\\}    & \\{aceptable=0\\} & 0.04124656 & 0.7627119 & 0.05407883 & 1.449684 &  90\\\\\n\t26 & \\{Hijos={[}0,1),Sociable={[}0.2,0.4)\\}             & \\{aceptable=0\\} & 0.08065995 & 0.7619048 & 0.10586618 & 1.448150 & 176\\\\\n\t12 & \\{Hijos={[}0,1),Compasivo={[}0.8,1{]}\\}              & \\{aceptable=0\\} & 0.07011916 & 0.7611940 & 0.09211732 & 1.446799 & 153\\\\\n\t4 & \\{Propio=U,Padre=P\\}                           & \\{aceptable=0\\} & 0.04078827 & 0.7606838 & 0.05362053 & 1.445829 &  89\\\\\n\t21 & \\{Propio=P,Temeroso={[}0.8,1{]}\\}                  & \\{aceptable=0\\} & 0.06691109 & 0.7604167 & 0.08799267 & 1.445322 & 146\\\\\n\t114 & \\{Padre=P,Hijos={[}0,1),Responsable={[}0.8,1{]}\\}    & \\{aceptable=0\\} & 0.04491292 & 0.7596899 & 0.05912007 & 1.443940 &  98\\\\\n\t104 & \\{Padre=P,Hijos={[}0,1),Extravagante={[}0.6,0.8)\\} & \\{aceptable=0\\} & 0.04307974 & 0.7580645 & 0.05682860 & 1.440851 &  94\\\\\n\t81 & \\{Madre=P,Hijos={[}0,1),Desordenado={[}0.4,0.6)\\}  & \\{aceptable=0\\} & 0.04445463 & 0.7578125 & 0.05866178 & 1.440372 &  97\\\\\n\t37 & \\{Padre=S,Hijos={[}0,1)\\}                        & \\{aceptable=0\\} & 0.14482126 & 0.7577938 & 0.19110907 & 1.440336 & 316\\\\\n\t19 & \\{Hijos={[}0,1),Temeroso={[}0.6,0.8)\\}             & \\{aceptable=0\\} & 0.07424381 & 0.7570093 & 0.09807516 & 1.438845 & 162\\\\\n\t31 & \\{Hijos={[}0,1),Pesimista={[}0.8,1{]}\\}              & \\{aceptable=0\\} & 0.07974335 & 0.7565217 & 0.10540788 & 1.437918 & 174\\\\\n\t27 & \\{Hijos={[}0,1),Compasivo={[}0.6,0.8)\\}            & \\{aceptable=0\\} & 0.08524290 & 0.7560976 & 0.11274060 & 1.437112 & 186\\\\\n\t52 & \\{Madre=P,Hijos={[}0,1),Sociable={[}0,0.2)\\}       & \\{aceptable=0\\} & 0.04262145 & 0.7560976 & 0.05637030 & 1.437112 &  93\\\\\n\t112 & \\{Padre=P,PIngFam={[}0,0.2),Hijos={[}0,1)\\}        & \\{aceptable=0\\} & 0.04812099 & 0.7553957 & 0.06370302 & 1.435778 & 105\\\\\n\t121 & \\{Padre=P,Madre=P,Hijos={[}0,1)\\}                & \\{aceptable=0\\} & 0.10174152 & 0.7551020 & 0.13473877 & 1.435220 & 222\\\\\n\t24 & \\{Propio=P,Etico={[}0.6,0.8)\\}                   & \\{aceptable=0\\} & 0.06049496 & 0.7542857 & 0.08020165 & 1.433668 & 132\\\\\n\t6 & \\{Padre=S,Espiritual={[}0.8,1{]}\\}                 & \\{aceptable=0\\} & 0.04353804 & 0.7539683 & 0.05774519 & 1.433065 &  95\\\\\n\t35 & \\{Etico={[}0,0.2),Espiritual={[}0,0.2)\\}           & \\{aceptable=1\\} & 0.04491292 & 0.7538462 & 0.05957837 & 1.590805 &  98\\\\\n\t39 & \\{Padre=P,Hijos={[}0,1)\\}                        & \\{aceptable=0\\} & 0.19981668 & 0.7530225 & 0.26535289 & 1.431267 & 436\\\\\n\t110 & \\{Propio=P,Hijos={[}0,1),Servicial={[}0.6,0.8)\\}   & \\{aceptable=0\\} & 0.04032997 & 0.7521368 & 0.05362053 & 1.429584 &  88\\\\\n\t115 & \\{Padre=S,Madre=S,Hijos={[}0,1)\\}                & \\{aceptable=0\\} & 0.05270394 & 0.7516340 & 0.07011916 & 1.428628 & 115\\\\\n\t106 & \\{Propio=P,Hijos={[}0,1),Empatia={[}0,0.2)\\}       & \\{aceptable=0\\} & 0.04124656 & 0.7500000 & 0.05499542 & 1.425523 &  90\\\\\n\\end{tabular}\n",
            "text/plain": [
              "    LHS                                          RHS           support   \n",
              "40  {Propio=P,Hijos=[0,1),Espiritual=[0.8,1]}    {aceptable=0} 0.04032997\n",
              "41  {Propio=P,Hijos=[0,1),Timido=[0.8,1]}        {aceptable=0} 0.04032997\n",
              "42  {Padre=P,Hijos=[0,1),Timido=[0.8,1]}         {aceptable=0} 0.04307974\n",
              "43  {Madre=P,Hijos=[0,1),Timido=[0.8,1]}         {aceptable=0} 0.04582951\n",
              "45  {Padre=P,Hijos=[0,1),Etico=[0.8,1]}          {aceptable=0} 0.04124656\n",
              "44  {Propio=P,Hijos=[0,1),Etico=[0.8,1]}         {aceptable=0} 0.04491292\n",
              "47  {Propio=P,Hijos=[0,1),Temeroso=[0.8,1]}      {aceptable=0} 0.04537122\n",
              "11  {Hijos=[0,1),Timido=[0.8,1]}                 {aceptable=0} 0.08340972\n",
              "63  {Propio=P,Hijos=[0,1),Servicial=[0,0.2)}     {aceptable=0} 0.04353804\n",
              "60  {Propio=P,Hijos=[0,1),Impulsivo=[0,0.2)}     {aceptable=0} 0.04307974\n",
              "49  {Madre=P,Hijos=[0,1),Temeroso=[0.8,1]}       {aceptable=0} 0.04216315\n",
              "97  {Propio=P,Hijos=[0,1),Desordenado=[0.6,0.8)} {aceptable=0} 0.04537122\n",
              "2   {Padre=P,Hijos=[4,5)}                        {aceptable=1} 0.04170486\n",
              "77  {Propio=P,Hijos=[0,1),Apego=[0.2,0.4)}       {aceptable=0} 0.04628781\n",
              "48  {Padre=P,Hijos=[0,1),Temeroso=[0.8,1]}       {aceptable=0} 0.04949588\n",
              "1   {Hijos=[4,5)}                                {aceptable=1} 0.08478460\n",
              "72  {Propio=P,Hijos=[0,1),Pesimista=[0.8,1]}     {aceptable=0} 0.04124656\n",
              "51  {Padre=P,Hijos=[0,1),Sociable=[0,0.2)}       {aceptable=0} 0.04399633\n",
              "73  {Propio=P,Hijos=[0,1),Vago=[0.8,1]}          {aceptable=0} 0.04582951\n",
              "9   {Hijos=[0,1),Espiritual=[0.8,1]}             {aceptable=0} 0.07745188\n",
              "98  {Propio=P,Hijos=[0,1),Capaz=[0.4,0.6)}       {aceptable=0} 0.04078827\n",
              "92  {Padre=P,Hijos=[0,1),Empatia=[0.6,0.8)}      {aceptable=0} 0.05224565\n",
              "50  {Propio=P,Hijos=[0,1),Sociable=[0,0.2)}      {aceptable=0} 0.04032997\n",
              "61  {Padre=P,Hijos=[0,1),Impulsivo=[0,0.2)}      {aceptable=0} 0.04491292\n",
              "58  {Propio=P,Hijos=[0,1),Conciente=[0.8,1]}     {aceptable=0} 0.04445463\n",
              "53  {Padre=P,Hijos=[0,1),Etico=[0.6,0.8)}        {aceptable=0} 0.04124656\n",
              "91  {Propio=P,Hijos=[0,1),Empatia=[0.6,0.8)}     {aceptable=0} 0.04353804\n",
              "79  {Propio=P,Hijos=[0,1),Apego=[0,0.2)}         {aceptable=0} 0.04078827\n",
              "16  {Padre=U,Timido=[0,0.2)}                     {aceptable=1} 0.04032997\n",
              "86  {Propio=P,Hijos=[0,1),Responsable=[0.2,0.4)} {aceptable=0} 0.04537122\n",
              "⋮   ⋮                                            ⋮             ⋮         \n",
              "99  {Padre=P,Hijos=[0,1),Extravagante=[0.2,0.4)} {aceptable=0} 0.04262145\n",
              "111 {Padre=P,Hijos=[0,1),Timido=[0.2,0.4)}       {aceptable=0} 0.04537122\n",
              "105 {Propio=P,Hijos=[0,1),Temeroso=[0.2,0.4)}    {aceptable=0} 0.04078827\n",
              "85  {Padre=P,Hijos=[0,1),Desordenado=[0.8,1]}    {aceptable=0} 0.04812099\n",
              "33  {Hijos=[0,1),Empatia=[0.6,0.8)}              {aceptable=0} 0.08982585\n",
              "30  {Hijos=[0,1),Servicial=[0.2,0.4)}            {aceptable=0} 0.08524290\n",
              "103 {Padre=P,Hijos=[0,1),Exitable=[0,0.2)}       {aceptable=0} 0.05041247\n",
              "36  {Timido=[0,0.2),Espiritual=[0,0.2)}          {aceptable=1} 0.05453712\n",
              "76  {Madre=P,Hijos=[0,1),Impulsivo=[0.2,0.4)}    {aceptable=0} 0.04124656\n",
              "26  {Hijos=[0,1),Sociable=[0.2,0.4)}             {aceptable=0} 0.08065995\n",
              "12  {Hijos=[0,1),Compasivo=[0.8,1]}              {aceptable=0} 0.07011916\n",
              "4   {Propio=U,Padre=P}                           {aceptable=0} 0.04078827\n",
              "21  {Propio=P,Temeroso=[0.8,1]}                  {aceptable=0} 0.06691109\n",
              "114 {Padre=P,Hijos=[0,1),Responsable=[0.8,1]}    {aceptable=0} 0.04491292\n",
              "104 {Padre=P,Hijos=[0,1),Extravagante=[0.6,0.8)} {aceptable=0} 0.04307974\n",
              "81  {Madre=P,Hijos=[0,1),Desordenado=[0.4,0.6)}  {aceptable=0} 0.04445463\n",
              "37  {Padre=S,Hijos=[0,1)}                        {aceptable=0} 0.14482126\n",
              "19  {Hijos=[0,1),Temeroso=[0.6,0.8)}             {aceptable=0} 0.07424381\n",
              "31  {Hijos=[0,1),Pesimista=[0.8,1]}              {aceptable=0} 0.07974335\n",
              "27  {Hijos=[0,1),Compasivo=[0.6,0.8)}            {aceptable=0} 0.08524290\n",
              "52  {Madre=P,Hijos=[0,1),Sociable=[0,0.2)}       {aceptable=0} 0.04262145\n",
              "112 {Padre=P,PIngFam=[0,0.2),Hijos=[0,1)}        {aceptable=0} 0.04812099\n",
              "121 {Padre=P,Madre=P,Hijos=[0,1)}                {aceptable=0} 0.10174152\n",
              "24  {Propio=P,Etico=[0.6,0.8)}                   {aceptable=0} 0.06049496\n",
              "6   {Padre=S,Espiritual=[0.8,1]}                 {aceptable=0} 0.04353804\n",
              "35  {Etico=[0,0.2),Espiritual=[0,0.2)}           {aceptable=1} 0.04491292\n",
              "39  {Padre=P,Hijos=[0,1)}                        {aceptable=0} 0.19981668\n",
              "110 {Propio=P,Hijos=[0,1),Servicial=[0.6,0.8)}   {aceptable=0} 0.04032997\n",
              "115 {Padre=S,Madre=S,Hijos=[0,1)}                {aceptable=0} 0.05270394\n",
              "106 {Propio=P,Hijos=[0,1),Empatia=[0,0.2)}       {aceptable=0} 0.04124656\n",
              "    confidence coverage   lift     count\n",
              "40  0.9462366  0.04262145 1.798509  88  \n",
              "41  0.9462366  0.04262145 1.798509  88  \n",
              "42  0.9400000  0.04582951 1.786655  94  \n",
              "43  0.9345794  0.04903758 1.776352 100  \n",
              "45  0.9278351  0.04445463 1.763533  90  \n",
              "44  0.9158879  0.04903758 1.740825  98  \n",
              "47  0.9082569  0.04995417 1.726321  99  \n",
              "11  0.9054726  0.09211732 1.721029 182  \n",
              "63  0.8962264  0.04857929 1.703455  95  \n",
              "60  0.8952381  0.04812099 1.701576  94  \n",
              "49  0.8932039  0.04720440 1.697710  92  \n",
              "97  0.8839286  0.05132906 1.680080  99  \n",
              "2   0.8834951  0.04720440 1.864397  91  \n",
              "77  0.8782609  0.05270394 1.669308 101  \n",
              "48  0.8780488  0.05637030 1.668905 108  \n",
              "1   0.8767773  0.09670027 1.850220 185  \n",
              "72  0.8737864  0.04720440 1.660803  90  \n",
              "51  0.8727273  0.05041247 1.658790  96  \n",
              "73  0.8695652  0.05270394 1.652780 100  \n",
              "9   0.8666667  0.08936755 1.647271 169  \n",
              "98  0.8640777  0.04720440 1.642350  89  \n",
              "92  0.8636364  0.06049496 1.641511 114  \n",
              "50  0.8627451  0.04674610 1.639817  88  \n",
              "61  0.8596491  0.05224565 1.633932  98  \n",
              "58  0.8584071  0.05178735 1.631572  97  \n",
              "53  0.8571429  0.04812099 1.629169  90  \n",
              "91  0.8558559  0.05087076 1.626723  95  \n",
              "79  0.8557692  0.04766269 1.626558  89  \n",
              "16  0.8543689  0.04720440 1.802933  88  \n",
              "86  0.8534483  0.05316224 1.622146  99  \n",
              "⋮   ⋮          ⋮          ⋮        ⋮    \n",
              "99  0.7685950  0.05545371 1.460866  93  \n",
              "111 0.7674419  0.05912007 1.458674  99  \n",
              "105 0.7672414  0.05316224 1.458293  89  \n",
              "85  0.7664234  0.06278643 1.456738 105  \n",
              "33  0.7656250  0.11732356 1.455221 196  \n",
              "30  0.7654321  0.11136572 1.454854 186  \n",
              "103 0.7638889  0.06599450 1.451921 110  \n",
              "36  0.7628205  0.07149404 1.609743 119  \n",
              "76  0.7627119  0.05407883 1.449684  90  \n",
              "26  0.7619048  0.10586618 1.448150 176  \n",
              "12  0.7611940  0.09211732 1.446799 153  \n",
              "4   0.7606838  0.05362053 1.445829  89  \n",
              "21  0.7604167  0.08799267 1.445322 146  \n",
              "114 0.7596899  0.05912007 1.443940  98  \n",
              "104 0.7580645  0.05682860 1.440851  94  \n",
              "81  0.7578125  0.05866178 1.440372  97  \n",
              "37  0.7577938  0.19110907 1.440336 316  \n",
              "19  0.7570093  0.09807516 1.438845 162  \n",
              "31  0.7565217  0.10540788 1.437918 174  \n",
              "27  0.7560976  0.11274060 1.437112 186  \n",
              "52  0.7560976  0.05637030 1.437112  93  \n",
              "112 0.7553957  0.06370302 1.435778 105  \n",
              "121 0.7551020  0.13473877 1.435220 222  \n",
              "24  0.7542857  0.08020165 1.433668 132  \n",
              "6   0.7539683  0.05774519 1.433065  95  \n",
              "35  0.7538462  0.05957837 1.590805  98  \n",
              "39  0.7530225  0.26535289 1.431267 436  \n",
              "110 0.7521368  0.05362053 1.429584  88  \n",
              "115 0.7516340  0.07011916 1.428628 115  \n",
              "106 0.7500000  0.05499542 1.425523  90  "
            ]
          },
          "metadata": {}
        }
      ]
    },
    {
      "cell_type": "code",
      "source": [
        "table(r3$RHS)"
      ],
      "metadata": {
        "colab": {
          "base_uri": "https://localhost:8080/",
          "height": 69
        },
        "outputId": "da48fbb1-392a-4bbd-8b9e-4adf5f182a16",
        "id": "3wOg3PGFAxYC"
      },
      "execution_count": 57,
      "outputs": [
        {
          "output_type": "display_data",
          "data": {
            "text/plain": [
              "\n",
              "{aceptable=0} {aceptable=1} \n",
              "          114             8 "
            ]
          },
          "metadata": {}
        }
      ]
    },
    {
      "cell_type": "markdown",
      "source": [
        "Let's visualise the aceptable = 1 ones. "
      ],
      "metadata": {
        "id": "qu_g4NhGBrG5"
      }
    },
    {
      "cell_type": "code",
      "source": [
        "r3_aceptables = r3[which(r3$RHS == \"{aceptable=1}\"),]\n",
        "r3_noaceptables = r3[which(r3$RHS == \"{aceptable=0}\"),]"
      ],
      "metadata": {
        "id": "gOPIIq1jArVm"
      },
      "execution_count": 59,
      "outputs": []
    },
    {
      "cell_type": "code",
      "source": [
        "r3_aceptables"
      ],
      "metadata": {
        "colab": {
          "base_uri": "https://localhost:8080/",
          "height": 349
        },
        "id": "NN0dkH2qArSu",
        "outputId": "3289bccc-8a2a-4f92-abfc-ebe626723e14"
      },
      "execution_count": 61,
      "outputs": [
        {
          "output_type": "display_data",
          "data": {
            "text/html": [
              "<table class=\"dataframe\">\n",
              "<caption>A data.frame: 8 × 7</caption>\n",
              "<thead>\n",
              "\t<tr><th></th><th scope=col>LHS</th><th scope=col>RHS</th><th scope=col>support</th><th scope=col>confidence</th><th scope=col>coverage</th><th scope=col>lift</th><th scope=col>count</th></tr>\n",
              "\t<tr><th></th><th scope=col>&lt;fct&gt;</th><th scope=col>&lt;fct&gt;</th><th scope=col>&lt;dbl&gt;</th><th scope=col>&lt;dbl&gt;</th><th scope=col>&lt;dbl&gt;</th><th scope=col>&lt;dbl&gt;</th><th scope=col>&lt;int&gt;</th></tr>\n",
              "</thead>\n",
              "<tbody>\n",
              "\t<tr><th scope=row>2</th><td>{Padre=P,Hijos=[4,5)}              </td><td>{aceptable=1}</td><td>0.04170486</td><td>0.8834951</td><td>0.04720440</td><td>1.864397</td><td> 91</td></tr>\n",
              "\t<tr><th scope=row>1</th><td>{Hijos=[4,5)}                      </td><td>{aceptable=1}</td><td>0.08478460</td><td>0.8767773</td><td>0.09670027</td><td>1.850220</td><td>185</td></tr>\n",
              "\t<tr><th scope=row>16</th><td>{Padre=U,Timido=[0,0.2)}           </td><td>{aceptable=1}</td><td>0.04032997</td><td>0.8543689</td><td>0.04720440</td><td>1.802933</td><td> 88</td></tr>\n",
              "\t<tr><th scope=row>3</th><td>{Madre=P,Hijos=[4,5)}              </td><td>{aceptable=1}</td><td>0.04124656</td><td>0.8490566</td><td>0.04857929</td><td>1.791723</td><td> 90</td></tr>\n",
              "\t<tr><th scope=row>17</th><td>{Propio=S,Padre=U}                 </td><td>{aceptable=1}</td><td>0.06507791</td><td>0.8022599</td><td>0.08111824</td><td>1.692970</td><td>142</td></tr>\n",
              "\t<tr><th scope=row>34</th><td>{Timido=[0,0.2),Temeroso=[0,0.2)}  </td><td>{aceptable=1}</td><td>0.04124656</td><td>0.7826087</td><td>0.05270394</td><td>1.651501</td><td> 90</td></tr>\n",
              "\t<tr><th scope=row>36</th><td>{Timido=[0,0.2),Espiritual=[0,0.2)}</td><td>{aceptable=1}</td><td>0.05453712</td><td>0.7628205</td><td>0.07149404</td><td>1.609743</td><td>119</td></tr>\n",
              "\t<tr><th scope=row>35</th><td>{Etico=[0,0.2),Espiritual=[0,0.2)} </td><td>{aceptable=1}</td><td>0.04491292</td><td>0.7538462</td><td>0.05957837</td><td>1.590805</td><td> 98</td></tr>\n",
              "</tbody>\n",
              "</table>\n"
            ],
            "text/markdown": "\nA data.frame: 8 × 7\n\n| <!--/--> | LHS &lt;fct&gt; | RHS &lt;fct&gt; | support &lt;dbl&gt; | confidence &lt;dbl&gt; | coverage &lt;dbl&gt; | lift &lt;dbl&gt; | count &lt;int&gt; |\n|---|---|---|---|---|---|---|---|\n| 2 | {Padre=P,Hijos=[4,5)}               | {aceptable=1} | 0.04170486 | 0.8834951 | 0.04720440 | 1.864397 |  91 |\n| 1 | {Hijos=[4,5)}                       | {aceptable=1} | 0.08478460 | 0.8767773 | 0.09670027 | 1.850220 | 185 |\n| 16 | {Padre=U,Timido=[0,0.2)}            | {aceptable=1} | 0.04032997 | 0.8543689 | 0.04720440 | 1.802933 |  88 |\n| 3 | {Madre=P,Hijos=[4,5)}               | {aceptable=1} | 0.04124656 | 0.8490566 | 0.04857929 | 1.791723 |  90 |\n| 17 | {Propio=S,Padre=U}                  | {aceptable=1} | 0.06507791 | 0.8022599 | 0.08111824 | 1.692970 | 142 |\n| 34 | {Timido=[0,0.2),Temeroso=[0,0.2)}   | {aceptable=1} | 0.04124656 | 0.7826087 | 0.05270394 | 1.651501 |  90 |\n| 36 | {Timido=[0,0.2),Espiritual=[0,0.2)} | {aceptable=1} | 0.05453712 | 0.7628205 | 0.07149404 | 1.609743 | 119 |\n| 35 | {Etico=[0,0.2),Espiritual=[0,0.2)}  | {aceptable=1} | 0.04491292 | 0.7538462 | 0.05957837 | 1.590805 |  98 |\n\n",
            "text/latex": "A data.frame: 8 × 7\n\\begin{tabular}{r|lllllll}\n  & LHS & RHS & support & confidence & coverage & lift & count\\\\\n  & <fct> & <fct> & <dbl> & <dbl> & <dbl> & <dbl> & <int>\\\\\n\\hline\n\t2 & \\{Padre=P,Hijos={[}4,5)\\}               & \\{aceptable=1\\} & 0.04170486 & 0.8834951 & 0.04720440 & 1.864397 &  91\\\\\n\t1 & \\{Hijos={[}4,5)\\}                       & \\{aceptable=1\\} & 0.08478460 & 0.8767773 & 0.09670027 & 1.850220 & 185\\\\\n\t16 & \\{Padre=U,Timido={[}0,0.2)\\}            & \\{aceptable=1\\} & 0.04032997 & 0.8543689 & 0.04720440 & 1.802933 &  88\\\\\n\t3 & \\{Madre=P,Hijos={[}4,5)\\}               & \\{aceptable=1\\} & 0.04124656 & 0.8490566 & 0.04857929 & 1.791723 &  90\\\\\n\t17 & \\{Propio=S,Padre=U\\}                  & \\{aceptable=1\\} & 0.06507791 & 0.8022599 & 0.08111824 & 1.692970 & 142\\\\\n\t34 & \\{Timido={[}0,0.2),Temeroso={[}0,0.2)\\}   & \\{aceptable=1\\} & 0.04124656 & 0.7826087 & 0.05270394 & 1.651501 &  90\\\\\n\t36 & \\{Timido={[}0,0.2),Espiritual={[}0,0.2)\\} & \\{aceptable=1\\} & 0.05453712 & 0.7628205 & 0.07149404 & 1.609743 & 119\\\\\n\t35 & \\{Etico={[}0,0.2),Espiritual={[}0,0.2)\\}  & \\{aceptable=1\\} & 0.04491292 & 0.7538462 & 0.05957837 & 1.590805 &  98\\\\\n\\end{tabular}\n",
            "text/plain": [
              "   LHS                                 RHS           support    confidence\n",
              "2  {Padre=P,Hijos=[4,5)}               {aceptable=1} 0.04170486 0.8834951 \n",
              "1  {Hijos=[4,5)}                       {aceptable=1} 0.08478460 0.8767773 \n",
              "16 {Padre=U,Timido=[0,0.2)}            {aceptable=1} 0.04032997 0.8543689 \n",
              "3  {Madre=P,Hijos=[4,5)}               {aceptable=1} 0.04124656 0.8490566 \n",
              "17 {Propio=S,Padre=U}                  {aceptable=1} 0.06507791 0.8022599 \n",
              "34 {Timido=[0,0.2),Temeroso=[0,0.2)}   {aceptable=1} 0.04124656 0.7826087 \n",
              "36 {Timido=[0,0.2),Espiritual=[0,0.2)} {aceptable=1} 0.05453712 0.7628205 \n",
              "35 {Etico=[0,0.2),Espiritual=[0,0.2)}  {aceptable=1} 0.04491292 0.7538462 \n",
              "   coverage   lift     count\n",
              "2  0.04720440 1.864397  91  \n",
              "1  0.09670027 1.850220 185  \n",
              "16 0.04720440 1.802933  88  \n",
              "3  0.04857929 1.791723  90  \n",
              "17 0.08111824 1.692970 142  \n",
              "34 0.05270394 1.651501  90  \n",
              "36 0.07149404 1.609743 119  \n",
              "35 0.05957837 1.590805  98  "
            ]
          },
          "metadata": {}
        }
      ]
    },
    {
      "cell_type": "markdown",
      "source": [
        "And now some from the aceptable = 0 list. "
      ],
      "metadata": {
        "id": "uWw1Tq5XCLu3"
      }
    },
    {
      "cell_type": "code",
      "source": [
        "head(r3_noaceptables)"
      ],
      "metadata": {
        "colab": {
          "base_uri": "https://localhost:8080/",
          "height": 286
        },
        "id": "QWaie-yRCKuv",
        "outputId": "3b9e3f07-1154-403c-ef3f-21455efca82f"
      },
      "execution_count": 62,
      "outputs": [
        {
          "output_type": "display_data",
          "data": {
            "text/html": [
              "<table class=\"dataframe\">\n",
              "<caption>A data.frame: 6 × 7</caption>\n",
              "<thead>\n",
              "\t<tr><th></th><th scope=col>LHS</th><th scope=col>RHS</th><th scope=col>support</th><th scope=col>confidence</th><th scope=col>coverage</th><th scope=col>lift</th><th scope=col>count</th></tr>\n",
              "\t<tr><th></th><th scope=col>&lt;fct&gt;</th><th scope=col>&lt;fct&gt;</th><th scope=col>&lt;dbl&gt;</th><th scope=col>&lt;dbl&gt;</th><th scope=col>&lt;dbl&gt;</th><th scope=col>&lt;dbl&gt;</th><th scope=col>&lt;int&gt;</th></tr>\n",
              "</thead>\n",
              "<tbody>\n",
              "\t<tr><th scope=row>40</th><td>{Propio=P,Hijos=[0,1),Espiritual=[0.8,1]}</td><td>{aceptable=0}</td><td>0.04032997</td><td>0.9462366</td><td>0.04262145</td><td>1.798509</td><td> 88</td></tr>\n",
              "\t<tr><th scope=row>41</th><td>{Propio=P,Hijos=[0,1),Timido=[0.8,1]}    </td><td>{aceptable=0}</td><td>0.04032997</td><td>0.9462366</td><td>0.04262145</td><td>1.798509</td><td> 88</td></tr>\n",
              "\t<tr><th scope=row>42</th><td>{Padre=P,Hijos=[0,1),Timido=[0.8,1]}     </td><td>{aceptable=0}</td><td>0.04307974</td><td>0.9400000</td><td>0.04582951</td><td>1.786655</td><td> 94</td></tr>\n",
              "\t<tr><th scope=row>43</th><td>{Madre=P,Hijos=[0,1),Timido=[0.8,1]}     </td><td>{aceptable=0}</td><td>0.04582951</td><td>0.9345794</td><td>0.04903758</td><td>1.776352</td><td>100</td></tr>\n",
              "\t<tr><th scope=row>45</th><td>{Padre=P,Hijos=[0,1),Etico=[0.8,1]}      </td><td>{aceptable=0}</td><td>0.04124656</td><td>0.9278351</td><td>0.04445463</td><td>1.763533</td><td> 90</td></tr>\n",
              "\t<tr><th scope=row>44</th><td>{Propio=P,Hijos=[0,1),Etico=[0.8,1]}     </td><td>{aceptable=0}</td><td>0.04491292</td><td>0.9158879</td><td>0.04903758</td><td>1.740825</td><td> 98</td></tr>\n",
              "</tbody>\n",
              "</table>\n"
            ],
            "text/markdown": "\nA data.frame: 6 × 7\n\n| <!--/--> | LHS &lt;fct&gt; | RHS &lt;fct&gt; | support &lt;dbl&gt; | confidence &lt;dbl&gt; | coverage &lt;dbl&gt; | lift &lt;dbl&gt; | count &lt;int&gt; |\n|---|---|---|---|---|---|---|---|\n| 40 | {Propio=P,Hijos=[0,1),Espiritual=[0.8,1]} | {aceptable=0} | 0.04032997 | 0.9462366 | 0.04262145 | 1.798509 |  88 |\n| 41 | {Propio=P,Hijos=[0,1),Timido=[0.8,1]}     | {aceptable=0} | 0.04032997 | 0.9462366 | 0.04262145 | 1.798509 |  88 |\n| 42 | {Padre=P,Hijos=[0,1),Timido=[0.8,1]}      | {aceptable=0} | 0.04307974 | 0.9400000 | 0.04582951 | 1.786655 |  94 |\n| 43 | {Madre=P,Hijos=[0,1),Timido=[0.8,1]}      | {aceptable=0} | 0.04582951 | 0.9345794 | 0.04903758 | 1.776352 | 100 |\n| 45 | {Padre=P,Hijos=[0,1),Etico=[0.8,1]}       | {aceptable=0} | 0.04124656 | 0.9278351 | 0.04445463 | 1.763533 |  90 |\n| 44 | {Propio=P,Hijos=[0,1),Etico=[0.8,1]}      | {aceptable=0} | 0.04491292 | 0.9158879 | 0.04903758 | 1.740825 |  98 |\n\n",
            "text/latex": "A data.frame: 6 × 7\n\\begin{tabular}{r|lllllll}\n  & LHS & RHS & support & confidence & coverage & lift & count\\\\\n  & <fct> & <fct> & <dbl> & <dbl> & <dbl> & <dbl> & <int>\\\\\n\\hline\n\t40 & \\{Propio=P,Hijos={[}0,1),Espiritual={[}0.8,1{]}\\} & \\{aceptable=0\\} & 0.04032997 & 0.9462366 & 0.04262145 & 1.798509 &  88\\\\\n\t41 & \\{Propio=P,Hijos={[}0,1),Timido={[}0.8,1{]}\\}     & \\{aceptable=0\\} & 0.04032997 & 0.9462366 & 0.04262145 & 1.798509 &  88\\\\\n\t42 & \\{Padre=P,Hijos={[}0,1),Timido={[}0.8,1{]}\\}      & \\{aceptable=0\\} & 0.04307974 & 0.9400000 & 0.04582951 & 1.786655 &  94\\\\\n\t43 & \\{Madre=P,Hijos={[}0,1),Timido={[}0.8,1{]}\\}      & \\{aceptable=0\\} & 0.04582951 & 0.9345794 & 0.04903758 & 1.776352 & 100\\\\\n\t45 & \\{Padre=P,Hijos={[}0,1),Etico={[}0.8,1{]}\\}       & \\{aceptable=0\\} & 0.04124656 & 0.9278351 & 0.04445463 & 1.763533 &  90\\\\\n\t44 & \\{Propio=P,Hijos={[}0,1),Etico={[}0.8,1{]}\\}      & \\{aceptable=0\\} & 0.04491292 & 0.9158879 & 0.04903758 & 1.740825 &  98\\\\\n\\end{tabular}\n",
            "text/plain": [
              "   LHS                                       RHS           support   \n",
              "40 {Propio=P,Hijos=[0,1),Espiritual=[0.8,1]} {aceptable=0} 0.04032997\n",
              "41 {Propio=P,Hijos=[0,1),Timido=[0.8,1]}     {aceptable=0} 0.04032997\n",
              "42 {Padre=P,Hijos=[0,1),Timido=[0.8,1]}      {aceptable=0} 0.04307974\n",
              "43 {Madre=P,Hijos=[0,1),Timido=[0.8,1]}      {aceptable=0} 0.04582951\n",
              "45 {Padre=P,Hijos=[0,1),Etico=[0.8,1]}       {aceptable=0} 0.04124656\n",
              "44 {Propio=P,Hijos=[0,1),Etico=[0.8,1]}      {aceptable=0} 0.04491292\n",
              "   confidence coverage   lift     count\n",
              "40 0.9462366  0.04262145 1.798509  88  \n",
              "41 0.9462366  0.04262145 1.798509  88  \n",
              "42 0.9400000  0.04582951 1.786655  94  \n",
              "43 0.9345794  0.04903758 1.776352 100  \n",
              "45 0.9278351  0.04445463 1.763533  90  \n",
              "44 0.9158879  0.04903758 1.740825  98  "
            ]
          },
          "metadata": {}
        }
      ]
    },
    {
      "cell_type": "markdown",
      "source": [
        "Now we have to do the testing! Seeing how this very beautiful rules perform. We will use the test dataset and see how many rules they actually fulfill."
      ],
      "metadata": {
        "id": "XLI1FXtcCkax"
      }
    },
    {
      "cell_type": "code",
      "source": [
        "\n",
        "## desarmo la regla en partes\n",
        "\n",
        "parteReglas <- function(r)\n",
        "{\n",
        "x <- substring(r,2,nchar(r)-1)\n",
        "## reemplazo las comas que no están entre []() por |\n",
        "fuera = TRUE\n",
        "for(i in 1:nchar(x))\n",
        "{\n",
        "if(substring(x,i,i)==\"[\")\n",
        "{\n",
        "fuera = FALSE\n",
        "}\n",
        "if(substring(x,i,i)==\")\" )\n",
        "{\n",
        "fuera = TRUE\n",
        "}\n",
        "if(fuera & substring(x,i,i) == \",\")\n",
        "{\n",
        "x <- paste(substring(x,1,i-1),\"|\",substring(x,i+1,nchar(x)), sep=\"\")\n",
        "x\n",
        "}\n",
        "}\n",
        "y <- read.table(text = x,sep = \"|\", colClasses = \"character\")\n",
        "y <- t(y)\n",
        "z <- matrix(nrow = nrow(y), ncol = 2, \"\")\n",
        "for(i in 1:length(y))\n",
        "{\n",
        "w <- t(read.table(text=y[i],sep = \"=\", colClasses = \"character\"))\n",
        "z[i,1] <- w[1]\n",
        "z[i,2] <- w[2]\n",
        "}\n",
        "z\n",
        "}\n",
        "\n",
        "\n",
        "cmp <- function(reglas,casos)\n",
        "{\n",
        "## recorro los casos con k\n",
        "cumplimiento <- vector(length = nrow(casos), \"numeric\")\n",
        "for(k in 1:nrow(casos))\n",
        "{\n",
        "## recorro las reglas con j\n",
        "v.r <- as.vector(reglas$LHS)\n",
        "for(j in 1:length(v.r))\n",
        "{\n",
        "cumple <- TRUE\n",
        "## recorro los términos w de la regla con i\n",
        "ww <- parteReglas(as.vector(reglas[j,]$LHS))\n",
        "for(i in 1:nrow(ww))\n",
        "{\n",
        "if(casos[k,which(colnames(casos)==ww[i,1])] == ww[i,2])\n",
        "{\n",
        "cumple <- cumple & TRUE\n",
        "}\n",
        "else\n",
        "{\n",
        "cumple <- FALSE\n",
        "}\n",
        "}\n",
        "if(cumple)\n",
        "{\n",
        "## sumo 1 al vector de cumplimento de los prospectos\n",
        "cumplimiento[k] <- cumplimiento[k]+1\n",
        "}\n",
        "}\n",
        "}\n",
        "cumplimiento\n",
        "}"
      ],
      "metadata": {
        "id": "G0lUCVm0Cwoi"
      },
      "execution_count": 63,
      "outputs": []
    },
    {
      "cell_type": "code",
      "source": [
        "x.yes <- cmp(r3_aceptables,hnewtest)\n",
        "hist(x.yes)"
      ],
      "metadata": {
        "colab": {
          "base_uri": "https://localhost:8080/",
          "height": 437
        },
        "id": "VTZTNs3pDYY4",
        "outputId": "d4500692-b23f-407c-af6f-de3460581162"
      },
      "execution_count": 66,
      "outputs": [
        {
          "output_type": "display_data",
          "data": {
            "text/plain": [
              "Plot with title “Histogram of x.yes”"
            ],
            "image/png": "[encoded data removed]"
          },
          "metadata": {
            "image/png": {
              "width": 420,
              "height": 420
            }
          }
        }
      ]
    },
    {
      "cell_type": "code",
      "source": [
        "x.no <- cmp(r3_noaceptables,hnewtest)\n",
        "hist(x.no)"
      ],
      "metadata": {
        "colab": {
          "base_uri": "https://localhost:8080/",
          "height": 437
        },
        "id": "Mk-8qBrNDucz",
        "outputId": "6879693d-e02e-4f0c-d2da-4a2c9302e775"
      },
      "execution_count": 67,
      "outputs": [
        {
          "output_type": "display_data",
          "data": {
            "text/plain": [
              "Plot with title “Histogram of x.no”"
            ],
            "image/png": "[encoded data removed]"
          },
          "metadata": {
            "image/png": {
              "width": 420,
              "height": 420
            }
          }
        }
      ]
    },
    {
      "cell_type": "markdown",
      "source": [
        "Now, having calculated how many good and bad rules each employees on the test database fulfills, we will calculate the difference. This difference could tells us if it is worth employing this person: if the advantages outweigth the disadvantages or not. "
      ],
      "metadata": {
        "id": "n2p1y9jpD9EU"
      }
    },
    {
      "cell_type": "code",
      "source": [
        "x <- x.yes - x.no\n",
        "hist(x)"
      ],
      "metadata": {
        "colab": {
          "base_uri": "https://localhost:8080/",
          "height": 437
        },
        "id": "PJ4AE3U7ENn_",
        "outputId": "98001ac7-ba60-4de0-9d80-99397be025f4"
      },
      "execution_count": 68,
      "outputs": [
        {
          "output_type": "display_data",
          "data": {
            "text/plain": [
              "Plot with title “Histogram of x”"
            ],
            "image/png": "[encoded data removed]"
          },
          "metadata": {
            "image/png": {
              "width": 420,
              "height": 420
            }
          }
        }
      ]
    },
    {
      "cell_type": "markdown",
      "source": [
        "Next up, to calculate the value of this algorithm, we will make a cost-benefit assesment. Meaning, we will value each of the 4 possible cases as following:\n",
        "- True Positive (good rules, good employee): $30000\n",
        "\n",
        "- True Negative (bad rules, bad employee): $0\n",
        "\n",
        "- False Positive (good rules, bad employee): -$60000\n",
        "\n",
        "- False Negative (bad rules, good employee): $0"
      ],
      "metadata": {
        "id": "cYmzQs1qEV2M"
      }
    },
    {
      "cell_type": "code",
      "source": [
        "TP <- length(which(x>2&hnewtest$aceptable==1))\n",
        "TN <- length(which(x<=2&hnewtest$aceptable==0))\n",
        "FP <-length(which(x>2&hnewtest$aceptable==0))\n",
        "FN <- length(which(x<=2&hnewtest$aceptable==1))"
      ],
      "metadata": {
        "id": "zjCdkQEUE7_V"
      },
      "execution_count": 72,
      "outputs": []
    },
    {
      "cell_type": "code",
      "source": [
        "VTP <- 30000\n",
        "VTN <- 0\n",
        "VFP <- -60000\n",
        "VFN <- 0"
      ],
      "metadata": {
        "id": "diX5Wj3dE78r"
      },
      "execution_count": 73,
      "outputs": []
    },
    {
      "cell_type": "code",
      "source": [
        "value <- TP*VTP + VTN * 4 * TN + FP * 4 * VFP + FN * VFN"
      ],
      "metadata": {
        "id": "rW8UkCCRE76J"
      },
      "execution_count": 74,
      "outputs": []
    },
    {
      "cell_type": "code",
      "source": [
        "value"
      ],
      "metadata": {
        "colab": {
          "base_uri": "https://localhost:8080/",
          "height": 34
        },
        "id": "RhPBrQLuE73p",
        "outputId": "94762fbe-57be-4ced-f6ea-cb68e7615378"
      },
      "execution_count": 75,
      "outputs": [
        {
          "output_type": "display_data",
          "data": {
            "text/html": [
              "780000"
            ],
            "text/markdown": "780000",
            "text/latex": "780000",
            "text/plain": [
              "[1] 780000"
            ]
          },
          "metadata": {}
        }
      ]
    },
    {
      "cell_type": "markdown",
      "source": [
        "Now we compare against our current HR strategy. Currently, we are losing a lot of money. Our rules strategy would help us make some profit and stop losing our capital. We, as data scientists, are adding a lot of value to the business. "
      ],
      "metadata": {
        "id": "OFmI24uUGCOr"
      }
    },
    {
      "cell_type": "code",
      "source": [
        "value_current = VTP * length(which(hnewtest$aceptable == 1)) + VFP * length(which(hnewtest$aceptable == 0))"
      ],
      "metadata": {
        "id": "NGKOlT-fE7gt"
      },
      "execution_count": 76,
      "outputs": []
    },
    {
      "cell_type": "code",
      "source": [
        "value_current"
      ],
      "metadata": {
        "colab": {
          "base_uri": "https://localhost:8080/",
          "height": 34
        },
        "id": "5BG7D38fGSdy",
        "outputId": "64ff5cb3-3e2f-4c5e-fce9-e8b1a389652f"
      },
      "execution_count": 77,
      "outputs": [
        {
          "output_type": "display_data",
          "data": {
            "text/html": [
              "-19380000"
            ],
            "text/markdown": "-19380000",
            "text/latex": "-19380000",
            "text/plain": [
              "[1] -19380000"
            ]
          },
          "metadata": {}
        }
      ]
    },
    {
      "cell_type": "markdown",
      "source": [
        "Can we improve? Let's try with 3,4,5 rules, and see what is up. I leave only one illustrative case."
      ],
      "metadata": {
        "id": "M5_L8PBOGck0"
      }
    },
    {
      "cell_type": "code",
      "source": [
        "TP <- length(which(x>1&hnewtest$aceptable==1))\n",
        "TN <- length(which(x<=1&hnewtest$aceptable==0))\n",
        "FP <-length(which(x>1&hnewtest$aceptable==0))\n",
        "FN <- length(which(x<=1&hnewtest$aceptable==1))"
      ],
      "metadata": {
        "id": "pCsM27U-G72S"
      },
      "execution_count": 84,
      "outputs": []
    },
    {
      "cell_type": "code",
      "source": [
        "value <- TP*VTP + VTN * 4 * TN + FP * 4 * VFP + FN * VFN"
      ],
      "metadata": {
        "id": "2LQOmRuxG72U"
      },
      "execution_count": 85,
      "outputs": []
    },
    {
      "cell_type": "code",
      "source": [
        "value"
      ],
      "metadata": {
        "colab": {
          "base_uri": "https://localhost:8080/",
          "height": 34
        },
        "outputId": "84c29b5b-2905-442c-84f2-9cca2af8d9a4",
        "id": "dhxxX7xAG72V"
      },
      "execution_count": 86,
      "outputs": [
        {
          "output_type": "display_data",
          "data": {
            "text/html": [
              "420000"
            ],
            "text/markdown": "420000",
            "text/latex": "420000",
            "text/plain": [
              "[1] 420000"
            ]
          },
          "metadata": {}
        }
      ]
    },
    {
      "cell_type": "markdown",
      "source": [
        "Another nice quantity to compare to is the perfect algorithm. This, like we said in decision trees, allows us to gauge how much we can actually improve with this framework."
      ],
      "metadata": {
        "id": "i1Xb1QOwHIUP"
      }
    },
    {
      "cell_type": "code",
      "source": [
        "value_perfect = VTP * length(which(hnewtest$aceptable == 1))"
      ],
      "metadata": {
        "id": "7koNlrg3Hn5L"
      },
      "execution_count": 91,
      "outputs": []
    },
    {
      "cell_type": "code",
      "source": [
        "value_perfect"
      ],
      "metadata": {
        "colab": {
          "base_uri": "https://localhost:8080/",
          "height": 34
        },
        "id": "R4_KOW3bHwTD",
        "outputId": "64d5b9f5-e65e-4270-b9a7-9e9b89ec751b"
      },
      "execution_count": 92,
      "outputs": [
        {
          "output_type": "display_data",
          "data": {
            "text/html": [
              "11520000"
            ],
            "text/markdown": "11520000",
            "text/latex": "11520000",
            "text/plain": [
              "[1] 11520000"
            ]
          },
          "metadata": {}
        }
      ]
    },
    {
      "cell_type": "markdown",
      "source": [
        "We can also see TP and FP, to see how many good and bad people we are employing. In this case, very few employees are bad. "
      ],
      "metadata": {
        "id": "_KYhPmTZHq9K"
      }
    },
    {
      "cell_type": "code",
      "source": [
        "TP"
      ],
      "metadata": {
        "colab": {
          "base_uri": "https://localhost:8080/",
          "height": 34
        },
        "id": "xSWJrBPvHgB2",
        "outputId": "3fa7c1c1-f437-42fd-9919-92a4e5e9a859"
      },
      "execution_count": 87,
      "outputs": [
        {
          "output_type": "display_data",
          "data": {
            "text/html": [
              "54"
            ],
            "text/markdown": "54",
            "text/latex": "54",
            "text/plain": [
              "[1] 54"
            ]
          },
          "metadata": {}
        }
      ]
    },
    {
      "cell_type": "code",
      "source": [
        "FP"
      ],
      "metadata": {
        "colab": {
          "base_uri": "https://localhost:8080/",
          "height": 34
        },
        "id": "qBngYsy8Hgyg",
        "outputId": "f037aa21-f5e0-4bb1-96ba-a1ec46b0ee15"
      },
      "execution_count": 88,
      "outputs": [
        {
          "output_type": "display_data",
          "data": {
            "text/html": [
              "5"
            ],
            "text/markdown": "5",
            "text/latex": "5",
            "text/plain": [
              "[1] 5"
            ]
          },
          "metadata": {}
        }
      ]
    }
  ]
}