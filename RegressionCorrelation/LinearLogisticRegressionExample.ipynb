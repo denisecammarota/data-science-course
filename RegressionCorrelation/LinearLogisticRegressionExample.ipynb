{
  "nbformat": 4,
  "nbformat_minor": 0,
  "metadata": {
    "colab": {
      "name": "LinearRegressionExample.ipynb",
      "provenance": [],
      "collapsed_sections": [],
      "authorship_tag": "ABX9TyPbeFnyWia6p9i6T2lis2mp",
      "include_colab_link": true
    },
    "kernelspec": {
      "name": "ir",
      "display_name": "R"
    },
    "language_info": {
      "name": "R"
    }
  },
  "cells": [
    {
      "cell_type": "markdown",
      "metadata": {
        "id": "view-in-github",
        "colab_type": "text"
      },
      "source": [
        "<a href=\"https://colab.research.google.com/github/denisecammarota/data-science-course/blob/main/RegressionCorrelation/LinearLogisticRegressionExample.ipynb\" target=\"_parent\"><img src=\"https://colab.research.google.com/assets/colab-badge.svg\" alt=\"Open In Colab\"/></a>"
      ]
    },
    {
      "cell_type": "markdown",
      "source": [
        "# Linear Regression Example\n",
        "In this notebook, we have learnt how to do linear regression in R in class."
      ],
      "metadata": {
        "id": "q8dhqSWLwXDQ"
      }
    },
    {
      "cell_type": "markdown",
      "source": [
        "## Loading and visualizing the data\n",
        "\n",
        "Let us first load the data and see how many variables, their type, etc."
      ],
      "metadata": {
        "id": "M0hjHhlwwWsX"
      }
    },
    {
      "cell_type": "code",
      "execution_count": 3,
      "metadata": {
        "id": "KySZbermwIly"
      },
      "outputs": [],
      "source": [
        "h <- read.csv('regresiones1.csv',sep=';')"
      ]
    },
    {
      "cell_type": "code",
      "source": [
        "head(h) # a preliminary view of our data, we have two columns "
      ],
      "metadata": {
        "colab": {
          "base_uri": "https://localhost:8080/",
          "height": 286
        },
        "id": "02aj_pJfyfF9",
        "outputId": "6c4abd3f-c78f-4f5c-99c8-10dfb98d77ab"
      },
      "execution_count": 5,
      "outputs": [
        {
          "output_type": "display_data",
          "data": {
            "text/html": [
              "<table class=\"dataframe\">\n",
              "<caption>A data.frame: 6 × 2</caption>\n",
              "<thead>\n",
              "\t<tr><th></th><th scope=col>X</th><th scope=col>Y</th></tr>\n",
              "\t<tr><th></th><th scope=col>&lt;int&gt;</th><th scope=col>&lt;dbl&gt;</th></tr>\n",
              "</thead>\n",
              "<tbody>\n",
              "\t<tr><th scope=row>1</th><td>1</td><td> 8.05</td></tr>\n",
              "\t<tr><th scope=row>2</th><td>2</td><td>11.06</td></tr>\n",
              "\t<tr><th scope=row>3</th><td>3</td><td>14.06</td></tr>\n",
              "\t<tr><th scope=row>4</th><td>4</td><td>17.04</td></tr>\n",
              "\t<tr><th scope=row>5</th><td>5</td><td>20.09</td></tr>\n",
              "\t<tr><th scope=row>6</th><td>6</td><td>23.01</td></tr>\n",
              "</tbody>\n",
              "</table>\n"
            ],
            "text/markdown": "\nA data.frame: 6 × 2\n\n| <!--/--> | X &lt;int&gt; | Y &lt;dbl&gt; |\n|---|---|---|\n| 1 | 1 |  8.05 |\n| 2 | 2 | 11.06 |\n| 3 | 3 | 14.06 |\n| 4 | 4 | 17.04 |\n| 5 | 5 | 20.09 |\n| 6 | 6 | 23.01 |\n\n",
            "text/latex": "A data.frame: 6 × 2\n\\begin{tabular}{r|ll}\n  & X & Y\\\\\n  & <int> & <dbl>\\\\\n\\hline\n\t1 & 1 &  8.05\\\\\n\t2 & 2 & 11.06\\\\\n\t3 & 3 & 14.06\\\\\n\t4 & 4 & 17.04\\\\\n\t5 & 5 & 20.09\\\\\n\t6 & 6 & 23.01\\\\\n\\end{tabular}\n",
            "text/plain": [
              "  X Y    \n",
              "1 1  8.05\n",
              "2 2 11.06\n",
              "3 3 14.06\n",
              "4 4 17.04\n",
              "5 5 20.09\n",
              "6 6 23.01"
            ]
          },
          "metadata": {}
        }
      ]
    },
    {
      "cell_type": "code",
      "source": [
        "print(paste('Number of rows: ',nrow(h))) #we have 20 rows and 2 columns, X and Y variables "
      ],
      "metadata": {
        "colab": {
          "base_uri": "https://localhost:8080/"
        },
        "id": "j8AoF3MdyyOd",
        "outputId": "1fc56a9a-5940-41f2-d761-0d0b30e0cce5"
      },
      "execution_count": 7,
      "outputs": [
        {
          "output_type": "stream",
          "name": "stdout",
          "text": [
            "[1] \"Number of rows:  20\"\n"
          ]
        }
      ]
    },
    {
      "cell_type": "code",
      "source": [
        "plot(h$X,h$Y,xlab='X',ylab='Y') #now we can see a preliminary plot here as well, it looks pretty much like a line really "
      ],
      "metadata": {
        "colab": {
          "base_uri": "https://localhost:8080/",
          "height": 437
        },
        "id": "SINPdwLjzIdW",
        "outputId": "c84ab425-e7f0-4c24-f8b6-34d93c4ae8df"
      },
      "execution_count": 9,
      "outputs": [
        {
          "output_type": "display_data",
          "data": {
            "text/plain": [
              "plot without title"
            ],
            "image/png": "[encoded data removed]"
          },
          "metadata": {
            "image/png": {
              "width": 420,
              "height": 420
            }
          }
        }
      ]
    },
    {
      "cell_type": "markdown",
      "source": [
        "## Now we're going to do the linear regression in itself\n",
        "\n",
        "First, we need to create and save the model for regression and fitting. The function to do this is $lm$, where we will indicate the type of model. In this case, we of course choose a linear model. "
      ],
      "metadata": {
        "id": "LrnKSiCIylyJ"
      }
    },
    {
      "cell_type": "code",
      "source": [
        "linear_model <- lm(data=h,formula = Y ~ X)"
      ],
      "metadata": {
        "id": "HiuEdXQ80EC6"
      },
      "execution_count": 10,
      "outputs": []
    },
    {
      "cell_type": "markdown",
      "source": [
        "To see how the model ends up being, we will see which are the coefficients and compute some summary statistics as well, provided by the model. Nothing about this is explained in class so far, but it is clear for me that this is a clearly good fit. "
      ],
      "metadata": {
        "id": "UzuTUZN11hd6"
      }
    },
    {
      "cell_type": "code",
      "source": [
        "print(\"Coeficientes:\")\n",
        "print(linear_model$coefficients)"
      ],
      "metadata": {
        "colab": {
          "base_uri": "https://localhost:8080/"
        },
        "id": "cMQ6TEBG0EdC",
        "outputId": "4d2960dc-5c66-4e8d-b5d0-2a2aa9505fcb"
      },
      "execution_count": 11,
      "outputs": [
        {
          "output_type": "stream",
          "name": "stdout",
          "text": [
            "[1] \"Coeficientes:\"\n",
            "(Intercept)           X \n",
            "   5.045632    3.001083 \n"
          ]
        }
      ]
    },
    {
      "cell_type": "code",
      "source": [
        "summary(linear_model)"
      ],
      "metadata": {
        "colab": {
          "base_uri": "https://localhost:8080/",
          "height": 330
        },
        "id": "Y0whWbU31vrA",
        "outputId": "d7a3731a-0d86-4058-94e2-55fb572bc5ba"
      },
      "execution_count": 12,
      "outputs": [
        {
          "output_type": "display_data",
          "data": {
            "text/plain": [
              "\n",
              "Call:\n",
              "lm(formula = Y ~ X, data = h)\n",
              "\n",
              "Residuals:\n",
              "      Min        1Q    Median        3Q       Max \n",
              "-0.042128 -0.018353  0.000038  0.022188  0.039211 \n",
              "\n",
              "Coefficients:\n",
              "            Estimate Std. Error t value Pr(>|t|)    \n",
              "(Intercept) 5.045632   0.012310   409.9   <2e-16 ***\n",
              "X           3.001083   0.001028  2920.4   <2e-16 ***\n",
              "---\n",
              "Signif. codes:  0 ‘***’ 0.001 ‘**’ 0.01 ‘*’ 0.05 ‘.’ 0.1 ‘ ’ 1\n",
              "\n",
              "Residual standard error: 0.0265 on 18 degrees of freedom\n",
              "Multiple R-squared:      1,\tAdjusted R-squared:      1 \n",
              "F-statistic: 8.529e+06 on 1 and 18 DF,  p-value: < 2.2e-16\n"
            ]
          },
          "metadata": {}
        }
      ]
    },
    {
      "cell_type": "markdown",
      "source": [
        "Now, we will plot the corresponding line along with the data used for fitting. "
      ],
      "metadata": {
        "id": "E0y12bT82Ml5"
      }
    },
    {
      "cell_type": "code",
      "source": [
        "plot(h$X,h$Y,xlab=\"X\",ylab=\"Y\")\n",
        "abline(linear_model,col='red')"
      ],
      "metadata": {
        "colab": {
          "base_uri": "https://localhost:8080/",
          "height": 437
        },
        "id": "Su7oIq0G2MH6",
        "outputId": "b55d9b63-651b-4466-e413-659297e724df"
      },
      "execution_count": 19,
      "outputs": [
        {
          "output_type": "display_data",
          "data": {
            "text/plain": [
              "plot without title"
            ],
            "image/png": "[encoded data removed]"
          },
          "metadata": {
            "image/png": {
              "width": 420,
              "height": 420
            }
          }
        }
      ]
    },
    {
      "cell_type": "markdown",
      "source": [
        "## Another regression: Logistic Regression\n",
        "\n",
        "Now we will do another example for logistic regression, again we will load and explore data before. As we have done it many times before, I won't dwell on these steps again. Summing up, this datasets has:\n",
        "- 201 observations\n",
        "- 3 variables per observation: Xi, Yi and Ci\n",
        "- Xi and Yi are numeric with the ranges and statistics below\n",
        "- Ci is categorical with two possible values A and B. The first one has 116 observations while the second one has 85. "
      ],
      "metadata": {
        "id": "n4b4aVUe3lxh"
      }
    },
    {
      "cell_type": "code",
      "source": [
        "h <- read.csv('regresionlogistica.csv',sep=';')"
      ],
      "metadata": {
        "id": "bNInG3DW4g5e"
      },
      "execution_count": 22,
      "outputs": []
    },
    {
      "cell_type": "code",
      "source": [
        "head(h)"
      ],
      "metadata": {
        "colab": {
          "base_uri": "https://localhost:8080/",
          "height": 286
        },
        "id": "tChvcWFw4g2t",
        "outputId": "3963d3d3-224c-4a72-ba53-19e0f6b1cbaf"
      },
      "execution_count": 23,
      "outputs": [
        {
          "output_type": "display_data",
          "data": {
            "text/html": [
              "<table class=\"dataframe\">\n",
              "<caption>A data.frame: 6 × 3</caption>\n",
              "<thead>\n",
              "\t<tr><th></th><th scope=col>Xi</th><th scope=col>Yi</th><th scope=col>Ci</th></tr>\n",
              "\t<tr><th></th><th scope=col>&lt;dbl&gt;</th><th scope=col>&lt;dbl&gt;</th><th scope=col>&lt;chr&gt;</th></tr>\n",
              "</thead>\n",
              "<tbody>\n",
              "\t<tr><th scope=row>1</th><td>-10.0</td><td>7.19509e-13</td><td>B</td></tr>\n",
              "\t<tr><th scope=row>2</th><td> -9.9</td><td>9.24364e-13</td><td>B</td></tr>\n",
              "\t<tr><th scope=row>3</th><td> -9.8</td><td>1.28391e-12</td><td>B</td></tr>\n",
              "\t<tr><th scope=row>4</th><td> -9.7</td><td>1.64530e-12</td><td>B</td></tr>\n",
              "\t<tr><th scope=row>5</th><td> -9.6</td><td>2.37242e-12</td><td>B</td></tr>\n",
              "\t<tr><th scope=row>6</th><td> -9.5</td><td>3.02057e-12</td><td>B</td></tr>\n",
              "</tbody>\n",
              "</table>\n"
            ],
            "text/markdown": "\nA data.frame: 6 × 3\n\n| <!--/--> | Xi &lt;dbl&gt; | Yi &lt;dbl&gt; | Ci &lt;chr&gt; |\n|---|---|---|---|\n| 1 | -10.0 | 7.19509e-13 | B |\n| 2 |  -9.9 | 9.24364e-13 | B |\n| 3 |  -9.8 | 1.28391e-12 | B |\n| 4 |  -9.7 | 1.64530e-12 | B |\n| 5 |  -9.6 | 2.37242e-12 | B |\n| 6 |  -9.5 | 3.02057e-12 | B |\n\n",
            "text/latex": "A data.frame: 6 × 3\n\\begin{tabular}{r|lll}\n  & Xi & Yi & Ci\\\\\n  & <dbl> & <dbl> & <chr>\\\\\n\\hline\n\t1 & -10.0 & 7.19509e-13 & B\\\\\n\t2 &  -9.9 & 9.24364e-13 & B\\\\\n\t3 &  -9.8 & 1.28391e-12 & B\\\\\n\t4 &  -9.7 & 1.64530e-12 & B\\\\\n\t5 &  -9.6 & 2.37242e-12 & B\\\\\n\t6 &  -9.5 & 3.02057e-12 & B\\\\\n\\end{tabular}\n",
            "text/plain": [
              "  Xi    Yi          Ci\n",
              "1 -10.0 7.19509e-13 B \n",
              "2  -9.9 9.24364e-13 B \n",
              "3  -9.8 1.28391e-12 B \n",
              "4  -9.7 1.64530e-12 B \n",
              "5  -9.6 2.37242e-12 B \n",
              "6  -9.5 3.02057e-12 B "
            ]
          },
          "metadata": {}
        }
      ]
    },
    {
      "cell_type": "code",
      "source": [
        "summary(h)"
      ],
      "metadata": {
        "colab": {
          "base_uri": "https://localhost:8080/",
          "height": 138
        },
        "id": "xs82A9Xz4gvQ",
        "outputId": "321a5010-b788-410b-98d8-f14531772b0b"
      },
      "execution_count": 24,
      "outputs": [
        {
          "output_type": "display_data",
          "data": {
            "text/plain": [
              "       Xi            Yi                 Ci           \n",
              " Min.   :-10   Min.   :0.0000000   Length:201        \n",
              " 1st Qu.: -5   1st Qu.:0.0000022   Class :character  \n",
              " Median :  0   Median :0.8748729   Mode  :character  \n",
              " Mean   :  0   Mean   :0.5344518                     \n",
              " 3rd Qu.:  5   3rd Qu.:1.0025866                     \n",
              " Max.   : 10   Max.   :1.0498377                     "
            ]
          },
          "metadata": {}
        }
      ]
    },
    {
      "cell_type": "code",
      "source": [
        "str(h)"
      ],
      "metadata": {
        "colab": {
          "base_uri": "https://localhost:8080/"
        },
        "id": "jBq01tZa6Saz",
        "outputId": "64a5f4cb-8042-410b-eb48-4d6225920d2a"
      },
      "execution_count": 34,
      "outputs": [
        {
          "output_type": "stream",
          "name": "stdout",
          "text": [
            "'data.frame':\t201 obs. of  3 variables:\n",
            " $ Xi: num  -10 -9.9 -9.8 -9.7 -9.6 -9.5 -9.4 -9.3 -9.2 -9.1 ...\n",
            " $ Yi: num  7.20e-13 9.24e-13 1.28e-12 1.65e-12 2.37e-12 ...\n",
            " $ Ci: chr  \"B\" \"B\" \"B\" \"B\" ...\n"
          ]
        }
      ]
    },
    {
      "cell_type": "code",
      "source": [
        "table(h$Ci)"
      ],
      "metadata": {
        "colab": {
          "base_uri": "https://localhost:8080/",
          "height": 69
        },
        "id": "cwEi8vdg6xAc",
        "outputId": "6bcd9feb-f499-46bd-c070-a758c2276d4d"
      },
      "execution_count": 39,
      "outputs": [
        {
          "output_type": "display_data",
          "data": {
            "text/plain": [
              "\n",
              "  A   B \n",
              "116  85 "
            ]
          },
          "metadata": {}
        }
      ]
    },
    {
      "cell_type": "markdown",
      "source": [
        "Let us then prepare the data for the logistic regression. We have to replace strings of categories for numbers. Meaning, we will assign a number to A and a number to B. In this case, we arbitrarely decide on A = 1 and B = 0. "
      ],
      "metadata": {
        "id": "AnZK0za57c-N"
      }
    },
    {
      "cell_type": "code",
      "source": [
        "h$Ci <- ifelse(h$Ci == 'A',1,0)"
      ],
      "metadata": {
        "id": "oz5CT6zs7chV"
      },
      "execution_count": 41,
      "outputs": []
    },
    {
      "cell_type": "markdown",
      "source": [
        "Let's check if our changed sticked. They did. "
      ],
      "metadata": {
        "id": "fmpGtgEv84NA"
      }
    },
    {
      "cell_type": "code",
      "source": [
        "head(h)"
      ],
      "metadata": {
        "colab": {
          "base_uri": "https://localhost:8080/",
          "height": 286
        },
        "id": "ygXKKpmw7F79",
        "outputId": "af6aca29-3271-4c94-d767-9410e4088d92"
      },
      "execution_count": 42,
      "outputs": [
        {
          "output_type": "display_data",
          "data": {
            "text/html": [
              "<table class=\"dataframe\">\n",
              "<caption>A data.frame: 6 × 3</caption>\n",
              "<thead>\n",
              "\t<tr><th></th><th scope=col>Xi</th><th scope=col>Yi</th><th scope=col>Ci</th></tr>\n",
              "\t<tr><th></th><th scope=col>&lt;dbl&gt;</th><th scope=col>&lt;dbl&gt;</th><th scope=col>&lt;dbl&gt;</th></tr>\n",
              "</thead>\n",
              "<tbody>\n",
              "\t<tr><th scope=row>1</th><td>-10.0</td><td>7.19509e-13</td><td>0</td></tr>\n",
              "\t<tr><th scope=row>2</th><td> -9.9</td><td>9.24364e-13</td><td>0</td></tr>\n",
              "\t<tr><th scope=row>3</th><td> -9.8</td><td>1.28391e-12</td><td>0</td></tr>\n",
              "\t<tr><th scope=row>4</th><td> -9.7</td><td>1.64530e-12</td><td>0</td></tr>\n",
              "\t<tr><th scope=row>5</th><td> -9.6</td><td>2.37242e-12</td><td>0</td></tr>\n",
              "\t<tr><th scope=row>6</th><td> -9.5</td><td>3.02057e-12</td><td>0</td></tr>\n",
              "</tbody>\n",
              "</table>\n"
            ],
            "text/markdown": "\nA data.frame: 6 × 3\n\n| <!--/--> | Xi &lt;dbl&gt; | Yi &lt;dbl&gt; | Ci &lt;dbl&gt; |\n|---|---|---|---|\n| 1 | -10.0 | 7.19509e-13 | 0 |\n| 2 |  -9.9 | 9.24364e-13 | 0 |\n| 3 |  -9.8 | 1.28391e-12 | 0 |\n| 4 |  -9.7 | 1.64530e-12 | 0 |\n| 5 |  -9.6 | 2.37242e-12 | 0 |\n| 6 |  -9.5 | 3.02057e-12 | 0 |\n\n",
            "text/latex": "A data.frame: 6 × 3\n\\begin{tabular}{r|lll}\n  & Xi & Yi & Ci\\\\\n  & <dbl> & <dbl> & <dbl>\\\\\n\\hline\n\t1 & -10.0 & 7.19509e-13 & 0\\\\\n\t2 &  -9.9 & 9.24364e-13 & 0\\\\\n\t3 &  -9.8 & 1.28391e-12 & 0\\\\\n\t4 &  -9.7 & 1.64530e-12 & 0\\\\\n\t5 &  -9.6 & 2.37242e-12 & 0\\\\\n\t6 &  -9.5 & 3.02057e-12 & 0\\\\\n\\end{tabular}\n",
            "text/plain": [
              "  Xi    Yi          Ci\n",
              "1 -10.0 7.19509e-13 0 \n",
              "2  -9.9 9.24364e-13 0 \n",
              "3  -9.8 1.28391e-12 0 \n",
              "4  -9.7 1.64530e-12 0 \n",
              "5  -9.6 2.37242e-12 0 \n",
              "6  -9.5 3.02057e-12 0 "
            ]
          },
          "metadata": {}
        }
      ]
    },
    {
      "cell_type": "markdown",
      "source": [
        "Now we will generate the logistic regression model, using the function $glm$. This is all we can do so far. In a real world application, we would have to divide into testing and training data and make predictions. For now, we have only commented the corresponding code, supposing we have an $h2$ dataframe of similar data. In that case, we will have a prediction for $h2$. However, they won't have the same categorical form, but will be a number between 0 and 1. Therefore, we will put a threshold to determine if they correspond to A(0) or B(1), depending on the problem."
      ],
      "metadata": {
        "id": "0d8vQJ1k9Ccm"
      }
    },
    {
      "cell_type": "code",
      "source": [
        "logistic_model <- glm(data=h,formula = Ci ~ Xi + Yi, family='gaussian')"
      ],
      "metadata": {
        "id": "NiwAOfvd8-0W"
      },
      "execution_count": 44,
      "outputs": []
    },
    {
      "cell_type": "code",
      "source": [
        "# p <- predict(logistic_model,newdata=h2)"
      ],
      "metadata": {
        "id": "j1njTfPO-Smq"
      },
      "execution_count": null,
      "outputs": []
    }
  ]
}